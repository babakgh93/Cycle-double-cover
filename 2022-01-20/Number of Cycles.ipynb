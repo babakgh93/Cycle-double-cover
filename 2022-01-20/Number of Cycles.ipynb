{
 "cells": [
  {
   "cell_type": "code",
   "execution_count": 21,
   "metadata": {},
   "outputs": [],
   "source": [
    "def Set_Num_cycles(G):\n",
    "    #number of cycles of fixed length contains the edge (0,1)\n",
    "\n",
    "    V = G.vertices()\n",
    "    E = G.edges(labels=None)\n",
    "    T=[]\n",
    "    for (x,y) in E:\n",
    "        T.append(G.all_paths(x,y))\n",
    "\n",
    "    S = [[] for i in range (len(V)-2)]\n",
    "\n",
    "    for k in range (0, len(V)-2):\n",
    "        Sum = 0\n",
    "        for j in range(len(T[0])):\n",
    "            if len(T[0][j]) == k+3:\n",
    "                Sum = Sum + 1\n",
    "        S[k].append((k+3,Sum))\n",
    "    return S\n",
    "\n",
    "def Prb(G):\n",
    "    #Sum over cycles contains edges 12 \n",
    "    Sum = 0\n",
    "    for i in range (len (Set_Num_cycles(G))):\n",
    "        if Set_Num_cycles(G)[i][0][1] != 0:\n",
    "            s = (1/2**(Set_Num_cycles(G)[i][0][0]))*Set_Num_cycles(G)[i][0][1]\n",
    "            Sum = Sum + s\n",
    "    return Sum\n"
   ]
  },
  {
   "cell_type": "code",
   "execution_count": 22,
   "metadata": {
    "scrolled": true
   },
   "outputs": [
    {
     "data": {
      "text/plain": [
       "(31/128,\n",
       " [[(3, 0)],\n",
       "  [(4, 0)],\n",
       "  [(5, 4)],\n",
       "  [(6, 4)],\n",
       "  [(7, 0)],\n",
       "  [(8, 8)],\n",
       "  [(9, 12)],\n",
       "  [(10, 0)]])"
      ]
     },
     "execution_count": 22,
     "metadata": {},
     "output_type": "execute_result"
    }
   ],
   "source": [
    "G = graphs.PetersenGraph()\n",
    "Prb(G), Set_Num_cycles(G)"
   ]
  },
  {
   "cell_type": "code",
   "execution_count": 23,
   "metadata": {},
   "outputs": [
    {
     "data": {
      "text/plain": [
       "703/4096"
      ]
     },
     "execution_count": 23,
     "metadata": {},
     "output_type": "execute_result"
    }
   ],
   "source": [
    "H = graphs.BlanusaFirstSnarkGraph()\n",
    "Prb(H)"
   ]
  },
  {
   "cell_type": "code",
   "execution_count": 24,
   "metadata": {},
   "outputs": [
    {
     "data": {
      "text/plain": [
       "11637/65536"
      ]
     },
     "execution_count": 24,
     "metadata": {},
     "output_type": "execute_result"
    }
   ],
   "source": [
    "F = graphs.BlanusaSecondSnarkGraph()\n",
    "Prb(F)"
   ]
  },
  {
   "cell_type": "code",
   "execution_count": 32,
   "metadata": {},
   "outputs": [
    {
     "data": {
      "text/plain": [
       "44315/262144"
      ]
     },
     "execution_count": 32,
     "metadata": {},
     "output_type": "execute_result"
    }
   ],
   "source": [
    "D = graphs.FlowerSnark()\n",
    "Prb(D)"
   ]
  },
  {
   "cell_type": "code",
   "execution_count": null,
   "metadata": {},
   "outputs": [],
   "source": []
  }
 ],
 "metadata": {
  "kernelspec": {
   "display_name": "SageMath 9.1",
   "language": "sage",
   "name": "sagemath"
  },
  "language_info": {
   "codemirror_mode": {
    "name": "ipython",
    "version": 3
   },
   "file_extension": ".py",
   "mimetype": "text/x-python",
   "name": "python",
   "nbconvert_exporter": "python",
   "pygments_lexer": "ipython3",
   "version": "3.7.3"
  }
 },
 "nbformat": 4,
 "nbformat_minor": 2
}
