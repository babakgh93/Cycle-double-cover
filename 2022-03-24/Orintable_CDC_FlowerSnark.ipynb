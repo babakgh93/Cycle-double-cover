{
 "cells": [
  {
   "cell_type": "code",
   "execution_count": 3,
   "metadata": {},
   "outputs": [],
   "source": [
    "def neighbors(G):\n",
    "    \n",
    "        #this function gives me the set of all neighbors of vertices in the graph.\n",
    "        \n",
    "    V = G.vertices()\n",
    "    E = G.edges(labels=None)\n",
    "\n",
    "    N = []\n",
    "    for i in V:\n",
    "        s=[]\n",
    "        for j in V:\n",
    "            if (i,j) in E or (j,i) in E:\n",
    "                s.append(j)\n",
    "        N.append(s)\n",
    "    return N\n",
    "    \n",
    "from itertools import permutations\n",
    "def Perm(G):\n",
    "    \n",
    "  #this function computes all permutations of the neighbors of each vertex i in {0,1,...,n} and returns them in 2-dim array.\n",
    "\n",
    "    Permutations = []\n",
    "    for i in range(len(neighbors(G))):\n",
    "        perm = permutations(neighbors(G)[i])\n",
    "        Permutations.append(list(perm)) \n",
    "   \n",
    "    return [[Permutations[i][j] for i in range (len(Permutations))] for j in range (0,2)]\n",
    "\n",
    "\n",
    "def phi(S,x):\n",
    "    #in permutation S = (0,1,...,n-1) we have phi(S,i) = i+1 (mod n).\n",
    "    for i in range (0,len(S)-1):\n",
    "        if S[i] == x:\n",
    "            return S[i+1]\n",
    "    for i in range (len(S)-1,len(S)):\n",
    "        if S[i] == x:\n",
    "            return S[0]\n",
    "        \n",
    "G = graphs.FlowerSnark()\n",
    "V = G.vertices()\n",
    "E = G.edges(labels=None)\n",
    "\n",
    "A = Perm(G)[0]\n",
    "B = Perm(G)[1]\n",
    "\n",
    "def FW(e,j,x):\n",
    "    if j == 0 and x == 0:\n",
    "        e0 = e\n",
    "        FW = [e[0],e[1]]\n",
    "        for i in range (2*len(E)):    \n",
    "            FW.append(phi(A[e[1]],e[0]))\n",
    "            e = (e[1],phi(A[e[1]],e[0]))\n",
    "            if e == e0:\n",
    "                break\n",
    "        return FW\n",
    "    else:\n",
    "        T = A[j]\n",
    "        A[j] = B[j]\n",
    "        B[j] = T\n",
    "        e0 = e\n",
    "        FW = [e[0],e[1]]\n",
    "        for i in range (2*len(E)):    \n",
    "            FW.append(phi(A[e[1]],e[0]))\n",
    "            e = (e[1],phi(A[e[1]],e[0]))\n",
    "            if e == e0:\n",
    "                break\n",
    "        return FW"
   ]
  },
  {
   "cell_type": "code",
   "execution_count": 7,
   "metadata": {},
   "outputs": [
    {
     "data": {
      "text/plain": [
       "[0,\n",
       " 1,\n",
       " 2,\n",
       " 3,\n",
       " 4,\n",
       " 5,\n",
       " 6,\n",
       " 7,\n",
       " 8,\n",
       " 9,\n",
       " 10,\n",
       " 11,\n",
       " 12,\n",
       " 13,\n",
       " 14,\n",
       " 0,\n",
       " 15,\n",
       " 16,\n",
       " 17,\n",
       " 18,\n",
       " 19,\n",
       " 12,\n",
       " 11,\n",
       " 1,\n",
       " 0,\n",
       " 14,\n",
       " 4,\n",
       " 3,\n",
       " 16,\n",
       " 15,\n",
       " 19,\n",
       " 18,\n",
       " 9,\n",
       " 8,\n",
       " 13,\n",
       " 12,\n",
       " 19,\n",
       " 15,\n",
       " 0,\n",
       " 1]"
      ]
     },
     "execution_count": 7,
     "metadata": {},
     "output_type": "execute_result"
    }
   ],
   "source": [
    "FW((0,1),0,0)"
   ]
  },
  {
   "cell_type": "code",
   "execution_count": 8,
   "metadata": {},
   "outputs": [
    {
     "data": {
      "text/plain": [
       "[0, 1, 2, 3, 4, 5, 6, 7, 8, 9, 10, 11, 12, 13, 14, 0, 1]"
      ]
     },
     "execution_count": 8,
     "metadata": {},
     "output_type": "execute_result"
    }
   ],
   "source": [
    "FW((0,1),0,1)"
   ]
  },
  {
   "cell_type": "code",
   "execution_count": 9,
   "metadata": {},
   "outputs": [
    {
     "data": {
      "text/plain": [
       "[1, 0, 15, 16, 17, 18, 19, 12, 11, 1, 0]"
      ]
     },
     "execution_count": 9,
     "metadata": {},
     "output_type": "execute_result"
    }
   ],
   "source": [
    "FW((1,0),0,0)"
   ]
  },
  {
   "cell_type": "code",
   "execution_count": 10,
   "metadata": {},
   "outputs": [
    {
     "data": {
      "text/plain": [
       "[2, 1, 11, 10, 5, 4, 14, 13, 8, 7, 2, 1]"
      ]
     },
     "execution_count": 10,
     "metadata": {},
     "output_type": "execute_result"
    }
   ],
   "source": [
    "FW((2,1),0,0)"
   ]
  },
  {
   "cell_type": "code",
   "execution_count": 11,
   "metadata": {},
   "outputs": [
    {
     "data": {
      "text/plain": [
       "[3, 2, 7, 6, 17, 16, 3, 2]"
      ]
     },
     "execution_count": 11,
     "metadata": {},
     "output_type": "execute_result"
    }
   ],
   "source": [
    "FW((3,2),0,0)"
   ]
  },
  {
   "cell_type": "code",
   "execution_count": 13,
   "metadata": {},
   "outputs": [
    {
     "data": {
      "text/plain": [
       "[6, 5, 10, 9, 18, 17, 6, 5]"
      ]
     },
     "execution_count": 13,
     "metadata": {},
     "output_type": "execute_result"
    }
   ],
   "source": [
    "FW((6,5),0,0)"
   ]
  },
  {
   "cell_type": "code",
   "execution_count": 26,
   "metadata": {},
   "outputs": [
    {
     "data": {
      "text/plain": [
       "[9, 8, 13, 12, 19, 15, 0, 14, 4, 3, 16, 15, 19, 18, 9, 8]"
      ]
     },
     "execution_count": 26,
     "metadata": {},
     "output_type": "execute_result"
    }
   ],
   "source": [
    "FW((9,8),0,0)"
   ]
  },
  {
   "cell_type": "code",
   "execution_count": null,
   "metadata": {},
   "outputs": [],
   "source": []
  }
 ],
 "metadata": {
  "kernelspec": {
   "display_name": "SageMath 9.4",
   "language": "sage",
   "name": "sagemath"
  },
  "language_info": {
   "codemirror_mode": {
    "name": "ipython",
    "version": 3
   },
   "file_extension": ".py",
   "mimetype": "text/x-python",
   "name": "python",
   "nbconvert_exporter": "python",
   "pygments_lexer": "ipython3",
   "version": "3.7.3"
  }
 },
 "nbformat": 4,
 "nbformat_minor": 4
}
