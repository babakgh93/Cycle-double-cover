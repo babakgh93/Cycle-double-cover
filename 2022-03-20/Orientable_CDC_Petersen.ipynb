{
 "cells": [
  {
   "cell_type": "code",
   "execution_count": 2,
   "metadata": {},
   "outputs": [],
   "source": [
    "def neighbors(G):\n",
    "    \n",
    "        #this function gives me the set of all neighbors of vertices in the graph.\n",
    "        \n",
    "    V = G.vertices()\n",
    "    E = G.edges(labels=None)\n",
    "\n",
    "    N = []\n",
    "    for i in V:\n",
    "        s=[]\n",
    "        for j in V:\n",
    "            if (i,j) in E or (j,i) in E:\n",
    "                s.append(j)\n",
    "        N.append(s)\n",
    "    return N\n",
    "    \n",
    "from itertools import permutations\n",
    "def Perm(G):\n",
    "    \n",
    "  #this function computes all permutations of the neighbors of each vertex i in {0,1,...,n} and returns them in 2-dim array.\n",
    "\n",
    "    Permutations = []\n",
    "    for i in range(len(neighbors(G))):\n",
    "        perm = permutations(neighbors(G)[i])\n",
    "        Permutations.append(list(perm)) \n",
    "   \n",
    "    return [[Permutations[i][j] for i in range (len(Permutations))] for j in range (0,2)]\n",
    "\n",
    "\n",
    "def phi(S,x):\n",
    "    #in permutation S = (0,1,...,n-1) we have phi(S,i) = i+1 (mod n).\n",
    "    for i in range (0,len(S)-1):\n",
    "        if S[i] == x:\n",
    "            return S[i+1]\n",
    "    for i in range (len(S)-1,len(S)):\n",
    "        if S[i] == x:\n",
    "            return S[0]"
   ]
  },
  {
   "cell_type": "code",
   "execution_count": 3,
   "metadata": {},
   "outputs": [],
   "source": [
    "G = graphs.PetersenGraph()\n",
    "V = G.vertices()\n",
    "E = G.edges(labels=None)\n",
    "\n",
    "A = Perm(G)[0]\n",
    "B = Perm(G)[1]\n",
    "\n",
    "def FW(e,j,x):\n",
    "    if j == 0 and x == 0:\n",
    "        e0 = e\n",
    "        FW = [e[0],e[1]]\n",
    "        for i in range (2*len(E)):    \n",
    "            FW.append(phi(A[e[1]],e[0]))\n",
    "            e = (e[1],phi(A[e[1]],e[0]))\n",
    "            if e == e0:\n",
    "                break\n",
    "        return FW\n",
    "    else:\n",
    "        T = A[j]\n",
    "        A[j] = B[j]\n",
    "        B[j] = T\n",
    "        e0 = e\n",
    "        FW = [e[0],e[1]]\n",
    "        for i in range (2*len(E)):    \n",
    "            FW.append(phi(A[e[1]],e[0]))\n",
    "            e = (e[1],phi(A[e[1]],e[0]))\n",
    "            if e == e0:\n",
    "                break\n",
    "        return FW"
   ]
  },
  {
   "cell_type": "code",
   "execution_count": 4,
   "metadata": {},
   "outputs": [
    {
     "data": {
      "text/plain": [
       "[0, 1, 2, 3, 4, 9, 6, 1, 0, 4, 3, 8, 5, 0, 1]"
      ]
     },
     "execution_count": 4,
     "metadata": {},
     "output_type": "execute_result"
    }
   ],
   "source": [
    "FW((0,1),0,0)"
   ]
  },
  {
   "cell_type": "code",
   "execution_count": 5,
   "metadata": {},
   "outputs": [
    {
     "data": {
      "text/plain": [
       "[0, 1, 6, 8, 3, 2, 7, 5, 8, 6, 9, 7, 2, 1, 0, 4, 3, 8, 5, 0, 1]"
      ]
     },
     "execution_count": 5,
     "metadata": {},
     "output_type": "execute_result"
    }
   ],
   "source": [
    "FW((0,1), 1,1)"
   ]
  },
  {
   "cell_type": "code",
   "execution_count": 6,
   "metadata": {},
   "outputs": [
    {
     "data": {
      "text/plain": [
       "[0, 1, 6, 8, 5, 0, 1]"
      ]
     },
     "execution_count": 6,
     "metadata": {},
     "output_type": "execute_result"
    }
   ],
   "source": [
    "FW((0,1), 8,1)"
   ]
  },
  {
   "cell_type": "code",
   "execution_count": 7,
   "metadata": {},
   "outputs": [
    {
     "data": {
      "text/plain": [
       "[1, 0, 4, 3, 8, 6, 9, 7, 2, 1, 0]"
      ]
     },
     "execution_count": 7,
     "metadata": {},
     "output_type": "execute_result"
    }
   ],
   "source": [
    "FW((1,0), 0,0)"
   ]
  },
  {
   "cell_type": "code",
   "execution_count": 8,
   "metadata": {},
   "outputs": [
    {
     "data": {
      "text/plain": [
       "[0, 5, 7, 9, 4, 0, 5]"
      ]
     },
     "execution_count": 8,
     "metadata": {},
     "output_type": "execute_result"
    }
   ],
   "source": [
    "FW((0,5), 0,0)"
   ]
  },
  {
   "cell_type": "code",
   "execution_count": 9,
   "metadata": {},
   "outputs": [
    {
     "data": {
      "text/plain": [
       "[3, 4, 9, 6, 1, 2, 3, 4]"
      ]
     },
     "execution_count": 9,
     "metadata": {},
     "output_type": "execute_result"
    }
   ],
   "source": [
    "FW((3,4), 0,0)"
   ]
  },
  {
   "cell_type": "code",
   "execution_count": 10,
   "metadata": {},
   "outputs": [
    {
     "data": {
      "text/plain": [
       "[8, 3, 2, 7, 5, 8, 3]"
      ]
     },
     "execution_count": 10,
     "metadata": {},
     "output_type": "execute_result"
    }
   ],
   "source": [
    "FW((8,3), 0,0)"
   ]
  },
  {
   "cell_type": "code",
   "execution_count": null,
   "metadata": {},
   "outputs": [],
   "source": []
  }
 ],
 "metadata": {
  "kernelspec": {
   "display_name": "SageMath 9.4",
   "language": "sage",
   "name": "sagemath"
  },
  "language_info": {
   "codemirror_mode": {
    "name": "ipython",
    "version": 3
   },
   "file_extension": ".py",
   "mimetype": "text/x-python",
   "name": "python",
   "nbconvert_exporter": "python",
   "pygments_lexer": "ipython3",
   "version": "3.7.3"
  }
 },
 "nbformat": 4,
 "nbformat_minor": 4
}
