{
 "cells": [
  {
   "cell_type": "code",
   "execution_count": 1,
   "id": "20237df3",
   "metadata": {},
   "outputs": [],
   "source": [
    "import numpy as np"
   ]
  },
  {
   "cell_type": "code",
   "execution_count": 1,
   "id": "f538a963",
   "metadata": {},
   "outputs": [],
   "source": [
    "import random\n",
    "\n",
    "def getD(G): \n",
    "    V = G.vertices()\n",
    "    D = [None] + [(v,w,i) for v in V for w in G.neighbors(v) for i in [0,1]]\n",
    "    return D\n",
    "\n",
    "def twisted_faces2(G, do_twist=True):\n",
    "    \"\"\"\n",
    "      Now for general G. \n",
    "    \"\"\" \n",
    "    V = G.vertices()\n",
    "    D = getD(G)\n",
    "    Rlist = []\n",
    "    for v in V:\n",
    "        N = G.neighbors(v)\n",
    "        d = len(N)\n",
    "        random.shuffle(N)\n",
    "        for x,y in zip(N,N[1:]+[N[0]]):\n",
    "            Rlist.append((D.index((v,x,1)),D.index((v,y,0))))\n",
    "            \n",
    "    R = Permutation(Rlist)\n",
    "    \n",
    "    Llist = []\n",
    "    E = G.edges(labels=None)\n",
    "    if do_twist:\n",
    "        twists = [random.randint(0,1) for _ in E]\n",
    "    else:\n",
    "        twists = [1 for _ in E]\n",
    "    for (u,v),t in zip(E,twists):\n",
    "        Llist.append((D.index((u,v,0)),D.index((v,u,t))))\n",
    "        Llist.append((D.index((u,v,1)),D.index((v,u,(t+1)%2))))\n",
    "\n",
    "        #Llist.append(((u,v,1),(v,u,(t+1)%2)))\n",
    "        #Llist.append(None)\n",
    "    L = Permutation(Llist)\n",
    "\n",
    "        \n",
    "    return R*L #, R, L, D"
   ]
  },
  {
   "cell_type": "code",
   "execution_count": 2,
   "id": "ea8bd194",
   "metadata": {},
   "outputs": [],
   "source": [
    "def sample_number_of_twisted_faces(G,samples=10,do_twist=True):\n",
    "    return [len(twisted_faces2(G,do_twist=do_twist).cycle_type())/2 for _ in range(samples)]\n",
    "\n",
    "def exp_size(L):\n",
    "    return sum(L)/len(L)"
   ]
  },
  {
   "cell_type": "code",
   "execution_count": 3,
   "id": "07f7adce",
   "metadata": {},
   "outputs": [],
   "source": [
    "def equal(e,f):\n",
    "    return set(e[0:2])==set(f[0:2])"
   ]
  },
  {
   "cell_type": "code",
   "execution_count": 4,
   "id": "00074935",
   "metadata": {},
   "outputs": [],
   "source": [
    "def count_bad(G,do_twist=True):\n",
    "    D = getD(G)\n",
    "    F = twisted_faces2(G,do_twist=do_twist)\n",
    "    bad = 0\n",
    "    for face in F.cycle_tuples():\n",
    "        edges = [tuple(sorted(D[x][:2])) for x in face]\n",
    "        bad += len(edges) - len(set(edges))\n",
    "        \n",
    "    return bad/2\n",
    "    \n",
    "def sample_number_of_bad_edges(G,do_twist=True,samples=100):\n",
    "    CDC = 0\n",
    "    L = []\n",
    "    for i in range (samples):\n",
    "        if count_bad(G,do_twist=do_twist) == 0:\n",
    "            CDC += 1\n",
    "        L.append(count_bad(G,do_twist=do_twist))\n",
    "    return L\n",
    "\n",
    "\n",
    "def number_of_CDC(G,do_twist=True,samples=10):\n",
    "    CDC = 0\n",
    "    L = []\n",
    "    for i in range (samples):\n",
    "        if count_bad(G,do_twist=do_twist) == 0:\n",
    "            CDC += 1\n",
    "        L.append(count_bad(G,do_twist=do_twist))\n",
    "    return CDC"
   ]
  },
  {
   "cell_type": "code",
   "execution_count": 6,
   "id": "bfc43f41",
   "metadata": {},
   "outputs": [],
   "source": [
    "def check_tw_faces(G):\n",
    "    F,R,L,D = twisted_faces2(G)\n",
    "    print(list(zip(D,range(100))))\n",
    "    C = F.cycle_tuples()\n",
    "    m = G.num_edges()\n",
    "    assert(len(D) == 4*m+1)\n",
    "    U = reduce(lambda x,y: x.union(y), [set(x) for x in C], set([]))\n",
    "    assert(len(U) == 4*m)\n",
    "    print(R.cycle_tuples())\n",
    "    for vert in R.cycle_tuples():\n",
    "        for x in vert:\n",
    "            print(D[x])\n",
    "        print('--')\n",
    "    print('\\n ===== \\n')\n",
    "\n",
    "    print(L.cycle_tuples())\n",
    "    for edge in L.cycle_tuples():\n",
    "        for x in edge:\n",
    "            print(D[x])\n",
    "        print('--')            \n",
    "\n",
    "    print('\\n ===== \\n')\n",
    "    print(F.cycle_tuples())\n",
    "    for face in C:\n",
    "        for d in face:\n",
    "            print(D[d])"
   ]
  },
  {
   "cell_type": "code",
   "execution_count": 107,
   "id": "53234c01",
   "metadata": {},
   "outputs": [],
   "source": [
    "K4 = graphs.CompleteGraph(4)"
   ]
  },
  {
   "cell_type": "code",
   "execution_count": 67,
   "id": "e70e8961",
   "metadata": {},
   "outputs": [
    {
     "ename": "ValueError",
     "evalue": "too many values to unpack (expected 4)",
     "output_type": "error",
     "traceback": [
      "\u001b[0;31m---------------------------------------------------------------------------\u001b[0m",
      "\u001b[0;31mValueError\u001b[0m                                Traceback (most recent call last)",
      "\u001b[0;32m/tmp/ipykernel_1249/756115573.py\u001b[0m in \u001b[0;36m<module>\u001b[0;34m\u001b[0m\n\u001b[0;32m----> 1\u001b[0;31m \u001b[0mcheck_tw_faces\u001b[0m\u001b[0;34m(\u001b[0m\u001b[0mK4\u001b[0m\u001b[0;34m)\u001b[0m\u001b[0;34m\u001b[0m\u001b[0;34m\u001b[0m\u001b[0m\n\u001b[0m",
      "\u001b[0;32m/tmp/ipykernel_1249/575355179.py\u001b[0m in \u001b[0;36mcheck_tw_faces\u001b[0;34m(G)\u001b[0m\n\u001b[1;32m      1\u001b[0m \u001b[0;32mdef\u001b[0m \u001b[0mcheck_tw_faces\u001b[0m\u001b[0;34m(\u001b[0m\u001b[0mG\u001b[0m\u001b[0;34m)\u001b[0m\u001b[0;34m:\u001b[0m\u001b[0;34m\u001b[0m\u001b[0;34m\u001b[0m\u001b[0m\n\u001b[0;32m----> 2\u001b[0;31m     \u001b[0mF\u001b[0m\u001b[0;34m,\u001b[0m\u001b[0mR\u001b[0m\u001b[0;34m,\u001b[0m\u001b[0mL\u001b[0m\u001b[0;34m,\u001b[0m\u001b[0mD\u001b[0m \u001b[0;34m=\u001b[0m \u001b[0mtwisted_faces2\u001b[0m\u001b[0;34m(\u001b[0m\u001b[0mG\u001b[0m\u001b[0;34m)\u001b[0m\u001b[0;34m\u001b[0m\u001b[0;34m\u001b[0m\u001b[0m\n\u001b[0m\u001b[1;32m      3\u001b[0m     \u001b[0mprint\u001b[0m\u001b[0;34m(\u001b[0m\u001b[0mlist\u001b[0m\u001b[0;34m(\u001b[0m\u001b[0mzip\u001b[0m\u001b[0;34m(\u001b[0m\u001b[0mD\u001b[0m\u001b[0;34m,\u001b[0m\u001b[0mrange\u001b[0m\u001b[0;34m(\u001b[0m\u001b[0mInteger\u001b[0m\u001b[0;34m(\u001b[0m\u001b[0;36m100\u001b[0m\u001b[0;34m)\u001b[0m\u001b[0;34m)\u001b[0m\u001b[0;34m)\u001b[0m\u001b[0;34m)\u001b[0m\u001b[0;34m)\u001b[0m\u001b[0;34m\u001b[0m\u001b[0;34m\u001b[0m\u001b[0m\n\u001b[1;32m      4\u001b[0m     \u001b[0mC\u001b[0m \u001b[0;34m=\u001b[0m \u001b[0mF\u001b[0m\u001b[0;34m.\u001b[0m\u001b[0mcycle_tuples\u001b[0m\u001b[0;34m(\u001b[0m\u001b[0;34m)\u001b[0m\u001b[0;34m\u001b[0m\u001b[0;34m\u001b[0m\u001b[0m\n\u001b[1;32m      5\u001b[0m     \u001b[0mm\u001b[0m \u001b[0;34m=\u001b[0m \u001b[0mG\u001b[0m\u001b[0;34m.\u001b[0m\u001b[0mnum_edges\u001b[0m\u001b[0;34m(\u001b[0m\u001b[0;34m)\u001b[0m\u001b[0;34m\u001b[0m\u001b[0;34m\u001b[0m\u001b[0m\n",
      "\u001b[0;31mValueError\u001b[0m: too many values to unpack (expected 4)"
     ]
    }
   ],
   "source": [
    "check_tw_faces(K4)"
   ]
  },
  {
   "cell_type": "code",
   "execution_count": 108,
   "id": "9243f43c",
   "metadata": {},
   "outputs": [
    {
     "data": {
      "image/png": "[encoded data removed]",
      "text/plain": [
       "Graphics object consisting of 1 graphics primitive"
      ]
     },
     "metadata": {},
     "output_type": "display_data"
    },
    {
     "data": {
      "text/plain": [
       "3.43700000000000"
      ]
     },
     "execution_count": 108,
     "metadata": {},
     "output_type": "execute_result"
    }
   ],
   "source": [
    "G3 = graphs.RandomRegular(3,100)\n",
    "\n",
    "LG3 = sample_number_of_twisted_faces(G3, samples=1000)\n",
    "\n",
    "histogram(LG3).show()\n",
    "exp_size(LG3).n()"
   ]
  },
  {
   "cell_type": "code",
   "execution_count": 114,
   "id": "82babb54",
   "metadata": {
    "scrolled": true
   },
   "outputs": [
    {
     "name": "stdout",
     "output_type": "stream",
     "text": [
      "[40, 49, 65, 77, 58, 65, 136, 65, 68, 147, 53, 49, 52, 55, 61, 59, 107, 78, 47, 121, 101, 29, 57, 88, 104, 88, 90, 121, 49, 68, 76, 112, 77, 147, 53, 63, 113, 64, 75, 130, 66, 61, 108, 101, 85, 93, 50, 85, 27, 63, 61, 131, 147, 66, 120, 92, 75, 41, 119, 44, 138, 78, 102, 69, 37, 127, 128, 48, 58, 65, 44, 144, 77, 45, 93, 45, 97, 50, 137, 36, 51, 65, 55, 147, 59, 147, 90, 67, 39, 147, 63, 75, 79, 143, 55, 46, 40, 36, 72, 44, 122, 29, 93, 48, 137, 77, 83, 83, 85, 124, 90, 121, 83, 140, 73, 33, 69, 66, 51, 86, 48, 125, 105, 41, 39, 65, 105, 61, 126, 48, 39, 49, 126, 73, 57, 112, 78, 84, 77, 41, 54, 64, 125, 47, 64, 27, 107, 70, 87, 51, 77, 136, 57, 92, 48, 58, 78, 62, 44, 86, 139, 44, 109, 67, 46, 56, 94, 54, 143, 56, 83, 42, 64, 63, 71, 41, 67, 73, 147, 60, 114, 47, 86, 107, 74, 47, 145, 35, 77, 120, 40, 144, 131, 75, 52, 58, 55, 87, 49, 74, 51, 90, 65, 139, 75, 46, 78, 87, 50, 139, 65, 88, 88, 43, 61, 134, 71, 61, 141, 96, 84, 107, 95, 112, 50, 107, 50, 100, 59, 56, 39, 55, 71, 69, 35, 99, 87, 44, 92, 52, 70, 87, 51, 88, 98, 88, 51, 74, 96, 36, 106, 47, 47, 110, 79, 137, 68, 66, 32, 45, 33, 144, 64, 43, 59, 46, 129, 126, 46, 147, 73, 72, 48, 147, 131, 116, 106, 49, 81, 46, 45, 49, 128, 122, 54, 102, 82, 49, 68, 58, 72, 68, 132, 124, 90, 57, 47, 56, 96, 85, 55, 66, 25, 80, 55, 47, 95, 38, 90, 120, 69, 57, 114, 68, 35, 64, 27, 90, 73, 83, 91, 47, 55, 115, 96, 103, 76, 53, 56, 61, 68, 59, 44, 55, 77, 130, 45, 55, 101, 135, 95, 56, 111, 61, 92, 95, 114, 40, 81, 113, 44, 35, 55, 60, 99, 57, 80, 99, 129, 91, 31, 59, 94, 68, 60, 47, 118, 51, 56, 31, 57, 34, 47, 48, 38, 68, 55, 41, 39, 106, 26, 122, 57, 79, 36, 30, 94, 38, 81, 73, 42, 84, 97, 35, 100, 91, 68, 59, 104, 120, 96, 71, 123, 116, 61, 50, 41, 54, 74, 88, 74, 29, 46, 39, 125, 108, 49, 86, 147, 50, 96, 88, 64, 26, 83, 130, 107, 49, 66, 70, 69, 65, 109, 25, 23, 83, 68, 120, 48, 138, 121, 60, 45, 147, 112, 48, 68, 50, 58, 66, 35, 62, 45, 98, 34, 115, 49, 37, 60, 51, 79, 41, 44, 59, 93, 65, 65, 110, 72, 55, 61, 87, 36, 51, 72, 84, 61, 89, 84, 49, 91, 86, 87, 40, 60, 105, 34, 60, 56, 70, 92, 27, 49, 49, 81, 146, 39, 49, 95, 73, 54, 21, 122, 40, 109, 64, 57, 86, 76, 63, 56, 33, 116, 20, 46, 80, 128, 96, 107, 67, 36, 127, 91, 42, 107, 71, 41, 134, 117, 107, 70, 76, 69, 47, 76, 49, 73, 35, 120, 36, 50, 60, 37, 138, 51, 70, 72, 92, 48, 39, 106, 69, 147, 62, 72, 87, 41, 91, 116, 52, 80, 96, 77, 58, 54, 56, 47, 130, 89, 115, 57, 90, 132, 70, 108, 58, 40, 78, 52, 53, 27, 60, 111, 110, 147, 74, 58, 58, 53, 104, 64, 43, 67, 54, 63, 63, 83, 64, 120, 87, 132, 108, 71, 74, 68, 144, 50, 64, 61, 75, 67, 89, 111, 78, 44, 147, 71, 55, 44, 57, 90, 57, 86, 45, 34, 44, 86, 117, 128, 97, 105, 60, 135, 52, 89, 134, 48, 146, 48, 126, 70, 42, 107, 60, 71, 60, 117, 65, 141, 36, 57, 27, 50, 80, 43, 34, 118, 145, 105, 90, 94, 119, 114, 53, 58, 79, 107, 61, 113, 37, 79, 37, 94, 60, 97, 74, 37, 47, 81, 85, 60, 132, 39, 77, 41, 51, 38, 121, 74, 73, 64, 66, 48, 71, 35, 33, 84, 61, 70, 29, 147, 86, 68, 113, 63, 35, 41, 51, 50, 123, 67, 54, 33, 80, 55, 63, 71, 78, 70, 34, 60, 136, 82, 38, 104, 113, 93, 69, 44, 28, 54, 61, 39, 49, 45, 75, 60, 38, 103, 30, 88, 39, 33, 63, 68, 88, 87, 125, 34, 54, 87, 50, 61, 70, 51, 99, 44, 60, 110, 111, 30, 29, 37, 48, 129, 116, 53, 43, 82, 57, 38, 89, 52, 102, 74, 80, 107, 66, 62, 86, 55, 38, 76, 71, 32, 47, 129, 113, 46, 65, 73, 89, 40, 37, 67, 37, 48, 74, 123, 70, 43, 31, 60, 51, 133, 38, 76, 41, 56, 83, 56, 47, 32, 56, 32, 114, 39, 84, 121, 84, 128, 47, 133, 115, 117, 86, 121, 113, 125, 48, 140, 68, 58, 63, 78, 75, 25, 36, 134, 52, 61, 49, 33, 92, 42, 69, 26, 109, 44, 36, 43, 43, 114, 70, 42, 42, 53, 93, 127, 36, 137, 120, 92, 97, 120, 57, 42, 48, 35, 90, 56, 145, 70, 66, 147, 99, 45, 60, 70, 48, 18, 52, 91, 80, 68, 69, 123, 129, 48, 74, 108, 72, 98, 142, 65, 57, 48, 110, 95, 71, 67, 61, 28, 29, 16, 79, 65, 114, 129, 81, 26, 45, 67, 139, 63, 92, 44, 40, 44, 75, 131, 129, 129, 141, 66, 77, 73, 78, 39, 81, 57, 109, 67, 84, 42, 45, 73, 44, 54, 102, 40, 116, 80, 41, 62, 63, 60, 65, 60, 109, 53, 66, 57, 53, 66, 62, 79, 61, 79, 126, 73, 64, 67, 31, 47, 80, 87, 108, 58, 32, 50, 61, 37, 103, 76, 72, 79, 88, 84, 132, 59, 98, 105, 73, 38, 119, 79, 44, 141, 54, 53, 81, 57, 139, 90, 69, 44, 139, 105, 76]\n"
     ]
    }
   ],
   "source": [
    "bad_G3 = sample_number_of_bad_edges(G3, do_twist=False, samples=1000)\n",
    "print(bad_G3)"
   ]
  },
  {
   "cell_type": "code",
   "execution_count": 116,
   "id": "db28ed68",
   "metadata": {},
   "outputs": [
    {
     "data": {
      "text/plain": [
       "0"
      ]
     },
     "execution_count": 116,
     "metadata": {},
     "output_type": "execute_result"
    }
   ],
   "source": [
    "number_of_CDC(G3, do_twist=False, samples=1000)"
   ]
  },
  {
   "cell_type": "code",
   "execution_count": 117,
   "id": "a5ea204c",
   "metadata": {},
   "outputs": [],
   "source": [
    "Pt = graphs.PetersenGraph()"
   ]
  },
  {
   "cell_type": "code",
   "execution_count": 118,
   "id": "c266d041",
   "metadata": {},
   "outputs": [],
   "source": [
    "bad_Pt = sample_number_of_bad_edges(Pt, samples=1000)"
   ]
  },
  {
   "cell_type": "code",
   "execution_count": 119,
   "id": "c88febcd",
   "metadata": {},
   "outputs": [],
   "source": [
    "obad_Pt = sample_number_of_bad_edges(Pt, do_twist=False, samples=1000)"
   ]
  },
  {
   "cell_type": "code",
   "execution_count": 120,
   "id": "fe3f5ca4",
   "metadata": {},
   "outputs": [
    {
     "data": {
      "image/png": "[encoded data removed]",
      "text/plain": [
       "Graphics object consisting of 1 graphics primitive"
      ]
     },
     "execution_count": 120,
     "metadata": {},
     "output_type": "execute_result"
    }
   ],
   "source": [
    "histogram(bad_Pt)"
   ]
  },
  {
   "cell_type": "code",
   "execution_count": 121,
   "id": "7c356e33",
   "metadata": {},
   "outputs": [
    {
     "data": {
      "image/png": "[encoded data removed]",
      "text/plain": [
       "Graphics object consisting of 1 graphics primitive"
      ]
     },
     "execution_count": 121,
     "metadata": {},
     "output_type": "execute_result"
    }
   ],
   "source": [
    "histogram(obad_Pt)"
   ]
  },
  {
   "cell_type": "code",
   "execution_count": 122,
   "id": "e051f868",
   "metadata": {},
   "outputs": [
    {
     "data": {
      "text/plain": [
       "0.9739000000000001"
      ]
     },
     "execution_count": 122,
     "metadata": {},
     "output_type": "execute_result"
    }
   ],
   "source": [
    "np.mean(bad_Pt)/Pt.num_verts()"
   ]
  },
  {
   "cell_type": "code",
   "execution_count": 123,
   "id": "59033449",
   "metadata": {},
   "outputs": [
    {
     "data": {
      "text/plain": [
       "0.7304999999999999"
      ]
     },
     "execution_count": 123,
     "metadata": {},
     "output_type": "execute_result"
    }
   ],
   "source": [
    "np.mean(obad_Pt)/Pt.num_verts()"
   ]
  },
  {
   "cell_type": "code",
   "execution_count": 77,
   "id": "c2ab50c7",
   "metadata": {
    "scrolled": true
   },
   "outputs": [
    {
     "name": "stdout",
     "output_type": "stream",
     "text": [
      "[13, 20, 19, 7, 8, 14, 16, 21, 22, 1, 2, 15, 23, 9, 3, 24, 10, 4, 12, 18, 17, 6, 5, 11]\n",
      "[(1, 13, 23, 5, 8, 21, 17, 10), (2, 20, 18, 4, 7, 16, 24, 11), (3, 19, 12, 15), (6, 14, 9, 22)]\n",
      "[(0, 1), (0, 2), (2, 3), (0, 3), (0, 1), (1, 3), (2, 3), (1, 2)]\n",
      "{(0, 1), (1, 2), (0, 3), (2, 3), (0, 2), (1, 3)}\n",
      "2\n",
      "[(0, 1), (0, 3), (2, 3), (0, 2), (0, 1), (1, 2), (2, 3), (1, 3)]\n",
      "{(0, 1), (1, 2), (0, 3), (2, 3), (0, 2), (1, 3)}\n",
      "4\n",
      "[(0, 2), (0, 3), (1, 3), (1, 2)]\n",
      "{(1, 2), (0, 2), (0, 3), (1, 3)}\n",
      "4\n",
      "[(0, 3), (0, 2), (1, 2), (1, 3)]\n",
      "{(1, 2), (0, 2), (0, 3), (1, 3)}\n",
      "4\n"
     ]
    }
   ],
   "source": [
    "G = graphs.CompleteGraph(4)\n",
    "do_twist=True\n",
    "D = getD(G)\n",
    "F = twisted_faces2(G,do_twist=do_twist)\n",
    "print(F)\n",
    "bad = 0\n",
    "print(F.cycle_tuples())\n",
    "for face in F.cycle_tuples():\n",
    "    edges = [tuple(sorted(D[x][:2])) for x in face]\n",
    "    print(edges)\n",
    "    print(set(edges))\n",
    "    bad += len(edges) - len(set(edges))\n",
    "    print(bad)\n",
    "        \n",
    "    \n",
    "def sample_number_of_bad_edges(G,do_twist=True,samples=10):\n",
    "    return [count_bad(G,do_twist=do_twist) for _ in range(samples)]"
   ]
  },
  {
   "cell_type": "code",
   "execution_count": 27,
   "id": "cced3000",
   "metadata": {},
   "outputs": [
    {
     "data": {
      "image/png": "[encoded data removed]",
      "text/plain": [
       "Graphics object consisting of 11 graphics primitives"
      ]
     },
     "metadata": {},
     "output_type": "display_data"
    }
   ],
   "source": [
    "G.show()"
   ]
  },
  {
   "cell_type": "code",
   "execution_count": 45,
   "id": "ea40fc19",
   "metadata": {},
   "outputs": [
    {
     "name": "stdout",
     "output_type": "stream",
     "text": [
      "[6, 3, 6, 6, 2, 3, 1, 2, 3, 6, 6, 6, 3, 2, 6, 2, 3, 3, 6, 6, 2, 6, 3, 0, 6, 2, 6, 0, 3, 2, 3, 2, 6, 6, 6, 3, 6, 3, 3, 2, 3, 6, 6, 2, 6, 6, 3, 3, 6, 6, 6, 1, 6, 2, 3, 6, 6, 6, 6, 2, 6, 2, 3, 3, 6, 1, 1, 2, 6, 3, 3, 3, 2, 6, 6, 3, 1, 3, 2, 2, 6, 3, 3, 6, 6, 2, 6, 0, 2, 6, 3, 3, 3, 6, 6, 3, 6, 2, 2, 6, 3, 3, 2, 3, 6, 3, 6, 2, 6, 6, 6, 3, 3, 3, 6, 2, 2, 6, 6, 6, 2, 3, 6, 3, 6, 3, 3, 2, 6, 2, 1, 2, 3, 3, 6, 6, 6, 3, 6, 6, 1, 3, 6, 2, 1, 6, 6, 2, 3, 6, 2, 2, 1, 2, 6, 6, 3, 2, 3, 6, 6, 2, 3, 3, 1, 3, 0, 1, 6, 6, 6, 6, 6, 3, 2, 6, 3, 6, 6, 3, 2, 1, 6, 6, 2, 1, 3, 6, 3, 6, 6, 6, 3, 6, 3, 3, 1, 2, 2, 3, 3, 3, 3, 1, 6, 3, 1, 2, 2, 6, 2, 6, 6, 6, 2, 6, 6, 6, 6, 6, 1, 6, 6, 6, 3, 6, 6, 2, 6, 6, 0, 6, 3, 2, 6, 2, 6, 0, 3, 3, 0, 6, 6, 2, 6, 6, 6, 6, 2, 3, 6, 2, 2, 3, 2, 2, 6, 3, 2, 0, 3, 1, 3, 3, 6, 6, 6, 2, 2, 2, 6, 6, 6, 2, 6, 6, 6, 3, 0, 6, 6, 2, 0, 3, 3, 6, 6, 6, 6, 2, 6, 6, 3, 2, 6, 6, 6, 3, 3, 3, 1, 1, 1, 2, 2, 3, 6, 1, 6, 2, 6, 6, 3, 2, 6, 2, 6, 6, 3, 6, 6, 6, 3, 3, 6, 3, 2, 3, 1, 6, 6, 2, 6, 6, 6, 1, 6, 2, 3, 6, 6, 2, 1, 6, 6, 6, 6, 2, 1, 3, 6, 3, 6, 3, 3, 6, 6, 2, 3, 6, 6, 2, 6, 2, 1, 3, 3, 3, 2, 3, 3, 3, 6, 3, 2, 3, 3, 3, 6, 3, 6, 6, 6, 6, 6, 2, 3, 6, 3, 6, 2, 2, 6, 3, 6, 6, 2, 2, 3, 3, 6, 1, 6, 6, 3, 6, 1, 2, 6, 3, 3, 2, 6, 6, 3, 6, 2, 3, 6, 3, 1, 6, 0, 3, 2, 6, 2, 6, 3, 2, 6, 3, 3, 1, 3, 6, 1, 6, 6, 3, 6, 3, 6, 3, 2, 6, 3, 2, 6, 1, 6, 6, 3, 6, 6, 3, 2, 6, 1, 6, 2, 3, 6, 3, 1, 6, 6, 6, 6, 3, 3, 6, 3, 6, 6, 3, 3, 6, 0, 2, 0, 3, 6, 6, 2, 1, 3, 6, 1, 3, 3, 2, 6, 0, 3, 1, 6, 3, 6, 6, 6, 3, 6, 3, 3, 6, 6, 3, 6, 6, 3, 3, 6, 6, 1, 1, 2, 6, 1, 6, 6, 6, 3, 0, 6, 1, 2, 0, 6, 6, 3, 6, 3, 2, 6, 6, 2, 3, 6, 6, 3, 6, 6, 6, 6, 3, 6, 2, 6, 6, 3, 6, 2, 6, 3, 3, 2, 3, 1, 6, 6, 2, 2, 2, 6, 1, 6, 6, 6, 1, 2, 2, 3, 3, 3, 2, 6, 3, 3, 6, 2, 2, 6, 3, 2, 6, 6, 6, 1, 3, 3, 2, 6, 6, 6, 3, 3, 6, 3, 6, 6, 6, 6, 1, 6, 6, 6, 6, 6, 0, 2, 1, 6, 6, 1, 2, 2, 2, 6, 0, 6, 6, 6, 2, 1, 2, 6, 3, 6, 6, 6, 3, 3, 6, 3, 6, 6, 1, 6, 6, 3, 2, 3, 2, 6, 6, 6, 6, 6, 6, 6, 1, 2, 3, 1, 0, 2, 6, 2, 6, 2, 6, 6, 6, 3, 1, 2, 2, 2, 6, 6, 1, 6, 3, 6, 6, 6, 1, 3, 3, 2, 6, 2, 2, 6, 6, 6, 2, 6, 0, 6, 3, 3, 6, 6, 2, 6, 6, 6, 6, 6, 6, 6, 1, 1, 3, 6, 2, 6, 1, 3, 6, 2, 2, 2, 2, 6, 3, 2, 1, 6, 2, 6, 6, 6, 6, 3, 1, 6, 6, 6, 3, 6, 3, 3, 6, 3, 6, 3, 6, 6, 6, 6, 6, 3, 6, 1, 6, 3, 3, 6, 6, 3, 3, 2, 6, 2, 2, 3, 2, 6, 6, 3, 3, 3, 3, 3, 2, 3, 6, 6, 6, 6, 3, 1, 3, 1, 6, 6, 2, 3, 6, 6, 3, 3, 6, 2, 6, 3, 6, 3, 6, 6, 3, 6, 6, 3, 3, 1, 6, 6, 2, 3, 6, 1, 6, 3, 6, 0, 6, 6, 2, 6, 6, 6, 3, 3, 3, 6, 2, 3, 6, 6, 0, 6, 2, 6, 6, 3, 2, 6, 3, 6, 6, 2, 6, 3, 6, 3, 3, 6, 3, 3, 6, 1, 6, 3, 6, 6, 6, 6, 6, 2, 6, 6, 3, 6, 2, 3, 6, 2, 6, 1, 1, 3, 1, 6, 6, 3, 3, 2, 6, 3, 1, 2, 0, 6, 2, 6, 3, 6, 6, 3, 6, 6, 6, 3, 2, 6, 2, 6, 2, 3, 6, 6, 6, 1, 3, 6, 2, 6, 3, 6, 3, 2, 6, 1, 3, 6, 6, 2, 2, 3, 6, 3, 6, 6, 2, 2, 3, 3, 3, 6, 6, 6, 6, 3, 3, 6, 3, 2, 6, 6, 6, 6, 3, 2, 6, 6, 6, 0, 2, 0, 2, 1, 6, 6, 2, 3, 1, 3, 6, 6, 3, 1, 6, 1, 2, 6, 6, 3, 3, 3, 6, 6, 3, 3, 6, 6, 6, 2, 6, 6, 1, 6, 2, 2, 3, 6, 3, 6, 3, 2, 2, 6, 2, 6, 6, 6, 6, 6, 6, 6, 1, 2, 2, 3, 6, 3, 3]\n"
     ]
    }
   ],
   "source": [
    "print([count_bad(G) for _  in range(1000)])"
   ]
  },
  {
   "cell_type": "code",
   "execution_count": 11,
   "id": "9fc0c5d7",
   "metadata": {},
   "outputs": [],
   "source": [
    "Pt = graphs.PetersenGraph()"
   ]
  },
  {
   "cell_type": "code",
   "execution_count": 99,
   "id": "eccc2e31",
   "metadata": {},
   "outputs": [],
   "source": [
    "bad_pt = sample_number_of_bad_edges(pt)"
   ]
  },
  {
   "cell_type": "code",
   "execution_count": 124,
   "id": "f80ca8e1",
   "metadata": {},
   "outputs": [
    {
     "name": "stdout",
     "output_type": "stream",
     "text": [
      "[15, 6, 5, 0, 6, 6, 3, 5, 15, 4, 15, 15, 15, 4, 5, 15, 5, 15, 0, 15, 6, 15, 3, 5, 15, 15, 4, 5, 5, 3, 15, 15, 6, 3, 5, 15, 15, 15, 3, 4, 3, 4, 15, 3, 6, 15, 6, 3, 6, 5, 15, 3, 5, 3, 4, 3, 6, 3, 3, 15, 3, 0, 15, 6, 6, 4, 4, 15, 5, 3, 15, 3, 0, 15, 3, 3, 15, 15, 3, 3, 3, 15, 6, 15, 5, 15, 3, 0, 3, 5, 3, 6, 15, 6, 3, 6, 3, 15, 15, 3, 3, 6, 3, 6, 6, 5, 6, 15, 5, 3, 15, 6, 4, 3, 15, 15, 3, 15, 5, 15, 4, 6, 15, 6, 6, 3, 5, 3, 4, 15, 6, 15, 3, 15, 4, 3, 4, 5, 15, 3, 5, 6, 4, 4, 4, 6, 5, 15, 15, 15, 15, 4, 15, 15, 15, 15, 3, 4, 15, 6, 4, 15, 3, 3, 15, 4, 15, 15, 5, 4, 3, 5, 3, 15, 6, 4, 15, 3, 5, 3, 15, 3, 6, 3, 15, 3, 15, 3, 15, 15, 3, 6, 6, 4, 4, 6, 15, 5, 4, 3, 15, 15, 15, 15, 5, 15, 4, 15, 15, 6, 15, 4, 3, 0, 15, 5, 6, 5, 3, 4, 15, 3, 6, 3, 15, 3, 6, 3, 3, 15, 15, 3, 6, 3, 6, 6, 5, 15, 15, 15, 15, 4, 15, 15, 15, 15, 5, 5, 5, 15, 6, 3, 3, 15, 15, 5, 0, 3, 15, 3, 6, 3, 15, 6, 15, 4, 15, 15, 5, 4, 15, 15, 3, 15, 4, 5, 6, 15, 6, 4, 4, 3, 3, 5, 3, 3, 15, 5, 15, 5, 15, 0, 3, 15, 6, 15, 3, 3, 5, 15, 6, 15, 3, 5, 3, 3, 15, 15, 6, 5, 15, 3, 5, 3, 5, 0, 15, 15, 3, 6, 15, 0, 6, 3, 6, 5, 3, 4, 3, 3, 6, 3, 6, 6, 5, 6, 5, 0, 6, 3, 6, 15, 6, 15, 15, 15, 15, 15, 3, 5, 5, 15, 15, 15, 3, 4, 6, 3, 5, 15, 6, 15, 6, 15, 15, 5, 4, 4, 15, 4, 15, 3, 4, 3, 3, 15, 5, 6, 5, 5, 3, 0, 15, 15, 5, 3, 15, 15, 5, 5, 0, 5, 3, 15, 5, 15, 5, 5, 3, 5, 4, 3, 15, 15, 15, 5, 15, 4, 4, 6, 15, 15, 3, 4, 3, 3, 6, 3, 3, 15, 4, 3, 3, 6, 6, 15, 3, 3, 3, 15, 4, 6, 15, 15, 3, 0, 15, 15, 6, 15, 6, 5, 15, 3, 5, 15, 15, 15, 3, 5, 4, 4, 6, 3, 6, 15, 15, 5, 15, 4, 3, 5, 3, 15, 3, 3, 5, 5, 3, 3, 15, 15, 3, 15, 15, 15, 15, 5, 3, 15, 3, 3, 3, 3, 3, 4, 3, 5, 15, 6, 4, 15, 3, 15, 15, 3, 4, 6, 5, 3, 3, 15, 0, 3, 0, 15, 15, 6, 4, 3, 15, 15, 3, 4, 6, 5, 15, 3, 5, 15, 6, 0, 4, 15, 6, 4, 15, 15, 3, 3, 4, 5, 15, 3, 15, 5, 15, 15, 3, 5, 4, 15, 15, 4, 6, 15, 6, 5, 3, 15, 3, 15, 5, 15, 15, 15, 4, 0, 3, 6, 15, 4, 4, 5, 3, 15, 5, 4, 15, 3, 5, 15, 5, 6, 3, 3, 0, 6, 15, 15, 0, 6, 4, 3, 3, 3, 15, 15, 5, 3, 15, 6, 5, 5, 3, 4, 3, 15, 3, 15, 6, 5, 3, 15, 5, 6, 3, 4, 5, 4, 15, 3, 4, 5, 4, 3, 5, 6, 5, 6, 4, 3, 3, 3, 15, 15, 15, 5, 3, 15, 4, 5, 15, 15, 3, 6, 3, 15, 4, 15, 3, 4, 15, 5, 4, 15, 3, 3, 3, 15, 5, 4, 0, 5, 4, 5, 0, 4, 3, 3, 3, 0, 3, 5, 15, 4, 6, 3, 15, 3, 3, 4, 0, 15, 15, 4, 3, 15, 4, 3, 5, 4, 5, 3, 3, 6, 5, 15, 5, 15, 5, 4, 5, 15, 5, 15, 6, 6, 0, 6, 15, 5, 3, 3, 15, 5, 5, 4, 4, 3, 4, 15, 15, 3, 15, 3, 15, 5, 5, 3, 15, 0, 3, 15, 5, 15, 15, 3, 6, 3, 3, 3, 15, 0, 4, 5, 3, 15, 15, 5, 4, 0, 3, 3, 3, 3, 0, 3, 5, 3, 3, 15, 5, 15, 4, 3, 3, 0, 15, 3, 3, 3, 5, 3, 3, 0, 5, 4, 4, 4, 5, 15, 3, 5, 15, 3, 3, 6, 15, 3, 5, 3, 6, 15, 3, 15, 3, 3, 0, 4, 15, 3, 5, 15, 6, 15, 5, 4, 0, 3, 3, 3, 4, 5, 3, 3, 3, 15, 6, 15, 3, 5, 4, 5, 15, 15, 15, 6, 15, 15, 3, 6, 0, 5, 15, 3, 4, 15, 3, 3, 5, 3, 5, 15, 0, 5, 4, 3, 15, 4, 5, 15, 5, 15, 15, 4, 3, 15, 15, 4, 15, 5, 3, 3, 15, 6, 3, 3, 15, 15, 3, 3, 3, 15, 6, 6, 4, 5, 3, 15, 6, 6, 15, 3, 6, 15, 6, 15, 5, 4, 15, 5, 5, 3, 3, 3, 3, 15, 15, 5, 15, 4, 3, 15, 4, 3, 4, 15, 3, 15, 3, 3, 3, 4, 5, 5, 15, 4, 4, 3, 4, 15, 15, 5, 4, 15, 3, 15, 15, 3, 4, 3, 5, 5, 5, 3, 15, 0, 6, 6, 15, 3, 0, 4, 0, 6, 3, 15, 15, 3, 15, 3, 4, 15, 0, 3, 3, 5, 3, 6, 3, 3, 15, 0, 3, 3, 5, 3, 5, 15, 3, 6, 15, 3, 4, 4, 5, 3, 4, 3, 3, 4, 15, 5, 3, 15, 15, 3, 15, 15, 4, 3, 15, 4, 3, 15, 15, 3, 3, 5, 6, 3, 15, 4, 3, 5, 5, 3, 6, 6, 5, 15, 3, 6, 15, 5, 3, 6, 6, 15, 15, 6, 15, 15, 4, 3, 3, 4, 15, 5, 15, 15, 5, 15, 6, 15, 0, 4, 15, 15, 4, 15, 4, 5, 3, 6, 3, 6, 3, 3, 15, 5, 15, 15, 15, 3, 5, 0, 3, 0, 3, 5, 15, 15, 6, 4, 15, 3, 3, 5, 15, 15, 3, 6, 0, 4, 15, 5, 15, 4, 3, 15, 3, 3, 3, 15, 4, 15, 6, 6, 15, 0, 15, 3, 15, 3, 6, 5, 3, 3, 15, 5, 6, 3, 15, 4, 15, 4, 5, 5, 4, 3, 15, 5, 4, 15, 3, 4, 4, 5, 3, 3, 5, 15, 5, 6, 15, 3, 4, 15, 4, 15, 15, 5, 15, 3, 3, 5, 15, 3, 15, 15, 15, 3, 3, 3, 4, 5, 6, 3, 15, 15, 5, 3, 5, 3, 15, 15, 3, 0, 6, 15, 6, 15, 3, 15, 15, 3, 5, 15, 15, 5, 15, 15, 3, 15, 6, 5, 4, 6, 15, 6, 4, 4, 3, 15, 15, 15, 0, 6, 15, 6, 3, 3, 3, 5, 3, 4, 5, 15, 4, 4, 4, 15, 5, 3, 15, 15, 4, 3, 15, 6, 3, 4, 15, 3, 15, 0, 6, 15, 6, 15, 3, 15, 3, 15, 5, 4, 4, 0, 3, 5, 3, 3, 0, 3, 3, 4, 15, 6, 15, 4, 5, 6, 3, 5, 3, 5, 4, 15, 4, 3, 15, 3, 0, 15, 15, 3, 15, 4, 3, 3, 6, 4, 5, 6, 3, 5, 15, 3, 4, 3, 6, 15, 3, 3, 15, 0, 15, 15, 15, 15, 6, 5, 3, 3, 15, 4, 0, 4, 3, 15, 15, 15, 3, 4, 3, 6, 15, 15, 5, 6, 3, 15, 3, 5, 4, 3, 3, 15, 15, 3, 15, 3, 4, 3, 5, 4, 6, 3, 5, 3, 4, 15, 15, 3, 15, 5, 3, 3, 5, 15, 3, 3, 4, 3, 3, 3, 15, 15, 15, 15, 3, 15, 3, 3, 15, 5, 6, 6, 15, 6, 0, 4, 0, 15, 15, 15, 15, 6, 3, 5, 4, 15, 6, 4, 6, 4, 5, 5, 0, 6, 5, 6, 15, 3, 3, 15, 15, 4, 3, 15, 4, 5, 3, 15, 3, 15, 6, 3, 3, 4, 15, 5, 3, 5, 6, 5, 6, 4, 15, 5, 3, 15, 5, 6, 3, 3, 3, 15, 3, 0, 3, 15, 6, 5, 3, 3, 0, 15, 3, 4, 0, 5, 15, 15, 15, 3, 3, 4, 4, 4, 3, 3, 4, 15, 15, 6, 5, 6, 3, 4, 4, 15, 15, 15, 5, 15, 5, 4, 15, 3, 3, 15, 15, 3, 5, 15, 3, 3, 15, 15, 3, 6, 3, 5, 3, 4, 15, 15, 3, 6, 3, 3, 3, 3, 6, 15, 3, 6, 15, 6, 3, 3, 5, 6, 3, 15, 15, 6, 15, 5, 3, 15, 6, 5, 5, 3, 5, 6, 4, 4, 15, 3, 15, 5, 3, 3, 15, 0, 3, 5, 5, 4, 3, 15, 3, 4, 6, 5, 3, 3, 3, 5, 15, 3, 15, 4, 15, 0, 15, 3, 3, 15, 3, 15, 15, 6, 3, 15, 15, 0, 3, 5, 3, 4, 3, 15, 0, 4, 4, 15, 3, 3, 3, 5, 3, 5, 0, 15, 5, 3, 3, 5, 6, 15, 15, 4, 4, 15, 15, 3, 5, 15, 15, 3, 15, 15, 15, 3, 4, 5, 3, 3, 5, 15, 5, 6, 4, 15, 6, 15, 4, 4, 15, 3, 4, 3, 6, 3, 15, 15, 6, 15, 3, 5, 6, 5, 6, 15, 15, 4, 3, 4, 15, 15, 3, 4, 0, 0, 15, 3, 15, 6, 3, 15, 3, 5, 5, 15, 15, 5, 15, 3, 15, 6, 5, 15, 15, 4, 5, 5, 3, 3, 5, 3, 3, 6, 15, 15, 3, 3, 15, 3, 15, 15, 4, 3, 3, 15, 15, 5, 15, 5, 15, 3, 15, 5, 15, 4, 6, 6, 3, 5, 15, 6, 4, 3, 15, 15, 15, 6, 3, 3, 6, 4, 15, 6, 6, 3, 4, 15, 5, 3, 6, 0, 15, 6, 15, 3, 15, 3, 15, 15, 6, 3, 5, 15, 3, 4, 15, 3, 15, 3, 15, 6, 6, 3, 5, 4, 5, 15, 15, 15, 5, 3, 3, 15, 3, 3, 4, 15, 15, 15, 15, 3, 15, 6, 15, 3, 6, 4, 3, 6, 4, 5, 15, 5, 15, 5, 3, 15, 3, 4, 5, 0, 3, 4, 5, 15, 3, 4, 4, 4, 4, 5, 6, 15, 15, 15, 3, 5, 15, 6, 3, 15, 6, 5, 15, 5, 15, 3, 15, 4, 15, 3, 6, 15, 15, 15, 15, 4, 15, 4, 5, 6, 0, 6, 6, 5, 15, 5, 3, 15, 15, 0, 15, 3, 3, 15, 4, 4, 15, 3, 3, 4, 15, 3, 15, 6, 15, 15, 3, 0, 4, 3, 3, 6, 15, 6, 6, 15, 15, 5, 3, 3, 3, 5, 3, 6, 4, 6, 3, 3, 5, 3, 3, 6, 4, 3, 4, 15, 5, 4, 3, 15, 3, 15, 15, 4, 5, 3, 15, 3, 5, 15, 3, 15, 0, 4, 15, 6, 15, 5, 15, 6, 15, 5, 15, 5, 3, 5, 5, 5, 15, 3, 4, 5, 15, 15, 3, 5, 3, 4, 3, 6, 3, 15, 6, 3, 3, 15, 0, 6, 15, 6, 3, 15, 3, 4, 4, 3, 6, 15, 4, 15, 4, 15, 5, 3, 5, 15, 15, 15, 5, 15, 6, 3, 15, 15, 15, 0, 3, 0, 4, 15, 3, 5, 6, 3, 6, 3, 3, 5, 0, 6, 3, 4, 3, 15, 3, 4, 4, 6, 6, 6, 15, 5, 15, 6, 3, 3, 15, 3, 3, 5, 3, 6, 15, 3, 6, 3, 15, 15, 15, 3, 15, 15, 3, 3, 15, 15, 5, 15, 6, 5, 5, 15, 5, 15, 3, 5, 15, 5, 15, 15, 15, 5, 15, 3, 4, 5, 15, 6, 4, 6, 5, 0, 5, 6, 15, 4, 15, 3, 3, 6, 6, 3, 3, 4, 5, 3, 6, 15, 15, 15, 15, 6, 15, 15, 6, 3, 3, 0, 3, 5, 4, 5, 3, 15, 15, 6, 5, 4, 3, 3, 6, 3, 15, 3, 6, 0, 3, 5, 15, 5, 5, 15, 15, 3, 6, 3, 3, 3, 15, 3, 15, 15, 15, 15, 15, 3, 3, 3, 5, 15, 6, 6, 4, 0, 15, 3, 4, 3, 5, 15, 5, 4, 15, 3, 3, 15, 15, 15, 3, 0, 5, 3, 3, 3, 15, 15, 3, 5, 3, 15, 5, 3, 15, 15, 3, 3, 3, 4, 15, 4, 3, 3, 3, 6, 4, 3, 5, 6, 4, 15, 5, 15, 5, 15, 4, 3, 6, 5, 15, 5, 6, 3, 5, 5, 3, 15, 0, 3, 4, 4, 15, 6, 6, 4, 4, 4, 5, 6, 15, 15, 5, 15, 6, 4, 3, 4, 3, 3, 0, 3, 6, 6, 6, 15, 3, 15, 4, 0, 15, 15, 4, 15, 15, 5, 15, 3, 15, 6, 15, 15, 15, 15, 15, 15, 3, 15, 5, 3, 15, 15, 6, 15, 6, 3, 5, 6, 6, 3, 5, 4, 15, 5, 15, 15, 15, 6, 3, 5, 15, 3, 3, 3, 3, 15, 6, 4, 4, 3, 15, 6, 0, 5, 6, 6, 3, 3, 15, 15, 15, 6, 3, 6, 6, 5, 15, 4, 3, 3, 5, 15, 3, 5, 5, 3, 3, 3, 15, 0, 4, 6, 4, 6, 4, 15, 3, 0, 0, 15, 5, 6, 6, 3, 5, 6, 4, 15, 15, 6, 15, 15, 6, 15, 15, 3, 3, 15, 15, 5, 15, 15, 6, 3, 3, 3, 15, 15, 15, 3, 15, 15, 3, 15, 5, 15, 6, 6, 4, 15, 4, 6, 3, 6, 4, 15, 5, 4, 15, 3, 0, 3, 6, 4, 6, 4, 6, 15, 3, 3, 4, 5, 15, 3, 4, 3, 15, 4, 3, 3, 4, 6, 5, 15, 5, 3, 6, 3, 3, 15, 3, 6, 15, 3, 3, 15, 4, 15, 4, 5, 5, 6, 6, 15, 15, 5, 15, 4, 5, 5, 15, 15, 5, 6, 6, 15, 4, 3, 3, 15, 15, 3, 5, 15, 5, 5, 4, 6, 4, 3, 3, 3, 3, 3, 15, 5, 5, 5, 15, 15, 15, 6, 4, 15, 4, 4, 15, 15, 4, 3, 3, 15, 4, 4, 3, 3, 6, 3, 5, 3, 6, 15, 3, 3, 15, 5, 3, 6, 15, 5, 15, 0, 5, 5, 6, 3, 15, 15, 4, 5, 3, 15, 6, 5, 5, 3, 5, 15, 15, 4, 15, 15, 15, 4, 4, 4, 3, 3, 5, 15, 3, 15, 5, 3, 3, 15, 3, 6, 15, 15, 6, 6, 15, 4, 15, 3, 5, 6, 6, 3, 15, 3, 15, 5, 6, 15, 4, 3, 15, 15, 3, 15, 0, 6, 15, 3, 6, 5, 15, 5, 5, 15, 15, 4, 3, 15, 15, 15, 15, 4, 6, 4, 3, 3, 3, 4, 6, 4, 6, 5, 15, 5, 15, 6, 6, 3, 3, 3, 3, 3, 3, 5, 3, 6, 4, 6, 6, 0, 5, 6, 15, 3, 15, 15, 3, 6, 5, 3, 4, 3, 3, 3, 5, 15, 15, 6, 15, 15, 3, 3, 15, 15, 15, 6, 15, 15, 3, 5, 6, 5, 15, 4, 15, 3, 15, 3, 4, 15, 15, 4, 3, 15, 15, 3, 15, 5, 6, 5, 6, 3, 15, 15, 3, 15, 15, 5, 15, 3, 5, 4, 5, 5, 15, 3, 6, 3, 15, 3, 15, 15, 15, 3, 15, 15, 15, 5, 6, 15, 15, 15, 6, 15, 3, 15, 15, 3, 5, 3, 15, 15, 5, 5, 3, 15, 0, 6, 15, 3, 6, 3, 15, 15, 3, 15, 15, 4, 5, 3, 5, 3, 5, 4, 15, 5, 4, 5, 15, 3, 3, 3, 15, 3, 15, 15, 15, 15, 3, 3, 15, 15, 5, 5, 15, 3, 15, 4, 15, 6, 3, 6, 15, 5, 15, 15, 3, 15, 3, 0, 3, 4, 15, 4, 6, 4, 4, 0, 4, 0, 0, 4, 3, 15, 15, 4, 4, 3, 0, 6, 5, 3, 3, 5, 6, 15, 6, 15, 15, 3, 5, 3, 15, 6, 3, 6, 3, 3, 4, 5, 5, 6, 4, 3, 15, 4, 15, 3, 15, 4, 6, 3, 4, 6, 6, 15, 6, 15, 4, 4, 3, 15, 6, 15, 3, 3, 4, 15, 15, 15, 15, 0, 15, 5, 6, 3, 3, 15, 6, 15, 6, 3, 15, 6, 15, 5, 3, 4, 5, 4, 15, 3, 0, 6, 15, 15, 15, 5, 4, 4, 3, 15, 15, 6, 15, 3, 4, 3, 15, 3, 15, 3, 0, 15, 3, 3, 3, 3, 4, 3, 4, 3, 3, 15, 3, 15, 15, 6, 3, 15, 15, 3, 5, 4, 5, 4, 15, 15, 5, 3, 0, 6, 0, 3, 6, 6, 3, 15, 5, 15, 6, 6, 15, 3, 15, 5, 4, 3, 4, 0, 3, 15, 6, 5, 6, 3, 5, 3, 15, 15, 15, 3, 6, 0, 3, 3, 3, 15, 3, 0, 3, 15, 15, 15, 15, 5, 4, 4, 3, 15, 5, 6, 6, 3, 15, 3, 5, 4, 4, 15, 15, 0, 3, 3, 3, 3, 6, 3, 6, 0, 3, 15, 6, 6, 0, 15, 15, 3, 15, 3, 6, 15, 4, 0, 6, 15, 15, 6, 3, 3, 4, 15, 0, 15, 5, 3, 15, 15, 15, 3, 6, 3, 3, 4, 6, 3, 5, 6, 15, 15, 15, 15, 3, 15, 5, 15, 3, 15, 4, 5, 5, 6, 5, 15, 3, 3, 15, 6, 3, 3, 15, 3, 15, 15, 15, 15, 6, 15, 4, 15, 15, 4, 6, 3, 15, 3, 15, 5, 0, 6, 5, 0, 15, 15, 6, 15, 15, 5, 15, 15, 3, 15, 15, 4, 15, 15, 3, 4, 3, 3, 6, 0, 3, 5, 15, 4, 15, 3, 3, 6, 4, 3, 4, 3, 15, 4, 6, 15, 5, 6, 6, 5, 15, 15, 5, 6, 3, 0, 15, 4, 0, 4, 15, 5, 6, 0, 3, 15, 5, 15, 15, 6, 0, 3, 15, 3, 3, 6, 15, 3, 3, 4, 3, 3, 3, 0, 5, 15, 15, 6, 15, 15, 5, 5, 3, 15, 4, 3, 3, 4, 0, 3, 5, 6, 6, 4, 3, 15, 5, 3, 3, 3, 5, 4, 3, 0, 3, 3, 15, 3, 4, 15, 5, 3, 4, 6, 5, 6, 5, 3, 3, 3, 3, 15, 4, 15, 3, 4, 15, 15, 3, 4, 4, 4, 3, 15, 4, 5, 15, 15, 3, 3, 5, 6, 6, 5, 0, 0, 6, 4, 15, 15, 15, 3, 15, 6, 3, 5, 5, 3, 15, 5, 15, 6, 6, 5, 6, 15, 15, 15, 4, 5, 4, 5, 15, 15, 6, 15, 4, 15, 3, 15, 3, 15, 3, 15, 15, 5, 5, 4, 4, 15, 3, 15, 15, 15, 5, 15, 0, 5, 3, 5, 15, 3, 5, 4, 6, 15, 3, 15, 15, 6, 3, 3, 6, 3, 6, 3, 3, 15, 4, 3, 3, 15, 5, 15, 15, 5, 3, 6, 15, 15, 5, 3, 5, 4, 5, 3, 4, 5, 5, 3, 4, 3, 3, 4, 4, 4, 3, 4, 15, 5, 6, 0, 4, 4, 6, 15, 6, 5, 15, 15, 15, 6, 4, 5, 15, 15, 5, 3, 3, 15, 3, 3, 3, 3, 3, 4, 6, 3, 6, 15, 3, 3, 3, 3, 0, 0, 3, 3, 5, 5, 15, 6, 3, 3, 4, 15, 15, 5, 3, 6, 4, 3, 15, 15, 3, 15, 15, 15, 15, 3, 6, 15, 0, 6, 15, 3, 4, 15, 0, 6, 0, 15, 4, 4, 3, 6, 15, 15, 5, 3, 15, 5, 15, 3, 4, 15, 0, 15, 3, 3, 3, 5, 5, 4, 5, 5, 5, 15, 15, 5, 15, 3, 15, 5, 0, 0, 15, 0, 3, 15, 6, 15, 5, 3, 5, 3, 15, 6, 15, 5, 3, 15, 15, 15, 5, 3, 5, 3, 4, 5, 4, 3, 15, 15, 6, 15, 0, 5, 15, 15, 3, 3, 3, 15, 4, 4, 5, 5, 3, 6, 4, 15, 3, 6, 0, 4, 3, 5, 15, 6, 15, 5, 5, 5, 3, 15, 15, 15, 3, 15, 15, 3, 6, 3, 15, 4, 3, 15, 15, 15, 3, 3, 6, 5, 4, 3, 6, 15, 15, 15, 15, 0, 15, 0, 15, 3, 6, 4, 3, 3, 6, 3, 3, 5, 4, 4, 0, 3, 3, 6, 5, 3, 3, 3, 3, 5, 5, 15, 4, 3, 15, 15, 15, 15, 3, 3, 15, 15, 15, 15, 3, 3, 6, 15, 3, 5, 3, 4, 0, 3, 15, 4, 3, 15, 15, 4, 5, 6, 15, 3, 3, 3, 4, 5, 5, 15, 4, 15, 15, 3, 4, 3, 0, 3, 3, 5, 15, 15, 3, 5, 3, 3, 5, 15, 3, 15, 0, 0, 4, 6, 0, 4, 3, 5, 6, 15, 3, 3, 15, 3, 0, 15, 0, 6, 6, 15, 15, 15, 6, 15, 6, 5, 6, 6, 0, 3, 6, 6, 3, 15, 3, 15, 5, 4, 3, 15, 0, 3, 15, 3, 4, 3, 0, 15, 4, 15, 15, 6, 0, 15, 4, 15, 6, 3, 15, 6, 15, 15, 3, 5, 3, 6, 3, 6, 5, 15, 4, 3, 4, 3, 15, 15, 4, 15, 3, 3, 3, 3, 4, 6, 15, 0, 15, 15, 5, 3, 5, 3, 3, 15, 6, 3, 6, 5, 5, 5, 4, 5, 6, 5, 15, 15, 5, 6, 15, 15, 3, 15, 5, 15, 6, 5, 3, 3, 3, 15, 15, 3, 6, 15, 6, 15, 3, 6, 6, 15, 4, 3, 15, 5, 3, 0, 5, 15, 15, 15, 6, 6, 5, 3, 3, 6, 4, 3, 15, 4, 3, 4, 15, 15, 15, 3, 4, 4, 3, 6, 3, 15, 3, 6, 5, 15, 6, 15, 6, 6, 15, 15, 5, 15, 3, 15, 6, 5, 6, 3, 4, 3, 3, 3, 15, 5, 15, 3, 15, 5, 3, 3, 15, 5, 15, 3, 15, 15, 15, 6, 15, 5, 3, 6, 3, 15, 5, 3, 3, 6, 6, 0, 15, 5, 6, 5, 6, 6, 5, 3, 15, 15, 3, 6, 15, 4, 5, 6, 5, 5, 6, 5, 15, 15, 6, 6, 3, 15, 4, 3, 3, 15, 3, 4, 4, 5, 15, 3, 6, 3, 15, 4, 15, 15, 0, 3, 3, 6, 4, 3, 3, 5, 4, 15, 6, 3, 15, 3, 3, 4, 3, 3, 3, 3, 15, 5, 15, 3, 3, 3, 15, 15, 4, 15, 15, 3, 15, 3, 4, 3, 15, 0, 3, 5, 15, 15, 3, 15, 5, 15, 15, 15, 15, 3, 4, 3, 15, 15, 3, 3, 4, 15, 3, 6, 3, 4, 5, 15, 6, 15, 4, 15, 15, 6, 15, 5, 3, 5, 3, 15, 15, 3, 3, 15, 4, 6, 15, 3, 15, 6, 4, 3, 3, 3, 4, 4, 0, 6, 15, 3, 3, 15, 4, 15, 0, 15, 3, 3, 15, 3, 3, 15, 3, 6, 4, 3, 4, 3, 0, 15, 4, 5, 3, 6, 5, 3, 4, 3, 15, 3, 15, 15, 5, 5, 5, 5, 3, 3, 3, 3, 15, 15, 4, 4, 3, 3, 4, 5, 3, 15, 15, 5, 4, 5, 4, 15, 15, 15, 5, 3, 5, 6, 3, 15, 5, 3, 4, 6, 6, 0, 15, 15, 4, 6, 0, 3, 15, 15, 15, 3, 6, 4, 6, 15, 5, 6, 15, 15, 6, 3, 15, 15, 6, 5, 5, 15, 3, 5, 5, 6, 15, 3, 6, 4, 15, 15, 15, 15, 15, 0, 5, 6, 3, 4, 5, 4, 3, 15, 4, 3, 15, 3, 5, 3, 5, 15, 0, 5, 3, 15, 6, 15, 15, 4, 15, 6, 3, 15, 4, 3, 3, 6, 5, 15, 6, 15, 15, 15, 15, 15, 4, 3, 3, 5, 15, 15, 5, 15, 15, 0, 5, 3, 6, 3, 0, 3, 15, 6, 3, 3, 15, 5, 3, 15, 3, 5, 3, 15, 15, 6, 3, 6, 3, 3, 15, 15, 0, 5, 15, 15, 6, 5, 3, 3, 5, 15, 15, 4, 6, 3, 3, 15, 5, 4, 5, 5, 4, 15, 3, 15, 0, 15, 3, 15, 4, 4, 6, 3, 15, 15, 15, 3, 5, 3, 15, 15, 3, 5, 4, 4, 15, 5, 6, 4, 3, 3, 3, 15, 5, 15, 3, 15, 6, 3, 6, 0, 3, 6, 3, 3, 15, 15, 4, 15, 3, 4, 15, 5, 5, 5, 5, 15, 15, 3, 15, 15, 6, 0, 4, 6, 5, 3, 3, 3, 0, 5, 3, 6, 15, 15, 0, 3, 3, 5, 6, 15, 4, 3, 3, 3, 4, 15, 6, 5, 3, 15, 15, 5, 15, 6, 5, 3, 15, 4, 4, 6, 5, 5, 15, 3, 15, 4, 4, 4, 5, 6, 3, 4, 6, 15, 6, 3, 15, 4, 3, 6, 3, 3, 3, 5, 15, 3, 3, 6, 15, 5, 5, 3, 3, 4, 5, 15, 6, 15, 15, 15, 15, 3, 4, 6, 6, 3, 15, 6, 5, 5, 4, 15, 15, 5, 0, 15, 6, 5, 3, 3, 3, 5, 3, 5, 3, 3, 15, 15, 3, 5, 4, 3, 3, 5, 15, 3, 3, 15, 15, 3, 6, 3, 15, 5, 6, 5, 15, 6, 3, 3, 15, 3, 4, 3, 4, 5, 15, 15, 15, 5, 15, 3, 4, 15, 0, 15, 5, 6, 3, 6, 3, 15, 15, 6, 15, 15, 5, 15, 4, 4, 3, 5, 5, 4, 6, 3, 15, 15, 3, 0, 4, 3, 4, 5, 6, 6, 15, 6, 15, 4, 3, 5, 3, 15, 3, 15, 4, 3, 3, 0, 15, 3, 6, 15, 5, 4, 4, 15, 3, 15, 15, 6, 5, 15, 3, 15, 5, 4, 15, 5, 3, 15, 5, 4, 15, 15, 5, 4, 15, 15, 4, 15, 4, 3, 0, 3, 3, 15, 6, 6, 15, 5, 15, 5, 3, 5, 5, 15, 15, 15, 5, 15, 6, 6, 3, 6, 5, 4, 3, 15, 15, 3, 3, 3, 15, 3, 15, 15, 6, 15, 6, 15, 3, 5, 3, 15, 5, 3, 3, 15, 6, 6, 3, 3, 3, 5, 15, 15, 15, 5, 6, 5, 15, 5, 3, 3, 15, 3, 15, 3, 3, 15, 5, 6, 15, 3, 15, 3, 3, 5, 4, 4, 3, 6, 15, 15, 5, 15, 15, 15, 15, 15, 4, 3, 15, 4, 0, 15, 3, 3, 5, 0, 3, 3, 15, 15, 15, 15, 3, 15, 15, 4, 15, 6, 3, 4, 5, 5, 3, 3, 4, 3, 6, 3, 5, 5, 5, 6, 15, 15, 3, 3, 15, 3, 3, 15, 4, 15, 5, 6, 15, 0, 0, 6, 15, 15, 5, 15, 3, 3, 4, 3, 5, 15, 6, 6, 3, 0, 6, 3, 15, 3, 5, 4, 5, 6, 0, 4, 15, 15, 15, 3, 15, 15, 15, 4, 3, 15, 3, 3, 15, 3, 3, 3, 3, 3, 15, 3, 4, 15, 6, 6, 15, 3, 6, 3, 15, 6, 3, 3, 3, 4, 5, 3, 4, 3, 3, 5, 15, 3, 3, 15, 3, 4, 3, 15, 6, 3, 15, 3, 15, 15, 5, 15, 4, 15, 3, 3, 15, 4, 5, 4, 3, 6, 3, 5, 3, 15, 5, 15, 15, 6, 15, 3, 3, 6, 6, 15, 4, 5, 4, 6, 5, 4, 3, 5, 4, 4, 4, 15, 4, 15, 6, 6, 5, 3, 3, 3, 15, 6, 5, 6, 0, 5, 4, 15, 6, 6, 5, 3, 5, 15, 5, 5, 3, 3, 15, 3, 15, 3, 15, 3, 15, 15, 15, 3, 5, 15, 3, 3, 3, 4, 3, 3, 5, 5, 15, 15, 3, 5, 4, 5, 15, 3, 3, 3, 15, 15, 3, 3, 3, 3, 6, 6, 3, 6, 15, 15, 3, 4, 6, 0, 4, 3, 0, 3, 3, 15, 4, 15, 15, 3, 5, 15, 5, 15, 5, 5, 3, 6, 4, 6, 6, 4, 3, 5, 0, 3, 4, 5, 3, 3, 15, 15, 15, 3, 3, 3, 15, 15, 5, 6, 3, 6, 3, 4, 15, 15, 15, 3, 4, 15, 15, 15, 5, 5, 0, 3, 5, 6, 15, 15, 6, 3, 15, 15, 4, 15, 3, 3, 15, 15, 6, 5, 5, 3, 5, 6, 15, 15, 15, 3, 5, 0, 15, 6, 15, 4, 15, 15, 3, 3, 15, 3, 15, 6, 4, 0, 3, 3, 6, 3, 5, 4, 6, 15, 5, 5, 0, 4, 0, 5, 5, 15, 15, 6, 3, 3, 6, 15, 5, 3, 15, 4, 3, 3, 15, 5, 5, 5, 6, 15, 4, 15, 0, 15, 3, 3, 3, 15, 3, 5, 3, 15, 5, 5, 6, 5, 15, 5, 4, 15, 15, 3, 5, 6, 3, 3, 15, 4, 3, 5, 4, 3, 6, 15, 15, 6, 4, 3, 3, 6, 15, 5, 3, 3, 15, 15, 15, 15, 15, 15, 5, 15, 4, 0, 5, 3, 15, 6, 6, 15, 3, 5, 4, 6, 0, 5, 4, 5, 15, 0, 4, 15, 6, 5, 6, 15, 15, 3, 15, 15, 5, 3, 15, 0, 3, 0, 3, 6, 3, 5, 5, 4, 15, 15, 3, 0, 15, 15, 3, 3, 3, 4, 3, 6, 4, 4, 0, 5, 15, 15, 3, 15, 15, 5, 15, 3, 4, 3, 3, 5, 15, 5, 6, 4, 4, 4, 0, 3, 3, 15, 4, 15, 5, 3, 6, 3, 3, 4, 15, 3, 3, 4, 3, 15, 3, 15, 15, 4, 3, 3, 4, 15, 5, 6, 3, 5, 15, 6, 5, 15, 4, 3, 3, 3, 3, 15, 15, 15, 5, 5, 4, 6, 5, 3, 3, 3, 3, 3, 5, 15, 5, 15, 15, 3, 3, 3, 3, 3, 6, 15, 3, 3, 4, 4, 15, 15, 3, 0, 4, 5, 4, 15, 4, 15, 15, 3, 4, 3, 15, 3, 15, 4, 15, 3, 6, 3, 6, 15, 15, 15, 3, 15, 3, 3, 5, 4, 15, 15, 15, 6, 0, 3, 3, 15, 3, 15, 15, 6, 0, 15, 3, 3, 3, 6, 3, 5, 15, 5, 15, 15, 3, 5, 6, 3, 15, 4, 4, 4, 15, 6, 6, 5, 6, 3, 5, 5, 15, 3, 6, 6, 15, 3, 4, 5, 15, 15, 15, 4, 4, 4, 5, 15, 5, 15, 5, 3, 3, 15, 5, 5, 3, 15, 6, 15, 6, 15, 15, 3, 6, 3, 4, 3, 3, 3, 3, 3, 3, 15, 0, 5, 3, 3, 4, 15, 3, 3, 15, 5, 0, 15, 6, 4, 15, 3, 3, 15, 15, 4, 3, 5, 3, 15, 3, 4, 15, 5, 4, 5, 3, 15, 3, 4, 3, 15, 15, 15, 3, 6, 3, 15, 15, 5, 15, 4, 15, 4, 15, 6, 15, 5, 0, 3, 3, 3, 15, 15, 6, 15, 3, 15, 3, 15, 3, 15, 15, 15, 15, 4, 15, 3, 0, 3, 15, 3, 3, 0, 15, 15, 3, 15, 15, 4, 4, 15, 3, 6, 5, 3, 5, 3, 3, 4, 5, 15, 3, 4, 0, 3, 3, 6, 15, 6, 4, 5, 15, 6, 3, 0, 3, 4, 5, 15, 0, 15, 3, 3, 15, 3, 15, 15, 15, 3, 4, 4, 15, 3, 15, 0, 6, 4, 4, 6, 3, 5, 15, 3, 15, 15, 4, 15, 0, 15, 15, 4, 4, 6, 3, 15, 4, 6, 0, 6, 6, 15, 3, 15, 3, 15, 5, 0, 5, 5, 15, 15, 15, 5, 3, 0, 0, 4, 3, 15, 5, 15, 15, 15, 15, 6, 4, 15, 5, 3, 15, 5, 3, 3, 6, 3, 5, 3, 5, 4, 15, 3, 3, 6, 15, 15, 15, 4, 4, 3, 15, 5, 3, 4, 15, 15, 15, 4, 15, 15, 15, 0, 6, 5, 15, 6, 0, 4, 15, 6, 4, 3, 15, 3, 5, 15, 15, 15, 5, 15, 3, 5, 15, 3, 15, 6, 6, 3, 6, 15, 3, 6, 6, 3, 15, 15, 3, 5, 4, 15, 15, 15, 3, 5, 15, 15, 6, 3, 5, 3, 4, 6, 4, 5, 4, 4, 3, 15, 6, 5, 5, 4, 5, 6, 15, 6, 3, 15, 3, 3, 15, 3, 3, 3, 4, 3, 15, 15, 4, 15, 15, 15, 15, 5, 4, 5, 15, 3, 4, 15, 4, 4, 15, 6, 5, 15, 4, 15, 3, 6, 5, 0, 3, 0, 6, 3, 15, 6, 6, 5, 4, 15, 6, 3, 3, 5, 3, 0, 15, 15, 3, 15, 3, 3, 0, 15, 15, 6, 3, 3, 15, 3, 3, 6, 5, 3, 4, 6, 5, 3, 15, 4, 6, 6, 3, 6, 15, 15, 15, 6, 3, 15, 15, 6, 3, 3, 3, 15, 3, 4, 5, 15, 3, 15, 0, 15, 15, 0, 4, 3, 4, 6, 15, 4, 0, 15, 6, 0, 4, 5, 15, 3, 15, 6, 5, 3, 3, 6, 4, 4, 15, 15, 3, 6, 3, 6, 3, 15, 6, 15, 15, 3, 4, 6, 6, 5, 3, 3, 3, 5, 15, 5, 3, 6, 4, 15, 3, 3, 15, 3, 3, 5, 15, 5, 5, 0, 3, 15, 15, 4, 3, 6, 5, 3, 4, 6, 15, 3, 3, 3, 3, 5, 6, 0, 3, 6, 3, 3, 15, 3, 6, 3, 6, 15, 3, 15, 15, 4, 15, 3, 15, 3, 15, 4, 3, 5, 3, 3, 15, 15, 15, 15, 15, 5, 3, 4, 15, 15, 5, 15, 6, 3, 4, 5, 5, 3, 3, 3, 3, 3, 4, 5, 15, 15, 4, 3, 15, 3, 3, 15, 3, 6, 6, 5, 15, 3, 3, 0, 15, 15, 15, 15, 15, 5, 3, 15, 3, 4, 15, 5, 15, 3, 3, 15, 3, 0, 3, 15, 3, 6, 3, 3, 15, 15, 15, 5, 3, 5, 15, 5, 4, 4, 3, 4, 6, 15, 3, 15, 15, 5, 0, 6, 15, 5, 5, 4, 3, 15, 5, 5, 15, 15, 15, 6, 15, 15, 15, 15, 3, 3, 15, 15, 6, 3, 15, 6, 4, 3, 4, 15, 5, 15, 3, 15, 5, 3, 0, 6, 5, 15, 5, 15, 15, 5, 5, 6, 0, 15, 4, 15, 4, 15, 15, 3, 3, 4, 3, 4, 6, 3, 6, 15, 4, 3, 6, 5, 15, 15, 3, 15, 0, 6, 5, 6, 15, 15, 15, 15, 4, 3, 3, 15, 3, 3, 3, 15, 4, 15, 3, 5, 3, 6, 3, 15, 3, 15, 15, 3, 3, 4, 3, 15, 15, 15, 15, 3, 4, 6, 15, 15, 15, 6, 4, 4, 3, 6, 3, 15, 3, 6, 15, 15, 15, 3, 3, 15, 3, 0, 5, 4, 15, 6, 15, 6, 3, 15, 5, 15, 3, 4, 15, 6, 15, 15, 4, 15, 15, 3, 15, 15, 3, 6, 5, 15, 4, 4, 4, 15, 15, 6, 6, 3, 3, 3, 3, 6, 3, 4, 6, 3, 6, 3, 4, 4, 3, 15, 15, 4, 4, 15, 15, 6, 15, 4, 5, 15, 5, 5, 5, 3, 15, 15, 15, 15, 0, 4, 3, 3, 4, 4, 3, 15, 6, 4, 6, 5, 6, 5, 3, 0, 0, 0, 3, 4, 5, 5, 4, 15, 5, 3, 15, 3, 6, 6, 3, 15, 5, 4, 3, 4, 4, 15, 15, 3, 3, 6, 3, 15, 3, 5, 3, 15, 6, 3, 15, 15, 4, 6, 15, 3, 15, 5, 6, 6, 4, 3, 5, 15, 15, 3, 15, 15, 6, 3, 4, 3, 4, 4, 15, 15, 5, 15, 6, 0, 5, 15, 5, 3, 6, 15, 15, 0, 15, 15, 15, 15, 15, 6, 15, 4, 0, 4, 5, 5, 6, 5, 15, 4, 3, 15, 6, 15, 15, 15, 3, 15, 4, 15, 15, 5, 4, 5, 3, 15, 4, 6, 3, 5, 4, 5, 5, 15, 5, 3, 15, 5, 5, 3, 15, 3, 3, 6, 15, 5, 3, 3, 15, 15, 15, 5, 15, 15, 0, 15, 6, 6, 5, 15, 5, 3, 3, 4, 3, 0, 3, 15, 4, 15, 3, 3, 5, 3, 15, 0, 15, 4, 5, 4, 15, 15, 3, 15, 3, 3, 6, 15, 3, 3, 15, 6, 5, 3, 3, 3, 6, 6, 3, 3, 15, 15, 15, 3, 15, 4, 15, 3, 3, 3, 0, 5, 5, 3, 15, 15, 15, 15, 3, 3, 4, 15, 15, 3, 3, 5, 3, 3, 4, 6, 3, 3, 3, 6, 15, 15, 5, 3, 5, 6, 0, 3, 5, 15, 5, 4, 15, 3, 0, 15, 4, 3, 15, 15, 3, 15, 15, 5, 15, 5, 5, 6, 5, 6, 15, 15, 5, 6, 5, 3, 3, 5, 4, 15, 6, 15, 3, 3, 6, 5, 0, 5, 3, 5, 3, 15, 3, 15, 15, 3, 3, 4, 6, 4, 3, 15, 6, 3, 5, 5, 5, 5, 5, 3, 6, 15, 3, 3, 15, 3, 15, 6, 3, 15, 3, 15, 4, 3, 5, 4, 3, 15, 15, 5, 15, 3, 15, 5, 5, 15, 15, 15, 5, 4, 15, 3, 0, 3, 15, 3, 15, 15, 4, 3, 3, 6, 3, 3, 15, 6, 6, 4, 15, 15, 0, 15, 3, 5, 0, 3, 3, 3, 3, 3, 15, 3, 0, 5, 3, 4, 4, 5, 5, 0, 4, 15, 15, 3, 15, 3, 15, 15, 6, 4, 4, 3, 3, 3, 15, 15, 3, 3, 15, 3, 15, 6, 15, 6, 4, 4, 3, 15, 3, 15, 3, 6, 3, 3, 15, 3, 15, 3, 0, 15, 4, 15, 15, 0, 5, 6, 0, 15, 6, 15, 5, 5, 3, 5, 3, 5, 3, 5, 15, 4, 15, 0, 3, 15, 3, 3, 3, 3, 15, 3, 15, 15, 6, 6, 5, 15, 3, 15, 5, 5, 4, 4, 5, 5, 0, 15, 5, 4, 5, 6, 5, 15, 15, 3, 15, 4, 3, 15, 6, 15, 0, 4, 5, 4, 15, 15, 3, 15, 15, 3, 5, 5, 0, 6, 5, 15, 15, 6, 5, 4, 5, 3, 15, 6, 15, 3, 4, 6, 3, 3, 6, 15, 15, 3, 15, 15, 15, 3, 5, 6, 5, 6, 0, 5, 15, 3, 15, 5, 3, 6, 3, 5, 4, 0, 3, 3, 3, 15, 15, 15, 5, 4, 15, 3, 0, 3, 15, 15, 0, 6, 4, 3, 15, 3, 15, 0, 3, 15, 4, 5, 15, 15, 15, 6, 6, 5, 15, 0, 3, 15, 15, 5, 4, 15, 5, 3, 15, 15, 6, 15, 5, 3, 3, 15, 15, 4, 6, 15, 3, 3, 0, 5, 5, 3, 3, 3, 15, 3, 4, 3, 15, 3, 3, 3, 3, 6, 6, 15, 15, 5, 4, 15, 15, 5, 15, 4, 15, 15, 0, 4, 15, 5, 15, 4, 6, 3, 5, 15, 6, 15, 5, 3, 15, 15, 3, 5, 15, 5, 15, 5, 5, 3, 3, 5, 5, 6, 3, 15, 3, 6, 6, 15, 15, 3, 6, 6, 5, 3, 3, 3, 3, 3, 4, 3, 15, 15, 3, 3, 3, 3, 3, 3, 3, 15, 3, 4, 15, 15, 6, 15, 3, 5, 4, 15, 3, 6, 15, 3, 3, 15, 3, 6, 3, 3, 3, 5, 15, 15, 6, 4, 15, 5, 15, 5, 4, 3, 3, 15, 3, 15, 3, 6, 5, 3, 3, 15, 3, 15, 15, 3, 5, 15, 15, 15, 15, 5, 15, 0, 3, 15, 5, 3, 3, 3, 3, 5, 15, 3, 3, 15, 5, 15, 5, 3, 3, 5, 4, 3, 4, 6, 6, 15, 5, 6, 15, 4, 4, 15, 15, 0, 15, 6, 3, 4, 6, 15, 5, 3, 15, 4, 0, 6, 3, 15, 5, 6, 15, 15, 15, 3, 3, 15, 15, 6, 15, 4, 15, 5, 4, 3, 4, 3, 15, 15, 15, 15, 6, 3, 15, 15, 3, 4, 4, 3, 3, 15, 5, 15, 15, 15, 3, 3, 4, 4, 3, 15, 15, 3, 15, 4, 3, 15, 4, 15, 15, 5, 3, 3, 3, 15, 15, 3, 5, 3, 5, 5, 3, 4, 6, 5, 4, 3, 4, 5, 4, 0, 15, 15, 3, 6, 15, 3, 3, 5, 0, 5, 15, 15, 4, 15, 15, 4, 3, 4, 15, 15, 15, 6, 15, 0, 3, 3, 15, 15, 3, 5, 15, 3, 15, 15, 5, 15, 6, 15, 5, 15, 6, 3, 6, 6, 15, 3, 15, 6, 3, 3, 3, 5, 6, 3, 5, 3, 5, 15, 15, 6, 15, 3, 3, 15, 15, 3, 4, 3, 6, 4, 3, 4, 3, 5, 15, 6, 5, 4, 6, 5, 3, 3, 15, 15, 3, 3, 15, 0, 15, 6, 5, 15, 5, 5, 15, 15, 15, 15, 3, 3, 5, 15, 5, 3, 4, 15, 15, 3, 3, 6, 3, 15, 5, 15, 3, 3, 3, 15, 4, 0, 15, 4, 5, 3, 3, 6, 5, 6, 5, 3, 3, 3, 3, 5, 4, 3, 6, 3, 15, 15, 6, 15, 15, 6, 3, 3, 15, 4, 3, 3, 15, 6, 5, 5, 5, 3, 0, 15, 3, 5, 5, 15, 3, 3, 15, 0, 4, 15, 3, 3, 15, 5, 15, 0, 15, 15, 4, 3, 5, 15, 0, 4, 3, 4, 15, 15, 15, 15, 6, 15, 3, 15, 3, 15, 5, 15, 15, 0, 15, 5, 15, 5, 3, 15, 3, 3, 15, 5, 5, 5, 6, 3, 15, 5, 4, 6, 15, 5, 3, 3, 6, 3, 6, 3, 3, 15, 15, 5, 15, 15, 4, 15, 6, 6, 0, 15, 15, 3, 5, 15, 3, 0, 15, 15, 15, 3, 15, 15, 6, 15, 3, 3, 0, 3, 6, 15, 6, 3, 15, 5, 4, 5, 15, 4, 5, 5, 6, 5, 15, 15, 15, 6, 3, 4, 3, 15, 3, 5, 0, 5, 6, 15, 6, 3, 3, 6, 3, 3, 15, 3, 3, 15, 3, 15, 15, 6, 6, 6, 5, 3, 6, 15, 4, 3, 15, 3, 5, 3, 15, 3, 15, 0, 15, 15, 3, 4, 5, 6, 15, 15, 3, 0, 5, 5, 0, 5, 3, 0, 6, 3, 15, 15, 15, 4, 15, 4, 15, 6, 5, 3, 3, 4, 15, 4, 6, 3, 4, 6, 3, 3, 4, 6, 5, 15, 15, 15, 15, 4, 3, 3, 3, 5, 3, 15, 5, 3, 3, 6, 4, 15, 0, 4, 3, 6, 5, 15, 3, 15, 6, 5, 3, 5, 5, 15, 6, 3, 5, 5, 3, 6, 15, 15, 3, 15, 3, 15, 15, 3, 6, 3, 15, 6, 3, 6, 15, 15, 15, 5, 3, 6, 5, 3, 15, 0, 15, 3, 3, 3, 15, 5, 3, 15, 15, 3, 4, 5, 5, 5, 15, 15, 5, 5, 3, 15, 0, 6, 6, 3, 15, 15, 5, 4, 15, 15, 6, 15, 15, 15, 6, 15, 15, 15, 3, 15, 3, 15, 3, 4, 15, 4, 6, 15, 4, 6, 15, 15, 5, 3, 6, 6, 15, 3, 3, 0, 15, 4, 15, 3, 15, 3, 3, 5, 6, 4, 3, 15, 6, 4, 15, 6, 15, 3, 3, 5, 15, 4, 15, 3, 4, 15, 6, 3, 15, 15, 3, 3, 15, 4, 6, 5, 6, 4, 5, 15, 6, 5, 6, 3, 15, 4, 3, 3, 15, 15, 4, 15, 5, 3, 3, 3, 15, 3, 15, 15, 15, 15, 3, 6, 3, 3, 4, 15, 15, 4, 3, 3, 3, 6, 3, 6, 15, 15, 5, 4, 0, 0, 15, 5, 15, 3, 15, 4, 15, 15, 5, 5, 5, 15, 4, 15, 5, 15, 4, 5, 15, 4, 6, 4, 15, 15, 4, 3, 3, 5, 0, 15, 0, 15, 5, 6, 4, 0, 15, 3, 3, 15, 15, 3, 5, 6, 3, 3, 5, 3, 3, 3, 3, 5, 3, 15, 4, 3, 0, 15, 3, 6, 15, 15, 5, 15, 4, 15, 4, 5, 15, 15, 15, 6, 3, 4, 15, 3, 15, 3, 4, 5, 0, 6, 5, 4, 15, 6, 15, 3, 6, 5, 15, 3, 3, 5, 4, 3, 3, 6, 5, 3, 15, 15, 6, 4, 6, 5, 5, 15, 4, 15, 5, 5, 5, 15, 15, 15, 15, 15, 5, 15, 6, 15, 6, 3, 15, 5, 3, 6, 3, 15, 6, 15, 15, 15, 0, 6, 0, 0, 15, 15, 4, 15, 5, 4, 3, 4, 15, 5, 5, 15, 6, 3, 0, 4, 15, 5, 3, 15, 5, 5, 6, 5, 6, 5, 5, 3, 6, 15, 6, 15, 3, 6, 15, 6, 5, 0, 3, 5, 3, 3, 15, 15, 6, 3, 3, 15, 3, 15, 15, 3, 15, 3, 15, 15, 0, 4, 3, 6, 5, 15, 6, 4, 6, 6, 15, 3, 6, 6, 5, 4, 5, 3, 4, 3, 15, 6, 15, 5, 6, 6, 6, 3, 15, 4, 3, 15, 5, 0, 6, 3, 3, 15, 6, 3, 15, 15, 3, 15, 4, 5, 0, 3, 3, 4, 15, 6, 5, 5, 15, 5, 5, 4, 3, 15, 15, 15, 3, 3, 15, 5, 15, 4, 4, 3, 5, 4, 6, 3, 6, 3, 6, 15, 3, 6, 3, 3, 3, 4, 15, 4, 4, 3, 6, 3, 6, 3, 15, 15, 15, 15, 15, 5, 6, 6, 4, 6, 5, 15, 5, 0, 5, 3, 3, 3, 5, 5, 15, 15, 0, 15, 6, 3, 15, 3, 4, 0, 15, 4, 3, 3, 4, 3, 15, 4, 6, 5, 4, 3, 15, 15, 4, 15, 15, 15, 4, 15, 5, 6, 3, 6, 5, 3, 15, 4, 6, 15, 6, 5, 5, 6, 15, 15, 15, 15, 3, 15, 15, 5, 3, 15, 5, 6, 3, 15, 6, 15, 6, 15, 15, 15, 5, 4, 3, 3, 3, 3, 3, 15, 0, 4, 15, 0, 15, 15, 6, 3, 3, 5, 15, 5, 3, 15, 5, 5, 0, 15, 15, 15, 5, 4, 4, 5, 4, 15, 3, 3, 15, 15, 5, 5, 5, 4, 4, 3, 15, 3, 4, 3, 15, 3, 15, 3, 0, 4, 15, 15, 5, 5, 15, 15, 3, 6, 0, 3, 5, 15, 15, 15, 4, 15, 15, 0, 5, 4, 0, 15, 15, 3, 15, 3, 4, 15, 4, 15, 3, 3, 15, 15, 4, 15, 15, 6, 6, 15, 0, 3, 5, 0, 4, 5, 15, 15, 15, 15, 15, 3, 15, 6, 15, 3, 3, 6, 5, 6, 6, 6, 15, 5, 3, 0, 15, 6, 15, 15, 3, 6, 4, 3, 3, 4, 15, 15, 6, 15, 6, 4, 4, 0, 15, 3, 3, 5, 3, 6, 3, 0, 3, 5, 3, 3, 6, 15, 0, 3, 4, 3, 5, 3, 4, 3, 15, 3, 15, 3, 3, 15, 3, 5, 3, 4, 3, 5, 15, 3, 15, 15, 6, 15, 15, 15, 15, 15, 15, 3, 4, 5, 5, 5, 3, 5, 4, 15, 5, 15, 6, 15, 3, 15, 6, 5, 15, 4, 15, 15, 15, 4, 3, 4, 4, 5, 5, 3, 5, 3, 5, 15, 15, 15, 5, 3, 15, 5, 3, 15, 4, 3, 5, 4, 3, 4, 6, 15, 4, 6, 6, 0, 4, 4, 15, 3, 5, 6, 3, 15, 6, 3, 3, 3, 3, 15, 0, 5, 3, 3, 15, 6, 0, 5, 3, 15, 3, 15, 3, 6, 15, 6, 3, 6, 4, 15, 3, 4, 15, 4, 15, 15, 3, 3, 0, 3, 15, 3, 4, 3, 4, 3, 5, 6, 4, 3, 3, 15, 15, 3, 6, 6, 3, 4, 15, 3, 4, 15, 15, 15, 15, 3, 15, 3, 0, 15, 3, 3, 15, 15, 3, 3, 3, 4, 3, 3, 4, 5, 6, 3, 15, 3, 3, 3, 5, 15, 3, 6, 15, 3, 3, 3, 4, 3, 5, 3, 5, 4, 5, 3, 3, 3, 5, 4, 6, 4, 3, 15, 3, 6, 4, 3, 15, 3, 15, 0, 3, 15, 6, 5, 6, 6, 15, 15, 15, 5, 4, 4, 5, 0, 3, 5, 15, 3, 4, 3, 3, 4, 6, 4, 6, 5, 0, 15, 15, 3, 4, 5, 5, 0, 15, 3, 6, 4, 4, 15, 15, 0, 6, 15, 5, 0, 6, 4, 15, 5, 6, 3, 3, 3, 15, 15, 4, 3, 3, 6, 5, 15, 3, 3, 15, 3, 15, 15, 3, 4, 15, 6, 3, 6, 15, 15, 6, 3, 4, 3, 3, 15, 15, 5, 5, 4, 5, 6, 15, 0, 15, 3, 3, 3, 5, 15, 3, 6, 15, 3, 15, 3, 15, 3, 15, 3, 15, 15, 5, 3, 5, 6, 4, 15, 6, 6, 15, 3, 15, 5, 3, 6, 5, 6, 3, 4, 15, 3, 5, 4, 15, 5, 6, 5, 6, 5, 15, 5, 15, 0, 4, 6, 0, 3, 3, 3, 5, 15, 15, 4, 15, 3, 5, 3, 15, 15, 5, 15, 5, 3, 4, 15, 3, 15, 3, 15, 5, 3, 15, 6, 15, 15, 6, 4, 6, 3, 6, 6, 3, 15, 15, 15, 15, 3, 15, 3, 3, 15, 5, 3, 3, 3, 6, 15, 15, 0, 0, 15, 0, 5, 4, 4, 3, 4, 5, 3, 4, 3, 15, 15, 4, 0, 3, 15, 5, 3, 15, 3, 4, 3, 3, 6, 15, 3, 15, 15, 6, 15, 3, 15, 3, 4, 5, 3, 5, 3, 4, 15, 5, 3, 3, 4, 15, 3, 3, 3, 3, 3, 3, 3, 15, 0, 3, 15, 3, 15, 5, 5, 5, 4, 15, 5, 0, 0, 3, 4, 15, 15, 0, 3, 5, 15, 4, 15, 3, 3, 6, 3, 15, 6, 4, 4, 3, 3, 5, 15, 6, 3, 4, 15, 3, 15, 4, 15, 15, 4, 5, 3, 6, 6, 15, 4, 15, 15, 5, 0, 15, 15, 4, 0, 15, 3, 6, 15, 3, 3, 4, 6, 6, 5, 5, 6, 5, 5, 3, 6, 15, 6, 5, 5, 3, 6, 15, 4, 5, 4, 4, 5, 15, 4, 3, 15, 3, 4, 6, 15, 15, 3, 3, 6, 15, 4, 4, 15, 4, 4, 15, 3, 0, 0, 3, 5, 5, 15, 5, 15, 5, 3, 6, 0, 15, 15, 15, 6, 4, 15, 15, 3, 3, 15, 15, 3, 4, 15, 5, 5, 3, 15, 3, 15, 6, 3, 15, 15, 5, 0, 15, 3, 15, 3, 3, 15, 15, 6, 3, 6, 3, 6, 15, 15, 3, 5, 3, 15, 5, 5, 15, 0, 4, 6, 5, 6, 3, 4, 15, 5, 0, 4, 15, 5, 15, 6, 3, 15, 4, 15, 3, 6, 3, 15, 5, 6, 3, 5, 3, 15, 5, 5, 4, 15, 15, 3, 3, 3, 15, 0, 3, 4, 4, 5, 15, 15, 5, 4, 3, 3, 3, 3, 15, 3, 5, 3, 6, 15, 6, 3, 3, 3, 15, 6, 6, 5, 15, 15, 3, 5, 3, 15, 3, 15, 15, 15, 15, 15, 15, 5, 3, 15, 15, 4, 6, 3, 4, 15, 4, 3, 5, 15, 5, 6, 5, 15, 5, 5, 6, 5, 3, 4, 6, 6, 3, 15, 3, 5, 3, 5, 3, 3, 3, 15, 15, 4, 15, 3, 3, 15, 15, 3, 3, 3, 3, 5, 3, 15, 15, 3, 3, 4, 4, 15, 6, 5, 3, 15, 3, 15, 4, 4, 3, 15, 5, 3, 3, 3, 15, 3, 15, 6, 4, 6, 3, 3, 15, 15, 4, 3, 3, 3, 15, 5, 3, 15, 6, 15, 15, 15, 3, 3, 3, 3, 6, 15, 3, 4, 15, 0, 4, 5, 3, 3, 3, 5, 15, 3, 6, 6, 3, 15, 15, 5, 3, 15, 15, 3, 4, 15, 4, 6, 3, 4, 5, 3, 5, 3, 3, 3, 15, 3, 15, 6, 15, 15, 0, 15, 15, 3, 3, 5, 6, 15, 3, 5, 3, 3, 15, 3, 3, 15, 6, 15, 4, 6, 3, 4, 0, 5, 3, 15, 5, 4, 15, 3, 3, 5, 6, 15, 15, 3, 15, 15, 0, 3, 4, 4, 15, 3, 15, 5, 5, 15, 15, 15, 5, 6, 6, 3, 3, 15, 15, 15, 15, 15, 15, 0, 5, 4, 15, 4, 15, 3, 15, 15, 0, 15, 15, 15, 3, 0, 3, 5, 15, 0, 15, 3, 15, 5, 3, 15, 3, 3, 3, 5, 5, 6, 0, 15, 15, 3, 5, 15, 4, 6, 6, 3, 15, 0, 15, 4, 5, 15, 4, 3, 4, 3, 6, 6, 6, 15, 3, 3, 6, 15, 3, 6, 5, 15, 15, 6, 4, 6, 15, 15, 6, 4, 5, 5, 15, 15, 15, 3, 15, 3, 15, 6, 15, 15, 15, 4, 3, 4, 3, 15, 15, 15, 3, 5, 15, 6, 3, 15, 3, 15, 15, 15, 15, 15, 15, 5, 5, 15, 15, 3, 5, 15, 15, 5, 15, 15, 15, 3, 4, 15, 6, 3, 3, 3, 6, 15, 5, 4, 5, 3, 15, 3, 0, 5, 4, 6, 3, 15, 15, 6, 5, 15, 15, 15, 6, 4, 6, 15, 0, 3, 3, 15, 5, 15, 15, 5, 6, 5, 6, 15, 3, 15, 3, 3, 3, 15, 3, 15, 3, 15, 15, 5, 3, 6, 15, 3, 15, 4, 6, 3, 3, 4, 3, 15, 6, 3, 15, 15, 4, 3, 15, 6, 15, 5, 6, 3, 15, 15, 15, 0, 3, 4, 4, 5, 6, 3, 3, 4, 3, 4, 15, 15, 3, 3, 3, 3, 15, 15, 15, 15, 4, 15, 4, 3, 15, 5, 3, 3, 3, 15, 5, 15, 15, 15, 15, 3, 3, 4, 4, 4, 3, 6, 3, 15, 6, 4, 15, 3, 15, 15, 3, 15, 6, 5, 3, 15, 3, 5, 5, 3, 15, 5, 0, 3, 5, 3, 15, 3, 15, 4, 15, 15, 5, 15, 3, 4, 15, 15, 15, 15, 6, 15, 6, 15, 5, 3, 4, 3, 0, 3, 3, 3, 4, 3, 15, 15, 15, 15, 3, 6, 3, 5, 5, 5, 4, 3, 6, 5, 15, 4, 0, 0, 15, 15, 15, 5, 15, 3, 15, 6, 15, 3, 5, 3, 15, 4, 3, 6, 3, 6, 3, 4, 3, 15, 15, 15, 15, 15, 6, 4, 15, 3, 6, 3, 15, 15, 15, 5, 15, 5, 3, 5, 4, 4, 3, 15, 6, 6, 15, 15, 15, 15, 15, 15, 15, 6, 3, 3, 6, 5, 5, 3, 6, 3, 15, 3, 15, 4, 3, 15, 3, 3, 15, 4, 15, 3, 15, 3, 4, 6, 3, 6, 15, 3, 3, 3, 3, 15, 15, 5, 15, 3, 3, 3, 5, 15, 15, 4, 3, 3, 15, 3, 0, 15, 3, 5, 3, 0, 0, 3, 5, 15, 3, 15, 15, 15, 5, 15, 15, 4, 4, 0, 3, 15, 3, 15, 15, 3, 3, 3, 4, 3, 3, 6, 3, 3, 15, 5, 15, 15, 4, 4, 6, 6, 15, 3, 3, 6, 4, 15, 15, 15, 15, 5, 4, 4, 3, 4, 5, 6, 15, 4, 15, 5, 5, 3, 5, 4, 15, 6, 15, 3, 15, 3, 3, 15, 15, 15, 3, 15, 15, 15, 15, 5, 15, 6, 6, 0, 0, 15, 4, 15, 15, 15, 3, 3, 6, 4, 5, 15, 15, 15, 5, 15, 3, 3, 6, 6, 3, 15, 5, 15, 6, 3, 15, 15, 6, 3, 15, 15, 15, 15, 4, 4, 5, 4, 6, 15, 5, 6, 3, 4, 4, 3, 0, 3, 3, 5, 3, 4, 6, 15, 6, 15, 6, 15, 6, 15, 4, 3, 15, 15, 5, 3, 15, 3, 3, 15, 6, 6, 15, 3, 4, 4, 6, 6, 15, 6, 15, 6, 3, 3, 6, 6, 3, 5, 0, 6, 15, 3, 3, 5, 3, 4, 6, 6, 4, 5, 0, 15, 15, 15, 6, 5, 15, 3, 3, 3, 15, 3, 15, 3, 3, 5, 4, 5, 15, 3, 5, 5, 15, 3, 3, 3, 3, 3, 4, 4, 4, 6, 15, 15, 3, 3, 0, 3, 15, 0, 3, 6, 4, 6, 3, 4, 15, 15, 4, 5, 6, 4, 15, 3, 15, 3, 3, 15, 15, 3, 0, 15, 5, 3, 3, 0, 5, 15, 15, 3, 6, 3, 15, 5, 3, 15, 15, 15, 3, 6, 5, 3, 15, 6, 4, 3, 5, 5, 3, 0, 15, 3, 15, 5, 0, 15, 15, 4, 6, 15, 3, 15, 15, 15, 4, 6, 4, 3, 3, 4, 3, 3, 3, 6, 3, 15, 3, 15, 4, 3, 15, 15, 15, 3, 5, 5, 6, 15, 15, 5, 6, 15, 3, 15, 15, 15, 3, 15, 5, 0, 6, 15, 3, 3, 15, 3, 5, 3, 6, 15, 3, 5, 6, 15, 15, 3, 15, 3, 5, 3, 4, 4, 4, 0, 0, 3, 5, 5, 3, 6, 5, 6, 4, 5, 5, 15, 15, 15, 15, 3, 3, 15, 4, 3, 4, 3, 5, 15, 5, 15, 6, 4, 5, 3, 3, 3, 3, 3, 4, 3, 15, 3, 15, 3, 5, 15, 5, 5, 6, 3, 6, 15, 15, 3, 3, 5, 15, 4, 3, 15, 5, 15, 15, 3, 3, 15, 5, 4, 4, 0, 15, 15, 6, 3, 6, 3, 15, 15, 6, 6, 15, 5, 4, 3, 5, 3, 3, 5, 4, 3, 15, 4, 15, 5, 3, 3, 5, 15, 3, 5, 15, 3, 15, 5, 4, 4, 15, 15, 15, 3, 3, 15, 0, 5, 15, 15, 6, 4, 4, 5, 5, 3, 15, 5, 0, 15, 4, 3, 15, 5, 6, 15, 0, 15, 15, 3, 6, 15, 4, 5, 6, 6, 15, 15, 5, 4, 0, 3, 5, 15, 4, 15, 4, 5, 6, 4, 15, 15, 3, 15, 15, 6, 3, 5, 6, 5, 15, 3, 15, 15, 3, 4, 3, 15, 5, 5, 15, 5, 4, 15, 6, 5, 5, 0, 15, 6, 3, 6, 3, 4, 6, 4, 5, 5, 15, 15, 15, 15, 0, 15, 4, 5, 4, 3, 5, 15, 3, 15, 3, 15, 4, 0, 6, 15, 3, 4, 3, 3, 15, 15, 5, 6, 15, 15, 6, 15, 3, 5, 6, 15, 6, 3, 15, 6, 4, 6, 3, 5, 5, 5, 4, 5, 15, 0, 15, 3, 3, 5, 4, 3, 4, 15, 6, 3, 0, 3, 5, 3, 3, 3, 6, 3, 5, 3, 15, 0, 4, 6, 15, 15, 3, 15, 15, 15, 4, 5, 6, 15, 3, 5, 0, 15, 5, 5, 0, 3, 15, 6, 3, 15, 6, 15, 3, 4, 3, 5, 15, 5, 3, 3, 3, 5, 6, 15, 5, 3, 3, 15, 4, 15, 6, 5, 3, 0, 5, 15, 15, 3, 15, 0, 5, 3, 6, 5, 4, 3, 15, 4, 6, 6, 4, 3, 4, 3, 5, 3, 15, 3, 6, 3, 6, 3, 15, 15, 15, 15, 5, 3, 6, 4, 3, 4, 6, 3, 3, 6, 15, 4, 5, 15, 15, 4, 3, 0, 4, 5, 15, 5, 3, 4, 4, 4, 6, 4, 5, 15, 6, 15, 3, 15, 3, 6, 5, 4, 15, 15, 3, 3, 4, 3, 5, 6, 15, 15, 3, 5, 4, 5, 15, 15, 15, 3, 5, 6, 15, 15, 6, 3, 6, 4, 5, 3, 4, 15, 4, 3, 3, 5, 4, 6, 3, 4, 3, 3, 3, 5, 5, 4, 3, 5, 3, 15, 15, 4, 3, 6, 15, 15, 15, 4, 3, 4, 15, 5, 15, 4, 15, 5, 15, 15, 15, 3, 3, 15, 15, 15, 3, 5, 4, 6, 0, 15, 3, 5, 6, 3, 6, 4, 6, 3, 3, 3, 15, 4, 3, 6, 3, 15, 6, 6, 15, 5, 0, 4, 3, 6, 3, 3, 3, 15, 5, 3, 15, 3, 15, 15, 3, 4, 4, 6, 4, 3, 5, 15, 3, 0, 5, 5, 6, 15, 5, 4, 15, 5, 3, 3, 3, 15, 4, 3, 3, 5, 5, 3, 15, 6, 6, 0, 0, 0, 3, 5, 4, 0, 3, 3, 3, 15, 3, 6, 3, 5, 3, 15, 15, 3, 15, 3, 6, 3, 3, 0, 3, 15, 0, 15, 15, 4, 15, 6, 3, 3, 4, 4, 15, 15, 15, 15, 6, 3, 15, 5, 3, 3, 0, 4]\n"
     ]
    }
   ],
   "source": [
    "obad_Pt = sample_number_of_bad_edges(Pt, do_twist=False, samples=10000)\n",
    "print(obad_Pt)"
   ]
  },
  {
   "cell_type": "code",
   "execution_count": 145,
   "id": "e0310f72",
   "metadata": {
    "scrolled": true
   },
   "outputs": [
    {
     "data": {
      "text/plain": [
       "2"
      ]
     },
     "execution_count": 145,
     "metadata": {},
     "output_type": "execute_result"
    }
   ],
   "source": [
    "number_of_CDC(Pt, do_twist=False, samples=100)"
   ]
  },
  {
   "cell_type": "code",
   "execution_count": 146,
   "id": "4f545758",
   "metadata": {},
   "outputs": [
    {
     "data": {
      "text/plain": [
       "43"
      ]
     },
     "execution_count": 146,
     "metadata": {},
     "output_type": "execute_result"
    }
   ],
   "source": [
    "number_of_CDC(Pt, do_twist=False, samples=1000)"
   ]
  },
  {
   "cell_type": "code",
   "execution_count": 13,
   "id": "efab27f0",
   "metadata": {},
   "outputs": [
    {
     "data": {
      "text/plain": [
       "16"
      ]
     },
     "execution_count": 13,
     "metadata": {},
     "output_type": "execute_result"
    }
   ],
   "source": [
    "number_of_CDC(Pt, do_twist=True, samples=10000)"
   ]
  },
  {
   "cell_type": "code",
   "execution_count": 148,
   "id": "f0328967",
   "metadata": {},
   "outputs": [
    {
     "data": {
      "text/plain": [
       "3898"
      ]
     },
     "execution_count": 148,
     "metadata": {},
     "output_type": "execute_result"
    }
   ],
   "source": [
    "number_of_CDC(Pt, do_twist=False, samples=100000)"
   ]
  },
  {
   "cell_type": "code",
   "execution_count": 149,
   "id": "5e413a9b",
   "metadata": {},
   "outputs": [
    {
     "data": {
      "text/plain": [
       "39534"
      ]
     },
     "execution_count": 149,
     "metadata": {},
     "output_type": "execute_result"
    }
   ],
   "source": [
    "number_of_CDC(Pt, do_twist=False, samples=1000000)"
   ]
  },
  {
   "cell_type": "code",
   "execution_count": 22,
   "id": "074a8279",
   "metadata": {},
   "outputs": [
    {
     "data": {
      "text/plain": [
       "0.9798"
      ]
     },
     "execution_count": 22,
     "metadata": {},
     "output_type": "execute_result"
    }
   ],
   "source": [
    "np.mean(bad_Pt)/Pt.num_verts()"
   ]
  },
  {
   "cell_type": "code",
   "execution_count": 23,
   "id": "afb2c5d6",
   "metadata": {},
   "outputs": [
    {
     "data": {
      "text/plain": [
       "0.7237"
      ]
     },
     "execution_count": 23,
     "metadata": {},
     "output_type": "execute_result"
    }
   ],
   "source": [
    "np.mean(obad_Pt)/Pt.num_verts()"
   ]
  },
  {
   "cell_type": "code",
   "execution_count": 152,
   "id": "4b12a28b",
   "metadata": {},
   "outputs": [],
   "source": [
    "B1 = graphs.BlanusaFirstSnarkGraph()"
   ]
  },
  {
   "cell_type": "code",
   "execution_count": 159,
   "id": "c340128d",
   "metadata": {},
   "outputs": [
    {
     "data": {
      "text/plain": [
       "1"
      ]
     },
     "execution_count": 159,
     "metadata": {},
     "output_type": "execute_result"
    }
   ],
   "source": [
    "number_of_CDC(B1, do_twist=False, samples=100)"
   ]
  },
  {
   "cell_type": "code",
   "execution_count": 160,
   "id": "6f2ca137",
   "metadata": {},
   "outputs": [
    {
     "data": {
      "text/plain": [
       "1"
      ]
     },
     "execution_count": 160,
     "metadata": {},
     "output_type": "execute_result"
    }
   ],
   "source": [
    "number_of_CDC(B1, do_twist=False, samples=1000)"
   ]
  },
  {
   "cell_type": "code",
   "execution_count": 161,
   "id": "7ee5892d",
   "metadata": {},
   "outputs": [
    {
     "data": {
      "text/plain": [
       "19"
      ]
     },
     "execution_count": 161,
     "metadata": {},
     "output_type": "execute_result"
    }
   ],
   "source": [
    "number_of_CDC(B1, do_twist=False, samples=10000)"
   ]
  },
  {
   "cell_type": "code",
   "execution_count": 162,
   "id": "694e7b24",
   "metadata": {},
   "outputs": [
    {
     "data": {
      "text/plain": [
       "115"
      ]
     },
     "execution_count": 162,
     "metadata": {},
     "output_type": "execute_result"
    }
   ],
   "source": [
    "number_of_CDC(B1, do_twist=False, samples=100000)"
   ]
  },
  {
   "cell_type": "code",
   "execution_count": 163,
   "id": "0eed53b3",
   "metadata": {},
   "outputs": [
    {
     "data": {
      "text/plain": [
       "1123"
      ]
     },
     "execution_count": 163,
     "metadata": {},
     "output_type": "execute_result"
    }
   ],
   "source": [
    "number_of_CDC(B1, do_twist=False, samples=1000000)"
   ]
  },
  {
   "cell_type": "code",
   "execution_count": 164,
   "id": "b4418ecb",
   "metadata": {},
   "outputs": [],
   "source": [
    "B2 = graphs.BlanusaSecondSnarkGraph()"
   ]
  },
  {
   "cell_type": "code",
   "execution_count": 165,
   "id": "4f5b33ef",
   "metadata": {},
   "outputs": [
    {
     "data": {
      "text/plain": [
       "0"
      ]
     },
     "execution_count": 165,
     "metadata": {},
     "output_type": "execute_result"
    }
   ],
   "source": [
    "number_of_CDC(B2, do_twist=False, samples=100)"
   ]
  },
  {
   "cell_type": "code",
   "execution_count": 166,
   "id": "c82046b9",
   "metadata": {},
   "outputs": [
    {
     "data": {
      "text/plain": [
       "0"
      ]
     },
     "execution_count": 166,
     "metadata": {},
     "output_type": "execute_result"
    }
   ],
   "source": [
    "number_of_CDC(B2, do_twist=False, samples=1000)"
   ]
  },
  {
   "cell_type": "code",
   "execution_count": 167,
   "id": "0e79968c",
   "metadata": {},
   "outputs": [
    {
     "data": {
      "text/plain": [
       "14"
      ]
     },
     "execution_count": 167,
     "metadata": {},
     "output_type": "execute_result"
    }
   ],
   "source": [
    "number_of_CDC(B2, do_twist=False, samples=10000)"
   ]
  },
  {
   "cell_type": "code",
   "execution_count": 168,
   "id": "a15b5f1a",
   "metadata": {},
   "outputs": [
    {
     "data": {
      "text/plain": [
       "151"
      ]
     },
     "execution_count": 168,
     "metadata": {},
     "output_type": "execute_result"
    }
   ],
   "source": [
    "number_of_CDC(B2, do_twist=False, samples=100000)"
   ]
  },
  {
   "cell_type": "code",
   "execution_count": 169,
   "id": "f3f9e77e",
   "metadata": {},
   "outputs": [
    {
     "data": {
      "text/plain": [
       "1558"
      ]
     },
     "execution_count": 169,
     "metadata": {},
     "output_type": "execute_result"
    }
   ],
   "source": [
    "number_of_CDC(B2, do_twist=False, samples=1000000)"
   ]
  },
  {
   "cell_type": "code",
   "execution_count": 170,
   "id": "a2cacdaa",
   "metadata": {},
   "outputs": [
    {
     "data": {
      "text/plain": [
       "15162"
      ]
     },
     "execution_count": 170,
     "metadata": {},
     "output_type": "execute_result"
    }
   ],
   "source": [
    "number_of_CDC(B2, do_twist=False, samples=10000000)"
   ]
  },
  {
   "cell_type": "code",
   "execution_count": null,
   "id": "bbc86ecd",
   "metadata": {},
   "outputs": [],
   "source": []
  }
 ],
 "metadata": {
  "kernelspec": {
   "display_name": "SageMath 9.5",
   "language": "sage",
   "name": "sagemath"
  },
  "language_info": {
   "codemirror_mode": {
    "name": "ipython",
    "version": 3
   },
   "file_extension": ".py",
   "mimetype": "text/x-python",
   "name": "python",
   "nbconvert_exporter": "python",
   "pygments_lexer": "ipython3",
   "version": "3.10.6"
  }
 },
 "nbformat": 4,
 "nbformat_minor": 5
}
