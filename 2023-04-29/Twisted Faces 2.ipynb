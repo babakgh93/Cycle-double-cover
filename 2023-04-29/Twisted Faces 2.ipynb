{
 "cells": [
  {
   "cell_type": "code",
   "execution_count": 1,
   "id": "94b66f0c",
   "metadata": {},
   "outputs": [],
   "source": [
    "import numpy as np"
   ]
  },
  {
   "cell_type": "code",
   "execution_count": 2,
   "id": "ff2b7d30",
   "metadata": {},
   "outputs": [],
   "source": [
    "import random\n",
    "\n",
    "def getD(G): \n",
    "    V = G.vertices()\n",
    "    D = [None] + [(v,w,i) for v in V for w in G.neighbors(v) for i in [0,1]]\n",
    "    return D\n",
    "  \n",
    "def twisted_faces(G):\n",
    "    \"\"\"\n",
    "      We assume G is cubic for start.\n",
    "    \"\"\" \n",
    "    V = G.vertices()\n",
    "    D = getD(G)\n",
    "    Rlist = []\n",
    "    for v in V:\n",
    "        N = G.neighbors(v)\n",
    "        for i in range(3):\n",
    "            Rlist.append((D.index((v,N[i],1)),D.index((v,N[(i+1)%3],0))))\n",
    "            \n",
    "    R = Permutation(Rlist)\n",
    "    \n",
    "    Llist = []\n",
    "    E = G.edges(labels=None)\n",
    "    twists = [random.randint(0,1) for _ in E]\n",
    "    for (u,v),t in zip(E,twists):\n",
    "        Llist.append((D.index((u,v,0)),D.index((v,u,t))))\n",
    "        Llist.append((D.index((u,v,1)),D.index((v,u,(t+1)%2))))\n",
    "\n",
    "        #Llist.append(((u,v,1),(v,u,(t+1)%2)))\n",
    "        #Llist.append(None)\n",
    "    L = Permutation(Llist)\n",
    "\n",
    "        \n",
    "    return R*L, R, L, D"
   ]
  },
  {
   "cell_type": "code",
   "execution_count": 3,
   "id": "9cc8ec52",
   "metadata": {},
   "outputs": [],
   "source": [
    "def twisted_faces2(G, do_twist=True):\n",
    "    \"\"\"\n",
    "      Now for general G. \n",
    "    \"\"\" \n",
    "    V = G.vertices()\n",
    "    D = getD(G)\n",
    "    Rlist = []\n",
    "    for v in V:\n",
    "        N = G.neighbors(v)\n",
    "        d = len(N)\n",
    "        random.shuffle(N)\n",
    "        for x,y in zip(N,N[1:]+[N[0]]):\n",
    "            Rlist.append((D.index((v,x,1)),D.index((v,y,0))))\n",
    "            \n",
    "    R = Permutation(Rlist)\n",
    "    \n",
    "    Llist = []\n",
    "    E = G.edges(labels=None)\n",
    "    if do_twist:\n",
    "        twists = [random.randint(0,1) for _ in E]\n",
    "    else:\n",
    "        twists = [1 for _ in E]\n",
    "    for (u,v),t in zip(E,twists):\n",
    "        Llist.append((D.index((u,v,0)),D.index((v,u,t))))\n",
    "        Llist.append((D.index((u,v,1)),D.index((v,u,(t+1)%2))))\n",
    "\n",
    "        #Llist.append(((u,v,1),(v,u,(t+1)%2)))\n",
    "        #Llist.append(None)\n",
    "    L = Permutation(Llist)\n",
    "\n",
    "        \n",
    "    return R*L #, R, L, D"
   ]
  },
  {
   "cell_type": "code",
   "execution_count": 4,
   "id": "a3963d34",
   "metadata": {},
   "outputs": [],
   "source": [
    "def sample_number_of_twisted_faces(G,samples=10,do_twist=True):\n",
    "    return [len(twisted_faces2(G,do_twist=do_twist).cycle_type())/2 for _ in range(samples)]\n",
    "\n",
    "def exp_size(L):\n",
    "    return sum(L)/len(L)"
   ]
  },
  {
   "cell_type": "code",
   "execution_count": 5,
   "id": "0a2e90d3",
   "metadata": {},
   "outputs": [],
   "source": [
    "def equal(e,f):\n",
    "    return set(e[0:2])==set(f[0:2])"
   ]
  },
  {
   "cell_type": "code",
   "execution_count": 31,
   "id": "43e32856",
   "metadata": {},
   "outputs": [],
   "source": [
    "def check_tw_faces(G):\n",
    "    F = twisted_faces2(G)\n",
    "    R = twisted_faces2(G)\n",
    "    L = twisted_faces2(G)\n",
    "    D = twisted_faces2(G)\n",
    "    print(list(zip(D,range(100))))\n",
    "    C = F.cycle_tuples()\n",
    "    m = G.num_edges()\n",
    "    assert(len(D) == 4*m+1)\n",
    "    U = reduce(lambda x,y: x.union(y), [set(x) for x in C], set([]))\n",
    "    assert(len(U) == 4*m)\n",
    "    print(R.cycle_tuples())\n",
    "    for vert in R.cycle_tuples():\n",
    "        for x in vert:\n",
    "            print(D[x])\n",
    "        print('--')\n",
    "    print('\\n ===== \\n')\n",
    "\n",
    "    print(L.cycle_tuples())\n",
    "    for edge in L.cycle_tuples():\n",
    "        for x in edge:\n",
    "            print(D[x])\n",
    "        print('--')            \n",
    "\n",
    "    print('\\n ===== \\n')\n",
    "    print(F.cycle_tuples())\n",
    "    for face in C:\n",
    "        for d in face:\n",
    "            print(D[d])"
   ]
  },
  {
   "cell_type": "code",
   "execution_count": 32,
   "id": "c76baad3",
   "metadata": {},
   "outputs": [],
   "source": [
    "G = graphs.CompleteGraph(4)"
   ]
  },
  {
   "cell_type": "code",
   "execution_count": 33,
   "id": "e3ec8516",
   "metadata": {},
   "outputs": [
    {
     "name": "stdout",
     "output_type": "stream",
     "text": [
      "[(13, 0), (20, 1), (19, 2), (7, 3), (8, 4), (14, 5), (16, 6), (21, 7), (22, 8), (1, 9), (2, 10), (15, 11), (24, 12), (9, 13), (3, 14), (23, 15), (10, 16), (4, 17), (12, 18), (17, 19), (18, 20), (6, 21), (5, 22), (11, 23)]\n"
     ]
    },
    {
     "ename": "AssertionError",
     "evalue": "",
     "output_type": "error",
     "traceback": [
      "\u001b[0;31m---------------------------------------------------------------------------\u001b[0m",
      "\u001b[0;31mAssertionError\u001b[0m                            Traceback (most recent call last)",
      "\u001b[0;32m/tmp/ipykernel_1417/4165837815.py\u001b[0m in \u001b[0;36m<module>\u001b[0;34m\u001b[0m\n\u001b[0;32m----> 1\u001b[0;31m \u001b[0mcheck_tw_faces\u001b[0m\u001b[0;34m(\u001b[0m\u001b[0mG\u001b[0m\u001b[0;34m)\u001b[0m\u001b[0;34m\u001b[0m\u001b[0;34m\u001b[0m\u001b[0m\n\u001b[0m",
      "\u001b[0;32m/tmp/ipykernel_1417/832135345.py\u001b[0m in \u001b[0;36mcheck_tw_faces\u001b[0;34m(G)\u001b[0m\n\u001b[1;32m      7\u001b[0m     \u001b[0mC\u001b[0m \u001b[0;34m=\u001b[0m \u001b[0mF\u001b[0m\u001b[0;34m.\u001b[0m\u001b[0mcycle_tuples\u001b[0m\u001b[0;34m(\u001b[0m\u001b[0;34m)\u001b[0m\u001b[0;34m\u001b[0m\u001b[0;34m\u001b[0m\u001b[0m\n\u001b[1;32m      8\u001b[0m     \u001b[0mm\u001b[0m \u001b[0;34m=\u001b[0m \u001b[0mG\u001b[0m\u001b[0;34m.\u001b[0m\u001b[0mnum_edges\u001b[0m\u001b[0;34m(\u001b[0m\u001b[0;34m)\u001b[0m\u001b[0;34m\u001b[0m\u001b[0;34m\u001b[0m\u001b[0m\n\u001b[0;32m----> 9\u001b[0;31m     \u001b[0;32massert\u001b[0m\u001b[0;34m(\u001b[0m\u001b[0mlen\u001b[0m\u001b[0;34m(\u001b[0m\u001b[0mD\u001b[0m\u001b[0;34m)\u001b[0m \u001b[0;34m==\u001b[0m \u001b[0mInteger\u001b[0m\u001b[0;34m(\u001b[0m\u001b[0;36m4\u001b[0m\u001b[0;34m)\u001b[0m\u001b[0;34m*\u001b[0m\u001b[0mm\u001b[0m\u001b[0;34m+\u001b[0m\u001b[0mInteger\u001b[0m\u001b[0;34m(\u001b[0m\u001b[0;36m1\u001b[0m\u001b[0;34m)\u001b[0m\u001b[0;34m)\u001b[0m\u001b[0;34m\u001b[0m\u001b[0;34m\u001b[0m\u001b[0m\n\u001b[0m\u001b[1;32m     10\u001b[0m     \u001b[0mU\u001b[0m \u001b[0;34m=\u001b[0m \u001b[0mreduce\u001b[0m\u001b[0;34m(\u001b[0m\u001b[0;32mlambda\u001b[0m \u001b[0mx\u001b[0m\u001b[0;34m,\u001b[0m\u001b[0my\u001b[0m\u001b[0;34m:\u001b[0m \u001b[0mx\u001b[0m\u001b[0;34m.\u001b[0m\u001b[0munion\u001b[0m\u001b[0;34m(\u001b[0m\u001b[0my\u001b[0m\u001b[0;34m)\u001b[0m\u001b[0;34m,\u001b[0m \u001b[0;34m[\u001b[0m\u001b[0mset\u001b[0m\u001b[0;34m(\u001b[0m\u001b[0mx\u001b[0m\u001b[0;34m)\u001b[0m \u001b[0;32mfor\u001b[0m \u001b[0mx\u001b[0m \u001b[0;32min\u001b[0m \u001b[0mC\u001b[0m\u001b[0;34m]\u001b[0m\u001b[0;34m,\u001b[0m \u001b[0mset\u001b[0m\u001b[0;34m(\u001b[0m\u001b[0;34m[\u001b[0m\u001b[0;34m]\u001b[0m\u001b[0;34m)\u001b[0m\u001b[0;34m)\u001b[0m\u001b[0;34m\u001b[0m\u001b[0;34m\u001b[0m\u001b[0m\n\u001b[1;32m     11\u001b[0m     \u001b[0;32massert\u001b[0m\u001b[0;34m(\u001b[0m\u001b[0mlen\u001b[0m\u001b[0;34m(\u001b[0m\u001b[0mU\u001b[0m\u001b[0;34m)\u001b[0m \u001b[0;34m==\u001b[0m \u001b[0mInteger\u001b[0m\u001b[0;34m(\u001b[0m\u001b[0;36m4\u001b[0m\u001b[0;34m)\u001b[0m\u001b[0;34m*\u001b[0m\u001b[0mm\u001b[0m\u001b[0;34m)\u001b[0m\u001b[0;34m\u001b[0m\u001b[0;34m\u001b[0m\u001b[0m\n",
      "\u001b[0;31mAssertionError\u001b[0m: "
     ]
    }
   ],
   "source": [
    "check_tw_faces(G)"
   ]
  },
  {
   "cell_type": "code",
   "execution_count": null,
   "id": "b1b81022",
   "metadata": {},
   "outputs": [],
   "source": []
  }
 ],
 "metadata": {
  "kernelspec": {
   "display_name": "SageMath 9.5",
   "language": "sage",
   "name": "sagemath"
  },
  "language_info": {
   "codemirror_mode": {
    "name": "ipython",
    "version": 3
   },
   "file_extension": ".py",
   "mimetype": "text/x-python",
   "name": "python",
   "nbconvert_exporter": "python",
   "pygments_lexer": "ipython3",
   "version": "3.10.6"
  }
 },
 "nbformat": 4,
 "nbformat_minor": 5
}
