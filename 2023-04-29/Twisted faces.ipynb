{
 "cells": [
  {
   "cell_type": "code",
   "execution_count": 12,
   "id": "22f01cdb",
   "metadata": {},
   "outputs": [],
   "source": [
    "import numpy as np"
   ]
  },
  {
   "cell_type": "code",
   "execution_count": 1,
   "id": "08724acc",
   "metadata": {},
   "outputs": [],
   "source": [
    "import random\n",
    "\n",
    "def getD(G): \n",
    "    V = G.vertices()\n",
    "    D = [None] + [(v,w,i) for v in V for w in G.neighbors(v) for i in [0,1]]\n",
    "    return D\n",
    "  \n",
    "def twisted_faces(G):\n",
    "    \"\"\"\n",
    "      We assume G is cubic for start.\n",
    "    \"\"\" \n",
    "    V = G.vertices()\n",
    "    D = getD(G)\n",
    "    Rlist = []\n",
    "    for v in V:\n",
    "        N = G.neighbors(v)\n",
    "        for i in range(3):\n",
    "            Rlist.append((D.index((v,N[i],1)),D.index((v,N[(i+1)%3],0))))\n",
    "            \n",
    "    R = Permutation(Rlist)\n",
    "    \n",
    "    Llist = []\n",
    "    E = G.edges(labels=None)\n",
    "    twists = [random.randint(0,1) for _ in E]\n",
    "    for (u,v),t in zip(E,twists):\n",
    "        Llist.append((D.index((u,v,0)),D.index((v,u,t))))\n",
    "        Llist.append((D.index((u,v,1)),D.index((v,u,(t+1)%2))))\n",
    "\n",
    "        #Llist.append(((u,v,1),(v,u,(t+1)%2)))\n",
    "        #Llist.append(None)\n",
    "    L = Permutation(Llist)\n",
    "\n",
    "        \n",
    "    return R*L, R, L, D"
   ]
  },
  {
   "cell_type": "code",
   "execution_count": 2,
   "id": "ffc6ad22",
   "metadata": {},
   "outputs": [],
   "source": [
    "def twisted_faces2(G, do_twist=True):\n",
    "    \"\"\"\n",
    "      Now for general G. \n",
    "    \"\"\" \n",
    "    V = G.vertices()\n",
    "    D = getD(G)\n",
    "    Rlist = []\n",
    "    for v in V:\n",
    "        N = G.neighbors(v)\n",
    "        d = len(N)\n",
    "        random.shuffle(N)\n",
    "        for x,y in zip(N,N[1:]+[N[0]]):\n",
    "            Rlist.append((D.index((v,x,1)),D.index((v,y,0))))\n",
    "            \n",
    "    R = Permutation(Rlist)\n",
    "    \n",
    "    Llist = []\n",
    "    E = G.edges(labels=None)\n",
    "    if do_twist:\n",
    "        twists = [random.randint(0,1) for _ in E]\n",
    "    else:\n",
    "        twists = [1 for _ in E]\n",
    "    for (u,v),t in zip(E,twists):\n",
    "        Llist.append((D.index((u,v,0)),D.index((v,u,t))))\n",
    "        Llist.append((D.index((u,v,1)),D.index((v,u,(t+1)%2))))\n",
    "\n",
    "        #Llist.append(((u,v,1),(v,u,(t+1)%2)))\n",
    "        #Llist.append(None)\n",
    "    L = Permutation(Llist)\n",
    "\n",
    "        \n",
    "    return R*L #, R, L, D"
   ]
  },
  {
   "cell_type": "code",
   "execution_count": 3,
   "id": "e4a4fcb5",
   "metadata": {},
   "outputs": [],
   "source": [
    "def sample_number_of_twisted_faces(G,samples=10,do_twist=True):\n",
    "    return [len(twisted_faces2(G,do_twist=do_twist).cycle_type())/2 for _ in range(samples)]\n",
    "\n",
    "def exp_size(L):\n",
    "    return sum(L)/len(L)"
   ]
  },
  {
   "cell_type": "code",
   "execution_count": 4,
   "id": "ad522396",
   "metadata": {},
   "outputs": [],
   "source": [
    "def equal(e,f):\n",
    "    return set(e[0:2])==set(f[0:2])"
   ]
  },
  {
   "cell_type": "code",
   "execution_count": 5,
   "id": "7bd490c3",
   "metadata": {},
   "outputs": [
    {
     "data": {
      "text/plain": [
       "True"
      ]
     },
     "execution_count": 5,
     "metadata": {},
     "output_type": "execute_result"
    }
   ],
   "source": [
    "equal((1,0,1),(0,1,0))"
   ]
  },
  {
   "cell_type": "code",
   "execution_count": 6,
   "id": "1dfdcdd6",
   "metadata": {},
   "outputs": [],
   "source": [
    "def count_bad(G,do_twist=True):\n",
    "    D = getD(G)\n",
    "    F = twisted_faces2(G,do_twist=do_twist)\n",
    "    bad = 0\n",
    "    for face in F.cycle_tuples():\n",
    "        edges = [tuple(sorted(D[x][:2])) for x in face]\n",
    "        bad += len(edges) - len(set(edges))\n",
    "        \n",
    "    return bad/2\n",
    "    \n",
    "def sample_number_of_bad_edges(G,do_twist=True,samples=10):\n",
    "    return [count_bad(G,do_twist=do_twist) for _ in range(samples)]\n"
   ]
  },
  {
   "cell_type": "code",
   "execution_count": 170,
   "id": "749139ae",
   "metadata": {},
   "outputs": [
    {
     "data": {
      "text/plain": [
       "6"
      ]
     },
     "execution_count": 170,
     "metadata": {},
     "output_type": "execute_result"
    }
   ],
   "source": [
    "count_bad(K4)"
   ]
  },
  {
   "cell_type": "code",
   "execution_count": 95,
   "id": "ddf73308",
   "metadata": {},
   "outputs": [],
   "source": [
    "def check_tw_faces(G):\n",
    "    F,R,L,D = twisted_faces2(G)\n",
    "    print(list(zip(D,range(100))))\n",
    "    C = F.cycle_tuples()\n",
    "    m = G.num_edges()\n",
    "    assert(len(D) == 4*m+1)\n",
    "    U = reduce(lambda x,y: x.union(y), [set(x) for x in C], set([]))\n",
    "    assert(len(U) == 4*m)\n",
    "    print(R.cycle_tuples())\n",
    "    for vert in R.cycle_tuples():\n",
    "        for x in vert:\n",
    "            print(D[x])\n",
    "        print('--')\n",
    "    print('\\n ===== \\n')\n",
    "\n",
    "    print(L.cycle_tuples())\n",
    "    for edge in L.cycle_tuples():\n",
    "        for x in edge:\n",
    "            print(D[x])\n",
    "        print('--')            \n",
    "\n",
    "    print('\\n ===== \\n')\n",
    "    print(F.cycle_tuples())\n",
    "    for face in C:\n",
    "        for d in face:\n",
    "            print(D[d])"
   ]
  },
  {
   "cell_type": "code",
   "execution_count": 65,
   "id": "0f5c6002",
   "metadata": {},
   "outputs": [],
   "source": [
    "K4 = graphs.CompleteGraph(4)"
   ]
  },
  {
   "cell_type": "code",
   "execution_count": 68,
   "id": "c0e9ae78",
   "metadata": {},
   "outputs": [
    {
     "name": "stdout",
     "output_type": "stream",
     "text": [
      "[(1, 6), (2, 3), (4, 5), (7, 12), (8, 9), (10, 11), (13, 18), (14, 15), (16, 17), (19, 24), (20, 21), (22, 23)]\n",
      "(0, 1, 0)\n",
      "(0, 3, 1)\n",
      "--\n",
      "(0, 1, 1)\n",
      "(0, 2, 0)\n",
      "--\n",
      "(0, 2, 1)\n",
      "(0, 3, 0)\n",
      "--\n",
      "(1, 0, 0)\n",
      "(1, 3, 1)\n",
      "--\n",
      "(1, 0, 1)\n",
      "(1, 2, 0)\n",
      "--\n",
      "(1, 2, 1)\n",
      "(1, 3, 0)\n",
      "--\n",
      "(2, 0, 0)\n",
      "(2, 3, 1)\n",
      "--\n",
      "(2, 0, 1)\n",
      "(2, 1, 0)\n",
      "--\n",
      "(2, 1, 1)\n",
      "(2, 3, 0)\n",
      "--\n",
      "(3, 0, 0)\n",
      "(3, 2, 1)\n",
      "--\n",
      "(3, 0, 1)\n",
      "(3, 1, 0)\n",
      "--\n",
      "(3, 1, 1)\n",
      "(3, 2, 0)\n",
      "--\n",
      "\n",
      " ===== \n",
      "\n",
      "[(1, 7), (2, 8), (3, 14), (4, 13), (5, 20), (6, 19), (9, 15), (10, 16), (11, 22), (12, 21), (17, 23), (18, 24)]\n",
      "(0, 1, 0)\n",
      "(1, 0, 0)\n",
      "--\n",
      "(0, 1, 1)\n",
      "(1, 0, 1)\n",
      "--\n",
      "(0, 2, 0)\n",
      "(2, 0, 1)\n",
      "--\n",
      "(0, 2, 1)\n",
      "(2, 0, 0)\n",
      "--\n",
      "(0, 3, 0)\n",
      "(3, 0, 1)\n",
      "--\n",
      "(0, 3, 1)\n",
      "(3, 0, 0)\n",
      "--\n",
      "(1, 2, 0)\n",
      "(2, 1, 0)\n",
      "--\n",
      "(1, 2, 1)\n",
      "(2, 1, 1)\n",
      "--\n",
      "(1, 3, 0)\n",
      "(3, 1, 1)\n",
      "--\n",
      "(1, 3, 1)\n",
      "(3, 1, 0)\n",
      "--\n",
      "(2, 3, 0)\n",
      "(3, 2, 0)\n",
      "--\n",
      "(2, 3, 1)\n",
      "(3, 2, 1)\n",
      "--\n",
      "\n",
      " ===== \n",
      "\n",
      "[(1, 19, 18, 4, 20, 12), (2, 14, 9), (3, 8, 15), (5, 13, 24, 6, 7, 21), (10, 22, 17), (11, 16, 23)]\n",
      "(0, 1, 0)\n",
      "(3, 0, 0)\n",
      "(2, 3, 1)\n",
      "(0, 2, 1)\n",
      "(3, 0, 1)\n",
      "(1, 3, 1)\n",
      "(0, 1, 1)\n",
      "(2, 0, 1)\n",
      "(1, 2, 0)\n",
      "(0, 2, 0)\n",
      "(1, 0, 1)\n",
      "(2, 1, 0)\n",
      "(0, 3, 0)\n",
      "(2, 0, 0)\n",
      "(3, 2, 1)\n",
      "(0, 3, 1)\n",
      "(1, 0, 0)\n",
      "(3, 1, 0)\n",
      "(1, 2, 1)\n",
      "(3, 1, 1)\n",
      "(2, 3, 0)\n",
      "(1, 3, 0)\n",
      "(2, 1, 1)\n",
      "(3, 2, 0)\n"
     ]
    }
   ],
   "source": [
    "check_tw_faces(K4)"
   ]
  },
  {
   "cell_type": "code",
   "execution_count": 9,
   "id": "aa26bcd7",
   "metadata": {},
   "outputs": [],
   "source": [
    "F,D = twisted_faces(K4)"
   ]
  },
  {
   "cell_type": "code",
   "execution_count": 90,
   "id": "a7a1d28c",
   "metadata": {},
   "outputs": [
    {
     "data": {
      "image/png": "[encoded data removed]",
      "text/plain": [
       "Wheel graph: Graph on 5 vertices"
      ]
     },
     "execution_count": 90,
     "metadata": {},
     "output_type": "execute_result"
    }
   ],
   "source": [
    "W4 = graphs.WheelGraph(5); W4"
   ]
  },
  {
   "cell_type": "code",
   "execution_count": 97,
   "id": "38670bfa",
   "metadata": {},
   "outputs": [
    {
     "name": "stdout",
     "output_type": "stream",
     "text": [
      "[(None, 0), ((0, 1, 0), 1), ((0, 1, 1), 2), ((0, 2, 0), 3), ((0, 2, 1), 4), ((0, 3, 0), 5), ((0, 3, 1), 6), ((0, 4, 0), 7), ((0, 4, 1), 8), ((1, 2, 0), 9), ((1, 2, 1), 10), ((1, 4, 0), 11), ((1, 4, 1), 12), ((1, 0, 0), 13), ((1, 0, 1), 14), ((2, 1, 0), 15), ((2, 1, 1), 16), ((2, 3, 0), 17), ((2, 3, 1), 18), ((2, 0, 0), 19), ((2, 0, 1), 20), ((3, 2, 0), 21), ((3, 2, 1), 22), ((3, 4, 0), 23), ((3, 4, 1), 24), ((3, 0, 0), 25), ((3, 0, 1), 26), ((4, 1, 0), 27), ((4, 1, 1), 28), ((4, 3, 0), 29), ((4, 3, 1), 30), ((4, 0, 0), 31), ((4, 0, 1), 32)]\n",
      "[(1, 8), (2, 5), (3, 6), (4, 7), (9, 12), (10, 13), (11, 14), (15, 20), (16, 17), (18, 19), (21, 26), (22, 23), (24, 25), (27, 32), (28, 29), (30, 31)]\n",
      "(0, 1, 0)\n",
      "(0, 4, 1)\n",
      "--\n",
      "(0, 1, 1)\n",
      "(0, 3, 0)\n",
      "--\n",
      "(0, 2, 0)\n",
      "(0, 3, 1)\n",
      "--\n",
      "(0, 2, 1)\n",
      "(0, 4, 0)\n",
      "--\n",
      "(1, 2, 0)\n",
      "(1, 4, 1)\n",
      "--\n",
      "(1, 2, 1)\n",
      "(1, 0, 0)\n",
      "--\n",
      "(1, 4, 0)\n",
      "(1, 0, 1)\n",
      "--\n",
      "(2, 1, 0)\n",
      "(2, 0, 1)\n",
      "--\n",
      "(2, 1, 1)\n",
      "(2, 3, 0)\n",
      "--\n",
      "(2, 3, 1)\n",
      "(2, 0, 0)\n",
      "--\n",
      "(3, 2, 0)\n",
      "(3, 0, 1)\n",
      "--\n",
      "(3, 2, 1)\n",
      "(3, 4, 0)\n",
      "--\n",
      "(3, 4, 1)\n",
      "(3, 0, 0)\n",
      "--\n",
      "(4, 1, 0)\n",
      "(4, 0, 1)\n",
      "--\n",
      "(4, 1, 1)\n",
      "(4, 3, 0)\n",
      "--\n",
      "(4, 3, 1)\n",
      "(4, 0, 0)\n",
      "--\n",
      "\n",
      " ===== \n",
      "\n",
      "[(1, 14), (2, 13), (3, 20), (4, 19), (5, 26), (6, 25), (7, 31), (8, 32), (9, 16), (10, 15), (11, 27), (12, 28), (17, 22), (18, 21), (23, 30), (24, 29)]\n",
      "(0, 1, 0)\n",
      "(1, 0, 1)\n",
      "--\n",
      "(0, 1, 1)\n",
      "(1, 0, 0)\n",
      "--\n",
      "(0, 2, 0)\n",
      "(2, 0, 1)\n",
      "--\n",
      "(0, 2, 1)\n",
      "(2, 0, 0)\n",
      "--\n",
      "(0, 3, 0)\n",
      "(3, 0, 1)\n",
      "--\n",
      "(0, 3, 1)\n",
      "(3, 0, 0)\n",
      "--\n",
      "(0, 4, 0)\n",
      "(4, 0, 0)\n",
      "--\n",
      "(0, 4, 1)\n",
      "(4, 0, 1)\n",
      "--\n",
      "(1, 2, 0)\n",
      "(2, 1, 1)\n",
      "--\n",
      "(1, 2, 1)\n",
      "(2, 1, 0)\n",
      "--\n",
      "(1, 4, 0)\n",
      "(4, 1, 0)\n",
      "--\n",
      "(1, 4, 1)\n",
      "(4, 1, 1)\n",
      "--\n",
      "(2, 3, 0)\n",
      "(3, 2, 1)\n",
      "--\n",
      "(2, 3, 1)\n",
      "(3, 2, 0)\n",
      "--\n",
      "(3, 4, 0)\n",
      "(4, 3, 1)\n",
      "--\n",
      "(3, 4, 1)\n",
      "(4, 3, 0)\n",
      "--\n",
      "\n",
      " ===== \n",
      "\n",
      "[(1, 32, 11), (2, 26, 18, 4, 31, 23, 17, 9, 28, 24, 6, 20, 10), (3, 25, 29, 12, 16, 22, 30, 7, 19, 21, 5, 13, 15), (8, 14, 27)]\n",
      "(0, 1, 0)\n",
      "(4, 0, 1)\n",
      "(1, 4, 0)\n",
      "(0, 1, 1)\n",
      "(3, 0, 1)\n",
      "(2, 3, 1)\n",
      "(0, 2, 1)\n",
      "(4, 0, 0)\n",
      "(3, 4, 0)\n",
      "(2, 3, 0)\n",
      "(1, 2, 0)\n",
      "(4, 1, 1)\n",
      "(3, 4, 1)\n",
      "(0, 3, 1)\n",
      "(2, 0, 1)\n",
      "(1, 2, 1)\n",
      "(0, 2, 0)\n",
      "(3, 0, 0)\n",
      "(4, 3, 0)\n",
      "(1, 4, 1)\n",
      "(2, 1, 1)\n",
      "(3, 2, 1)\n",
      "(4, 3, 1)\n",
      "(0, 4, 0)\n",
      "(2, 0, 0)\n",
      "(3, 2, 0)\n",
      "(0, 3, 0)\n",
      "(1, 0, 0)\n",
      "(2, 1, 0)\n",
      "(0, 4, 1)\n",
      "(1, 0, 1)\n",
      "(4, 1, 0)\n"
     ]
    }
   ],
   "source": [
    "check_tw_faces(W4)"
   ]
  },
  {
   "cell_type": "code",
   "execution_count": 80,
   "id": "1c3dbef4",
   "metadata": {},
   "outputs": [
    {
     "data": {
      "text/plain": [
       "([17, 23, 24, 12, 11, 18, 1, 19, 13, 2, 20, 14, 22, 4, 3, 8, 7, 21, 6, 15, 10, 5, 16, 9],\n",
       " [4, 5, 6, 1, 2, 3, 12, 9, 8, 11, 10, 7, 16, 17, 18, 13, 14, 15, 24, 21, 20, 23, 22, 19],\n",
       " [12, 11, 18, 17, 23, 24, 14, 13, 19, 20, 2, 1, 8, 7, 21, 22, 4, 3, 9, 10, 15, 16, 5, 6],\n",
       " [None,\n",
       "  (0, 1, 0),\n",
       "  (0, 1, 1),\n",
       "  (0, 2, 0),\n",
       "  (0, 2, 1),\n",
       "  (0, 3, 0),\n",
       "  (0, 3, 1),\n",
       "  (1, 2, 0),\n",
       "  (1, 2, 1),\n",
       "  (1, 3, 0),\n",
       "  (1, 3, 1),\n",
       "  (1, 0, 0),\n",
       "  (1, 0, 1),\n",
       "  (2, 1, 0),\n",
       "  (2, 1, 1),\n",
       "  (2, 3, 0),\n",
       "  (2, 3, 1),\n",
       "  (2, 0, 0),\n",
       "  (2, 0, 1),\n",
       "  (3, 1, 0),\n",
       "  (3, 1, 1),\n",
       "  (3, 2, 0),\n",
       "  (3, 2, 1),\n",
       "  (3, 0, 0),\n",
       "  (3, 0, 1)])"
      ]
     },
     "execution_count": 80,
     "metadata": {},
     "output_type": "execute_result"
    }
   ],
   "source": [
    "twisted_faces2(W4)"
   ]
  },
  {
   "cell_type": "code",
   "execution_count": 22,
   "id": "5dc0e193",
   "metadata": {},
   "outputs": [],
   "source": [
    "F = twisted_faces2(K33)"
   ]
  },
  {
   "cell_type": "code",
   "execution_count": 27,
   "id": "69f810b0",
   "metadata": {},
   "outputs": [
    {
     "data": {
      "text/plain": [
       "[(1, 32, 12, 22, 14, 35, 11, 28, 15, 36, 5, 26, 9, 21),\n",
       " (2, 25, 16, 24),\n",
       " (3, 19, 13, 30),\n",
       " (4, 31, 18, 29, 10, 34, 17, 23, 7, 33, 6, 20, 8, 27)]"
      ]
     },
     "execution_count": 27,
     "metadata": {},
     "output_type": "execute_result"
    }
   ],
   "source": [
    "F.cycle_tuples()"
   ]
  },
  {
   "cell_type": "code",
   "execution_count": 21,
   "id": "f67f2d59",
   "metadata": {},
   "outputs": [],
   "source": [
    "K33 = graphs.CompleteBipartiteGraph(3,3)"
   ]
  },
  {
   "cell_type": "code",
   "execution_count": 99,
   "id": "e2bb4e89",
   "metadata": {},
   "outputs": [],
   "source": [
    "Pt = graphs.PetersenGraph()"
   ]
  },
  {
   "cell_type": "code",
   "execution_count": 104,
   "id": "7b5f0b50",
   "metadata": {},
   "outputs": [],
   "source": [
    "L = sample_number_of_twisted_faces(Pt, samples=1000)"
   ]
  },
  {
   "cell_type": "code",
   "execution_count": 107,
   "id": "54d1e055",
   "metadata": {},
   "outputs": [
    {
     "data": {
      "image/png": "[encoded data removed]",
      "text/plain": [
       "Graphics object consisting of 1 graphics primitive"
      ]
     },
     "metadata": {},
     "output_type": "display_data"
    }
   ],
   "source": [
    "histogram(L).show()"
   ]
  },
  {
   "cell_type": "code",
   "execution_count": 106,
   "id": "e599b958",
   "metadata": {},
   "outputs": [
    {
     "data": {
      "text/plain": [
       "1.87400000000000"
      ]
     },
     "execution_count": 106,
     "metadata": {},
     "output_type": "execute_result"
    }
   ],
   "source": [
    "exp_size(L).n()"
   ]
  },
  {
   "cell_type": "code",
   "execution_count": null,
   "id": "cf1b66b7",
   "metadata": {},
   "outputs": [],
   "source": []
  },
  {
   "cell_type": "code",
   "execution_count": 83,
   "id": "2fc704bb",
   "metadata": {},
   "outputs": [
    {
     "data": {
      "text/plain": [
       "[8, 8, 4, 4]"
      ]
     },
     "execution_count": 83,
     "metadata": {},
     "output_type": "execute_result"
    }
   ],
   "source": [
    "F.cycle_type()"
   ]
  },
  {
   "cell_type": "code",
   "execution_count": 84,
   "id": "32c1ab78",
   "metadata": {},
   "outputs": [
    {
     "data": {
      "text/plain": [
       "[(1, 20, 11, 16, 24, 5, 14, 9),\n",
       " (2, 13, 23, 12),\n",
       " (3, 7, 22, 18),\n",
       " (4, 19, 17, 10, 21, 6, 8, 15)]"
      ]
     },
     "execution_count": 84,
     "metadata": {},
     "output_type": "execute_result"
    }
   ],
   "source": [
    "F.cycle_tuples()"
   ]
  },
  {
   "cell_type": "code",
   "execution_count": 115,
   "id": "1f8a5780",
   "metadata": {},
   "outputs": [
    {
     "data": {
      "image/png": "[encoded data removed]",
      "text/plain": [
       "Graphics object consisting of 1 graphics primitive"
      ]
     },
     "metadata": {},
     "output_type": "display_data"
    },
    {
     "data": {
      "text/plain": [
       "3.07600000000000"
      ]
     },
     "execution_count": 115,
     "metadata": {},
     "output_type": "execute_result"
    }
   ],
   "source": [
    "G3 = graphs.RandomRegular(3,100)\n",
    "\n",
    "LG3 = sample_number_of_twisted_faces(G3, samples=1000)\n",
    "\n",
    "histogram(LG3).show()\n",
    "exp_size(LG3).n()"
   ]
  },
  {
   "cell_type": "code",
   "execution_count": 196,
   "id": "c1f9f48f",
   "metadata": {},
   "outputs": [],
   "source": [
    "G = graphs.CompleteGraph(40)"
   ]
  },
  {
   "cell_type": "code",
   "execution_count": 110,
   "id": "437dde29",
   "metadata": {},
   "outputs": [],
   "source": [
    "L = sample_number_of_twisted_faces(G, samples=1000)"
   ]
  },
  {
   "cell_type": "code",
   "execution_count": 111,
   "id": "253c9644",
   "metadata": {},
   "outputs": [
    {
     "data": {
      "text/plain": [
       "3.85300000000000"
      ]
     },
     "execution_count": 111,
     "metadata": {},
     "output_type": "execute_result"
    }
   ],
   "source": [
    "exp_size(L).n()"
   ]
  },
  {
   "cell_type": "code",
   "execution_count": 112,
   "id": "bfdfd222",
   "metadata": {},
   "outputs": [],
   "source": [
    "G2 = graphs.CompleteGraph(80)"
   ]
  },
  {
   "cell_type": "code",
   "execution_count": 113,
   "id": "c0ecb21c",
   "metadata": {},
   "outputs": [],
   "source": [
    "L2 = sample_number_of_twisted_faces(G2, samples=1000)"
   ]
  },
  {
   "cell_type": "code",
   "execution_count": 114,
   "id": "ec15731d",
   "metadata": {},
   "outputs": [
    {
     "data": {
      "text/plain": [
       "4.55200000000000"
      ]
     },
     "execution_count": 114,
     "metadata": {},
     "output_type": "execute_result"
    }
   ],
   "source": [
    "exp_size(L2).n()"
   ]
  },
  {
   "cell_type": "code",
   "execution_count": 115,
   "id": "b0ca689b",
   "metadata": {},
   "outputs": [
    {
     "data": {
      "text/plain": [
       "0.698999999999999"
      ]
     },
     "execution_count": 115,
     "metadata": {},
     "output_type": "execute_result"
    }
   ],
   "source": [
    "4.552-3.853"
   ]
  },
  {
   "cell_type": "code",
   "execution_count": 116,
   "id": "8e59f2a3",
   "metadata": {},
   "outputs": [
    {
     "data": {
      "text/plain": [
       "0.693147180559945"
      ]
     },
     "execution_count": 116,
     "metadata": {},
     "output_type": "execute_result"
    }
   ],
   "source": [
    "log(2.)"
   ]
  },
  {
   "cell_type": "code",
   "execution_count": 117,
   "id": "81fbc208",
   "metadata": {},
   "outputs": [
    {
     "data": {
      "text/plain": [
       "4.38202663467388"
      ]
     },
     "execution_count": 117,
     "metadata": {},
     "output_type": "execute_result"
    }
   ],
   "source": [
    "log(80.)"
   ]
  },
  {
   "cell_type": "code",
   "execution_count": 118,
   "id": "35ca4502",
   "metadata": {},
   "outputs": [
    {
     "data": {
      "text/plain": [
       "3.68887945411394"
      ]
     },
     "execution_count": 118,
     "metadata": {},
     "output_type": "execute_result"
    }
   ],
   "source": [
    "log(40.)"
   ]
  },
  {
   "cell_type": "code",
   "execution_count": null,
   "id": "342f2a86",
   "metadata": {},
   "outputs": [],
   "source": []
  },
  {
   "cell_type": "code",
   "execution_count": 119,
   "id": "735d1306",
   "metadata": {},
   "outputs": [],
   "source": [
    "G3 = graphs.CompleteGraph(120)"
   ]
  },
  {
   "cell_type": "code",
   "execution_count": 120,
   "id": "51d005b2",
   "metadata": {},
   "outputs": [],
   "source": [
    "L3 = sample_number_of_twisted_faces(G3, samples=1000)"
   ]
  },
  {
   "cell_type": "code",
   "execution_count": 121,
   "id": "4a6d478e",
   "metadata": {},
   "outputs": [
    {
     "data": {
      "text/plain": [
       "4.93600000000000"
      ]
     },
     "execution_count": 121,
     "metadata": {},
     "output_type": "execute_result"
    }
   ],
   "source": [
    "exp_size(L3).n()"
   ]
  },
  {
   "cell_type": "code",
   "execution_count": 122,
   "id": "ecbb54f8",
   "metadata": {},
   "outputs": [
    {
     "data": {
      "text/plain": [
       "4.78749174278205"
      ]
     },
     "execution_count": 122,
     "metadata": {},
     "output_type": "execute_result"
    }
   ],
   "source": [
    "log(120.)"
   ]
  },
  {
   "cell_type": "code",
   "execution_count": 124,
   "id": "47a1f54c",
   "metadata": {},
   "outputs": [
    {
     "data": {
      "text/plain": [
       "<class 'sage.rings.rational.Rational'>"
      ]
     },
     "execution_count": 124,
     "metadata": {},
     "output_type": "execute_result"
    }
   ],
   "source": [
    "type(L3[1])"
   ]
  },
  {
   "cell_type": "code",
   "execution_count": 125,
   "id": "36c69dc6",
   "metadata": {},
   "outputs": [
    {
     "data": {
      "image/png": "[encoded data removed]",
      "text/plain": [
       "Graphics object consisting of 1 graphics primitive"
      ]
     },
     "execution_count": 125,
     "metadata": {},
     "output_type": "execute_result"
    }
   ],
   "source": [
    "histogram(L3)"
   ]
  },
  {
   "cell_type": "code",
   "execution_count": 127,
   "id": "16d934ff",
   "metadata": {},
   "outputs": [
    {
     "data": {
      "text/plain": [
       "4.936"
      ]
     },
     "execution_count": 127,
     "metadata": {},
     "output_type": "execute_result"
    }
   ],
   "source": [
    "np.mean(L3)"
   ]
  },
  {
   "cell_type": "code",
   "execution_count": 128,
   "id": "06341b6d",
   "metadata": {},
   "outputs": [
    {
     "data": {
      "text/plain": [
       "3.721904"
      ]
     },
     "execution_count": 128,
     "metadata": {},
     "output_type": "execute_result"
    }
   ],
   "source": [
    "np.var(L3)"
   ]
  },
  {
   "cell_type": "code",
   "execution_count": 129,
   "id": "dd7cc256",
   "metadata": {},
   "outputs": [
    {
     "data": {
      "text/plain": [
       "1.9292236780632772"
      ]
     },
     "execution_count": 129,
     "metadata": {},
     "output_type": "execute_result"
    }
   ],
   "source": [
    "np.std(L3)"
   ]
  },
  {
   "cell_type": "markdown",
   "id": "b047d882",
   "metadata": {},
   "source": [
    "To be added: counting number of bad edges in a random embedding of a snark, say. Compare orientable vs. nonorientable embedding. "
   ]
  },
  {
   "cell_type": "code",
   "execution_count": 172,
   "id": "0004a4bb",
   "metadata": {},
   "outputs": [],
   "source": [
    "L = sample_number_of_bad_edges(K4, samples=1000)"
   ]
  },
  {
   "cell_type": "code",
   "execution_count": 173,
   "id": "2b326aef",
   "metadata": {},
   "outputs": [
    {
     "data": {
      "image/png": "[encoded data removed]",
      "text/plain": [
       "Graphics object consisting of 1 graphics primitive"
      ]
     },
     "execution_count": 173,
     "metadata": {},
     "output_type": "execute_result"
    }
   ],
   "source": [
    "histogram(L)"
   ]
  },
  {
   "cell_type": "code",
   "execution_count": 174,
   "id": "3fc6adbd",
   "metadata": {},
   "outputs": [],
   "source": [
    "Pt = graphs.PetersenGraph()"
   ]
  },
  {
   "cell_type": "code",
   "execution_count": 176,
   "id": "df97e8fb",
   "metadata": {},
   "outputs": [],
   "source": [
    "bad_Pt = sample_number_of_bad_edges(Pt, samples=1000)"
   ]
  },
  {
   "cell_type": "code",
   "execution_count": 207,
   "id": "e7eb4fd0",
   "metadata": {},
   "outputs": [],
   "source": [
    "obad_Pt = sample_number_of_bad_edges(Pt, do_twist=False, samples=1000)"
   ]
  },
  {
   "cell_type": "code",
   "execution_count": 177,
   "id": "5a0a723c",
   "metadata": {},
   "outputs": [
    {
     "data": {
      "image/png": "[encoded data removed]",
      "text/plain": [
       "Graphics object consisting of 1 graphics primitive"
      ]
     },
     "execution_count": 177,
     "metadata": {},
     "output_type": "execute_result"
    }
   ],
   "source": [
    "histogram(bad_Pt)"
   ]
  },
  {
   "cell_type": "code",
   "execution_count": 209,
   "id": "6191267f",
   "metadata": {},
   "outputs": [
    {
     "data": {
      "image/png": "[encoded data removed]",
      "text/plain": [
       "Graphics object consisting of 1 graphics primitive"
      ]
     },
     "execution_count": 209,
     "metadata": {},
     "output_type": "execute_result"
    }
   ],
   "source": [
    "histogram(obad_Pt)"
   ]
  },
  {
   "cell_type": "code",
   "execution_count": 187,
   "id": "17039cd7",
   "metadata": {},
   "outputs": [
    {
     "data": {
      "text/plain": [
       "0.9675"
      ]
     },
     "execution_count": 187,
     "metadata": {},
     "output_type": "execute_result"
    }
   ],
   "source": [
    "np.mean(bad_Pt)/Pt.num_verts()"
   ]
  },
  {
   "cell_type": "code",
   "execution_count": 211,
   "id": "7deab413",
   "metadata": {},
   "outputs": [
    {
     "data": {
      "text/plain": [
       "0.7432000000000001"
      ]
     },
     "execution_count": 211,
     "metadata": {},
     "output_type": "execute_result"
    }
   ],
   "source": [
    "np.mean(obad_Pt)/Pt.num_verts()"
   ]
  },
  {
   "cell_type": "code",
   "execution_count": 210,
   "id": "b39052bd",
   "metadata": {},
   "outputs": [
    {
     "data": {
      "text/plain": [
       "(1, 44)"
      ]
     },
     "execution_count": 210,
     "metadata": {},
     "output_type": "execute_result"
    }
   ],
   "source": [
    "bad_Pt.count(0), obad_Pt.count(0)"
   ]
  },
  {
   "cell_type": "code",
   "execution_count": 183,
   "id": "3afbc904",
   "metadata": {},
   "outputs": [],
   "source": [
    "F = graphs.FlowerSnark()"
   ]
  },
  {
   "cell_type": "code",
   "execution_count": 184,
   "id": "1c6a6b8e",
   "metadata": {},
   "outputs": [],
   "source": [
    "bad_F = sample_number_of_bad_edges(F, samples=1000)"
   ]
  },
  {
   "cell_type": "code",
   "execution_count": 212,
   "id": "b3d16aa6",
   "metadata": {},
   "outputs": [],
   "source": [
    "obad_F = sample_number_of_bad_edges(F, do_twist=False, samples=1000)"
   ]
  },
  {
   "cell_type": "code",
   "execution_count": 186,
   "id": "d7c7c0d8",
   "metadata": {},
   "outputs": [
    {
     "data": {
      "text/plain": [
       "1.00375"
      ]
     },
     "execution_count": 186,
     "metadata": {},
     "output_type": "execute_result"
    }
   ],
   "source": [
    "np.mean(bad_F)/F.num_verts()"
   ]
  },
  {
   "cell_type": "code",
   "execution_count": 213,
   "id": "bce8a82f",
   "metadata": {},
   "outputs": [
    {
     "data": {
      "text/plain": [
       "0.71755"
      ]
     },
     "execution_count": 213,
     "metadata": {},
     "output_type": "execute_result"
    }
   ],
   "source": [
    "np.mean(obad_F)/F.num_verts()"
   ]
  },
  {
   "cell_type": "code",
   "execution_count": 215,
   "id": "bd970dd5",
   "metadata": {},
   "outputs": [],
   "source": [
    "G = graphs.RandomRegular(3,50)"
   ]
  },
  {
   "cell_type": "code",
   "execution_count": 221,
   "id": "4be5e523",
   "metadata": {},
   "outputs": [],
   "source": [
    "bad_G = sample_number_of_bad_edges(G, samples=10000)"
   ]
  },
  {
   "cell_type": "code",
   "execution_count": 222,
   "id": "c1d9425f",
   "metadata": {},
   "outputs": [],
   "source": [
    "obad_G = sample_number_of_bad_edges(G, do_twist=False, samples=10000)"
   ]
  },
  {
   "cell_type": "code",
   "execution_count": 223,
   "id": "fdb03368",
   "metadata": {},
   "outputs": [
    {
     "data": {
      "text/plain": [
       "1.000794"
      ]
     },
     "execution_count": 223,
     "metadata": {},
     "output_type": "execute_result"
    }
   ],
   "source": [
    "np.mean(bad_G)/50"
   ]
  },
  {
   "cell_type": "code",
   "execution_count": 224,
   "id": "2ba95d52",
   "metadata": {},
   "outputs": [
    {
     "data": {
      "text/plain": [
       "0.742448"
      ]
     },
     "execution_count": 224,
     "metadata": {},
     "output_type": "execute_result"
    }
   ],
   "source": [
    "np.mean(obad_G)/50"
   ]
  },
  {
   "cell_type": "code",
   "execution_count": 226,
   "id": "d315aeac",
   "metadata": {},
   "outputs": [
    {
     "data": {
      "text/plain": [
       "(9, 5)"
      ]
     },
     "execution_count": 226,
     "metadata": {},
     "output_type": "execute_result"
    }
   ],
   "source": [
    "min(bad_G), min(obad_G)"
   ]
  },
  {
   "cell_type": "code",
   "execution_count": 225,
   "id": "ca061146",
   "metadata": {},
   "outputs": [
    {
     "data": {
      "text/plain": [
       "(0, 0)"
      ]
     },
     "execution_count": 225,
     "metadata": {},
     "output_type": "execute_result"
    }
   ],
   "source": [
    "bad_G.count(0), obad_G.count(0)"
   ]
  },
  {
   "cell_type": "code",
   "execution_count": 205,
   "id": "7b2f3f94",
   "metadata": {},
   "outputs": [],
   "source": [
    "TU = sample_number_of_twisted_faces(G,samples=100)"
   ]
  },
  {
   "cell_type": "code",
   "execution_count": 203,
   "id": "4d98f5d6",
   "metadata": {},
   "outputs": [],
   "source": [
    "TO = sample_number_of_twisted_faces(G,do_twist=False,samples=100)"
   ]
  },
  {
   "cell_type": "code",
   "execution_count": 208,
   "id": "2d361fed",
   "metadata": {},
   "outputs": [
    {
     "data": {
      "text/plain": [
       "(3.94, 6.22)"
      ]
     },
     "execution_count": 208,
     "metadata": {},
     "output_type": "execute_result"
    }
   ],
   "source": [
    "np.mean(TU), np.mean(TO)"
   ]
  },
  {
   "cell_type": "code",
   "execution_count": 228,
   "id": "a28077e5",
   "metadata": {},
   "outputs": [
    {
     "data": {
      "image/png": "[encoded data removed]",
      "text/plain": [
       "Graphics object consisting of 51 graphics primitives"
      ]
     },
     "execution_count": 228,
     "metadata": {},
     "output_type": "execute_result"
    }
   ],
   "source": [
    "D = graphs.DodecahedralGraph(); D.plot()"
   ]
  },
  {
   "cell_type": "code",
   "execution_count": 245,
   "id": "fa0693a5",
   "metadata": {},
   "outputs": [],
   "source": [
    "bad_D = sample_number_of_bad_edges(D, samples=10000)"
   ]
  },
  {
   "cell_type": "code",
   "execution_count": 246,
   "id": "e1676215",
   "metadata": {},
   "outputs": [],
   "source": [
    "obad_D = sample_number_of_bad_edges(D, do_twist=False, samples=10000)"
   ]
  },
  {
   "cell_type": "code",
   "execution_count": 247,
   "id": "b2b0a439",
   "metadata": {},
   "outputs": [
    {
     "data": {
      "text/plain": [
       "(1, 4)"
      ]
     },
     "execution_count": 247,
     "metadata": {},
     "output_type": "execute_result"
    }
   ],
   "source": [
    "bad_D.count(0), obad_D.count(0)"
   ]
  },
  {
   "cell_type": "code",
   "execution_count": 248,
   "id": "9dd073b1",
   "metadata": {},
   "outputs": [
    {
     "data": {
      "text/plain": [
       "(0.987195, 0.70848)"
      ]
     },
     "execution_count": 248,
     "metadata": {},
     "output_type": "execute_result"
    }
   ],
   "source": [
    "np.mean(bad_D)/20, np.mean(obad_D)/20"
   ]
  },
  {
   "cell_type": "code",
   "execution_count": 7,
   "id": "23d17085",
   "metadata": {},
   "outputs": [],
   "source": [
    "B1 = graphs.BlanusaFirstSnarkGraph()\n",
    "B2 = graphs.BlanusaSecondSnarkGraph()"
   ]
  },
  {
   "cell_type": "code",
   "execution_count": 9,
   "id": "ca2de554",
   "metadata": {},
   "outputs": [],
   "source": [
    "bad_B1 = sample_number_of_bad_edges(B1, samples=1000)"
   ]
  },
  {
   "cell_type": "code",
   "execution_count": 10,
   "id": "60ce9f6b",
   "metadata": {},
   "outputs": [],
   "source": [
    "bad_B2 = sample_number_of_bad_edges(B2, samples=1000)"
   ]
  },
  {
   "cell_type": "code",
   "execution_count": 14,
   "id": "9aae90a7",
   "metadata": {},
   "outputs": [
    {
     "data": {
      "text/plain": [
       "0.9959444444444444"
      ]
     },
     "execution_count": 14,
     "metadata": {},
     "output_type": "execute_result"
    }
   ],
   "source": [
    "np.mean(bad_B1)/B1.num_verts()"
   ]
  },
  {
   "cell_type": "code",
   "execution_count": 18,
   "id": "1d3ae079",
   "metadata": {},
   "outputs": [
    {
     "data": {
      "text/plain": [
       "0.7202222222222222"
      ]
     },
     "execution_count": 18,
     "metadata": {},
     "output_type": "execute_result"
    }
   ],
   "source": [
    "np.mean(obad_B1)/B1.num_verts()"
   ]
  },
  {
   "cell_type": "code",
   "execution_count": 15,
   "id": "c355ce9c",
   "metadata": {},
   "outputs": [
    {
     "data": {
      "text/plain": [
       "1.0005"
      ]
     },
     "execution_count": 15,
     "metadata": {},
     "output_type": "execute_result"
    }
   ],
   "source": [
    "np.mean(bad_B2)/B2.num_verts()"
   ]
  },
  {
   "cell_type": "code",
   "execution_count": 19,
   "id": "6e256de2",
   "metadata": {},
   "outputs": [
    {
     "data": {
      "text/plain": [
       "0.7396666666666667"
      ]
     },
     "execution_count": 19,
     "metadata": {},
     "output_type": "execute_result"
    }
   ],
   "source": [
    "np.mean(obad_B2)/B2.num_verts()"
   ]
  },
  {
   "cell_type": "code",
   "execution_count": null,
   "id": "95864d61",
   "metadata": {},
   "outputs": [],
   "source": []
  },
  {
   "cell_type": "code",
   "execution_count": 16,
   "id": "33c077fd",
   "metadata": {},
   "outputs": [],
   "source": [
    "obad_B1 = sample_number_of_bad_edges(B1, do_twist=False, samples=1000)"
   ]
  },
  {
   "cell_type": "code",
   "execution_count": 17,
   "id": "0d4c99d1",
   "metadata": {},
   "outputs": [],
   "source": [
    "obad_B2 = sample_number_of_bad_edges(B2, do_twist=False, samples=1000)"
   ]
  },
  {
   "cell_type": "code",
   "execution_count": 28,
   "id": "28642c7f",
   "metadata": {},
   "outputs": [],
   "source": [
    "K4 = graphs.CompleteGraph(4)"
   ]
  },
  {
   "cell_type": "code",
   "execution_count": 40,
   "id": "aeb91d0c",
   "metadata": {},
   "outputs": [],
   "source": [
    "bad_K4 = sample_number_of_bad_edges(K4, samples=100000)"
   ]
  },
  {
   "cell_type": "code",
   "execution_count": 41,
   "id": "404eb828",
   "metadata": {},
   "outputs": [
    {
     "data": {
      "text/plain": [
       "0.962275"
      ]
     },
     "execution_count": 41,
     "metadata": {},
     "output_type": "execute_result"
    }
   ],
   "source": [
    "np.mean(bad_K4)/4"
   ]
  },
  {
   "cell_type": "code",
   "execution_count": 42,
   "id": "c6b8870e",
   "metadata": {},
   "outputs": [],
   "source": [
    "bad_K33 = sample_number_of_bad_edges(K33, samples=1000)"
   ]
  },
  {
   "cell_type": "code",
   "execution_count": 43,
   "id": "1c340ed2",
   "metadata": {},
   "outputs": [
    {
     "data": {
      "text/plain": [
       "0.9605"
      ]
     },
     "execution_count": 43,
     "metadata": {},
     "output_type": "execute_result"
    }
   ],
   "source": [
    "np.mean(bad_K33)/6"
   ]
  },
  {
   "cell_type": "code",
   "execution_count": 53,
   "id": "738bad11",
   "metadata": {},
   "outputs": [],
   "source": [
    "C = graphs.CycleGraph(19)"
   ]
  },
  {
   "cell_type": "code",
   "execution_count": 45,
   "id": "5df7a54a",
   "metadata": {},
   "outputs": [],
   "source": [
    "K2 = graphs.CompleteGraph(2)"
   ]
  },
  {
   "cell_type": "code",
   "execution_count": 54,
   "id": "5286cc1b",
   "metadata": {},
   "outputs": [],
   "source": [
    "H = C.cartesian_product(K2)"
   ]
  },
  {
   "cell_type": "code",
   "execution_count": 59,
   "id": "8c791e04",
   "metadata": {},
   "outputs": [],
   "source": [
    "bad_H = sample_number_of_bad_edges(H, samples=1000)"
   ]
  },
  {
   "cell_type": "code",
   "execution_count": 60,
   "id": "46ab4735",
   "metadata": {},
   "outputs": [
    {
     "data": {
      "text/plain": [
       "0.9837631578947369"
      ]
     },
     "execution_count": 60,
     "metadata": {},
     "output_type": "execute_result"
    }
   ],
   "source": [
    "np.mean(bad_H)/H.num_verts()"
   ]
  },
  {
   "cell_type": "code",
   "execution_count": 48,
   "id": "4de9c65c",
   "metadata": {},
   "outputs": [
    {
     "data": {
      "image/png": "[encoded data removed]",
      "text/plain": [
       "Graph on 18 vertices"
      ]
     },
     "execution_count": 48,
     "metadata": {},
     "output_type": "execute_result"
    }
   ],
   "source": []
  },
  {
   "cell_type": "code",
   "execution_count": null,
   "id": "41acb83e",
   "metadata": {},
   "outputs": [],
   "source": []
  }
 ],
 "metadata": {
  "kernelspec": {
   "display_name": "SageMath 9.5",
   "language": "sage",
   "name": "sagemath"
  },
  "language_info": {
   "codemirror_mode": {
    "name": "ipython",
    "version": 3
   },
   "file_extension": ".py",
   "mimetype": "text/x-python",
   "name": "python",
   "nbconvert_exporter": "python",
   "pygments_lexer": "ipython3",
   "version": "3.10.6"
  }
 },
 "nbformat": 4,
 "nbformat_minor": 5
}
