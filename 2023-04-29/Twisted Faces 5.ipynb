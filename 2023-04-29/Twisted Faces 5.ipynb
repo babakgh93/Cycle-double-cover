{
 "cells": [
  {
   "cell_type": "code",
   "execution_count": 1,
   "id": "a55e5f34",
   "metadata": {},
   "outputs": [],
   "source": [
    "import numpy as np\n",
    "\n",
    "import random\n",
    "\n",
    "def getD(G): \n",
    "    V = G.vertices()\n",
    "    D = [None] + [(v,w,i) for v in V for w in G.neighbors(v) for i in [0,1]]\n",
    "    return D\n",
    "\n",
    "def twisted_faces2(G, do_twist=True):\n",
    "    \"\"\"\n",
    "      Now for general G. \n",
    "    \"\"\" \n",
    "    V = G.vertices()\n",
    "    D = getD(G)\n",
    "    Rlist = []\n",
    "    for v in V:\n",
    "        N = G.neighbors(v)\n",
    "        d = len(N)\n",
    "        random.shuffle(N)\n",
    "        for x,y in zip(N,N[1:]+[N[0]]):\n",
    "            Rlist.append((D.index((v,x,1)),D.index((v,y,0))))\n",
    "            print(Rlist)\n",
    "    R = Permutation(Rlist)\n",
    "    print(\"R = \", R)\n",
    "    Llist = []\n",
    "    E = G.edges(labels=None)\n",
    "    if do_twist:\n",
    "        twists = [random.randint(0,1) for _ in E]\n",
    "    else:\n",
    "        twists = [1 for _ in E]\n",
    "    for (u,v),t in zip(E,twists):\n",
    "        Llist.append((D.index((u,v,0)),D.index((v,u,t))))\n",
    "        Llist.append((D.index((u,v,1)),D.index((v,u,(t+1)%2))))\n",
    "        print(Llist)\n",
    "\n",
    "        #Llist.append(((u,v,1),(v,u,(t+1)%2)))\n",
    "        #Llist.append(None)\n",
    "    L = Permutation(Llist)\n",
    "    print(\"L = \", L)\n",
    "    print(\"twisted_faces = \", R*L)    \n",
    "    return R*L #, R, L, D\n",
    "\n",
    "def sample_number_of_twisted_faces(G,samples=10,do_twist=True):\n",
    "    return [len(twisted_faces2(G,do_twist=do_twist).cycle_type())/2 for _ in range(samples)]\n",
    "\n",
    "def exp_size(L):\n",
    "    return sum(L)/len(L)\n",
    "\n",
    "def equal(e,f):\n",
    "    return set(e[0:2])==set(f[0:2])\n",
    "\n",
    "\n",
    "def count_bad(G,do_twist=True):\n",
    "    D = getD(G)\n",
    "    F = twisted_faces2(G,do_twist=do_twist)\n",
    "    bad = 0\n",
    "    for face in F.cycle_tuples():\n",
    "        edges = [tuple(sorted(D[x][:2])) for x in face]\n",
    "        bad += len(edges) - len(set(edges))\n",
    "        \n",
    "    return bad/2\n",
    "    \n",
    "def sample_number_of_bad_edges(G,do_twist=True,samples=100):\n",
    "    CDC = 0\n",
    "    L = []\n",
    "    for i in range (samples):\n",
    "        if count_bad(G,do_twist=do_twist) == 0:\n",
    "            CDC += 1\n",
    "        L.append(count_bad(G,do_twist=do_twist))\n",
    "    return L\n",
    "\n",
    "\n",
    "def number_of_CDC(G,do_twist=True,samples=10):\n",
    "    CDC = 0\n",
    "    L = []\n",
    "    for i in range (samples):\n",
    "        if count_bad(G,do_twist=do_twist) == 0:\n",
    "            CDC += 1\n",
    "        L.append(count_bad(G,do_twist=do_twist))\n",
    "    return CDC\n",
    "\n",
    "\n",
    "def check_tw_faces(G):\n",
    "    F,R,L,D = twisted_faces2(G)\n",
    "    print(list(zip(D,range(100))))\n",
    "    C = F.cycle_tuples()\n",
    "    m = G.num_edges()\n",
    "    assert(len(D) == 4*m+1)\n",
    "    U = reduce(lambda x,y: x.union(y), [set(x) for x in C], set([]))\n",
    "    assert(len(U) == 4*m)\n",
    "    print(R.cycle_tuples())\n",
    "    for vert in R.cycle_tuples():\n",
    "        for x in vert:\n",
    "            print(D[x])\n",
    "        print('--')\n",
    "    print('\\n ===== \\n')\n",
    "\n",
    "    print(L.cycle_tuples())\n",
    "    for edge in L.cycle_tuples():\n",
    "        for x in edge:\n",
    "            print(D[x])\n",
    "        print('--')            \n",
    "\n",
    "    print('\\n ===== \\n')\n",
    "    print(F.cycle_tuples())\n",
    "    for face in C:\n",
    "        for d in face:\n",
    "            print(D[d])\n",
    "\n",
    "def twisted_faces3(G, do_twist=True):\n",
    "    \"\"\"\n",
    "      Now for general G. \n",
    "    \"\"\" \n",
    "    V = G.vertices()\n",
    "    D = getD(G)\n",
    "    Rlist = []\n",
    "    for v in V:\n",
    "        N = G.neighbors(v)\n",
    "        d = len(N)\n",
    "        random.shuffle(N)\n",
    "        for x,y in zip(N,N[1:]+[N[0]]):\n",
    "            Rlist.append((D.index((v,x,1)),D.index((v,y,0))))\n",
    "    R = Permutation(Rlist)\n",
    "    Llist = []\n",
    "    E = G.edges(labels=None)\n",
    "    if do_twist:\n",
    "        twists = [random.randint(0,1) for _ in E]\n",
    "    else:\n",
    "        twists = [1 for _ in E]\n",
    "    for (u,v),t in zip(E,twists):\n",
    "        Llist.append((D.index((u,v,0)),D.index((v,u,t))))\n",
    "        Llist.append((D.index((u,v,1)),D.index((v,u,(t+1)%2))))\n",
    "\n",
    "        #Llist.append(((u,v,1),(v,u,(t+1)%2)))\n",
    "        #Llist.append(None)\n",
    "    L = Permutation(Llist)  \n",
    "    return R*L #, R, L, D\n",
    "\n",
    "\n",
    "\n",
    "\n",
    "\n",
    "\n",
    "def sample_number_of_twisted_faces3(G,samples=10,do_twist=True):\n",
    "    return [len(twisted_faces3(G,do_twist=do_twist).cycle_type())/2 for _ in range(samples)]\n",
    "\n",
    "def exp_size(L):\n",
    "    return sum(L)/len(L)\n",
    "\n",
    "def equal(e,f):\n",
    "    return set(e[0:2])==set(f[0:2])\n",
    "\n",
    "\n",
    "def count_bad3(G,do_twist=True):\n",
    "    D = getD(G)\n",
    "    F = twisted_faces3(G,do_twist=do_twist)\n",
    "    bad = 0\n",
    "    for face in F.cycle_tuples():\n",
    "        edges = [tuple(sorted(D[x][:2])) for x in face]\n",
    "        bad += len(edges) - len(set(edges))\n",
    "        \n",
    "    return bad/2\n",
    "    \n",
    "def sample_number_of_bad_edges3(G,do_twist=True,samples=100):\n",
    "    CDC = 0\n",
    "    L = []\n",
    "    for i in range (samples):\n",
    "        if count_bad3(G,do_twist=do_twist) == 0:\n",
    "            CDC += 1\n",
    "        L.append(count_bad3(G,do_twist=do_twist))\n",
    "    return L\n",
    "\n",
    "\n",
    "def number_of_CDC3(G,do_twist=True,samples=10):\n",
    "    CDC = 0\n",
    "    L = []\n",
    "    for i in range (samples):\n",
    "        if count_bad3(G,do_twist=do_twist) == 0:\n",
    "            CDC += 1\n",
    "        L.append(count_bad3(G,do_twist=do_twist))\n",
    "    return CDC\n",
    "\n",
    "\n",
    "def change_tuple(x,y):\n",
    "    L = (x,y)\n",
    "    L = list(L)\n",
    "    L.reverse()\n",
    "    return tuple(L)"
   ]
  },
  {
   "cell_type": "code",
   "execution_count": 2,
   "id": "50a4e78e",
   "metadata": {},
   "outputs": [],
   "source": [
    "pt = graphs.PetersenGraph()"
   ]
  },
  {
   "cell_type": "code",
   "execution_count": 3,
   "id": "16cce807",
   "metadata": {},
   "outputs": [
    {
     "data": {
      "text/plain": [
       "380"
      ]
     },
     "execution_count": 3,
     "metadata": {},
     "output_type": "execute_result"
    }
   ],
   "source": [
    "number_of_CDC3(pt,do_twist=False,samples=10000)"
   ]
  },
  {
   "cell_type": "code",
   "execution_count": 4,
   "id": "e78a2163",
   "metadata": {},
   "outputs": [
    {
     "data": {
      "text/plain": [
       "18"
      ]
     },
     "execution_count": 4,
     "metadata": {},
     "output_type": "execute_result"
    }
   ],
   "source": [
    "number_of_CDC3(pt,do_twist=True,samples=10000)"
   ]
  },
  {
   "cell_type": "code",
   "execution_count": 5,
   "id": "8cf11b3c",
   "metadata": {},
   "outputs": [],
   "source": [
    "G = graphs.CompleteBipartiteGraph(3,3)"
   ]
  },
  {
   "cell_type": "code",
   "execution_count": 6,
   "id": "3dc9220d",
   "metadata": {},
   "outputs": [
    {
     "data": {
      "text/plain": [
       "631"
      ]
     },
     "execution_count": 6,
     "metadata": {},
     "output_type": "execute_result"
    }
   ],
   "source": [
    "number_of_CDC3(G,do_twist=False,samples=10000)"
   ]
  },
  {
   "cell_type": "code",
   "execution_count": 7,
   "id": "9bf10f1b",
   "metadata": {},
   "outputs": [
    {
     "data": {
      "text/plain": [
       "171"
      ]
     },
     "execution_count": 7,
     "metadata": {},
     "output_type": "execute_result"
    }
   ],
   "source": [
    "number_of_CDC3(G,do_twist=True,samples=10000)"
   ]
  },
  {
   "cell_type": "code",
   "execution_count": 8,
   "id": "b087a802",
   "metadata": {},
   "outputs": [],
   "source": [
    "G1 = graphs.CompleteGraph(4)"
   ]
  },
  {
   "cell_type": "code",
   "execution_count": 9,
   "id": "3a9eb644",
   "metadata": {},
   "outputs": [
    {
     "data": {
      "text/plain": [
       "1222"
      ]
     },
     "execution_count": 9,
     "metadata": {},
     "output_type": "execute_result"
    }
   ],
   "source": [
    "number_of_CDC3(G1,do_twist=False,samples=10000)"
   ]
  },
  {
   "cell_type": "code",
   "execution_count": 10,
   "id": "e765b8bb",
   "metadata": {},
   "outputs": [
    {
     "data": {
      "text/plain": [
       "322"
      ]
     },
     "execution_count": 10,
     "metadata": {},
     "output_type": "execute_result"
    }
   ],
   "source": [
    "number_of_CDC3(G1,do_twist=True,samples=10000)"
   ]
  },
  {
   "cell_type": "code",
   "execution_count": 11,
   "id": "f724f102",
   "metadata": {},
   "outputs": [],
   "source": [
    "B1 = graphs.BlanusaFirstSnarkGraph()"
   ]
  },
  {
   "cell_type": "code",
   "execution_count": 12,
   "id": "f272d32d",
   "metadata": {},
   "outputs": [
    {
     "data": {
      "text/plain": [
       "9"
      ]
     },
     "execution_count": 12,
     "metadata": {},
     "output_type": "execute_result"
    }
   ],
   "source": [
    "number_of_CDC3(B1,do_twist=False,samples=10000)"
   ]
  },
  {
   "cell_type": "code",
   "execution_count": 13,
   "id": "f46217c7",
   "metadata": {},
   "outputs": [
    {
     "data": {
      "text/plain": [
       "1"
      ]
     },
     "execution_count": 13,
     "metadata": {},
     "output_type": "execute_result"
    }
   ],
   "source": [
    "number_of_CDC3(B1,do_twist=True,samples=10000)"
   ]
  },
  {
   "cell_type": "code",
   "execution_count": 14,
   "id": "510c5d23",
   "metadata": {},
   "outputs": [],
   "source": [
    "B2 = graphs.BlanusaFirstSnarkGraph()"
   ]
  },
  {
   "cell_type": "code",
   "execution_count": 15,
   "id": "8144f18e",
   "metadata": {},
   "outputs": [
    {
     "data": {
      "text/plain": [
       "14"
      ]
     },
     "execution_count": 15,
     "metadata": {},
     "output_type": "execute_result"
    }
   ],
   "source": [
    "number_of_CDC3(B2,do_twist=False,samples=10000)"
   ]
  },
  {
   "cell_type": "code",
   "execution_count": 16,
   "id": "4b36c9d9",
   "metadata": {},
   "outputs": [
    {
     "data": {
      "text/plain": [
       "1"
      ]
     },
     "execution_count": 16,
     "metadata": {},
     "output_type": "execute_result"
    }
   ],
   "source": [
    "number_of_CDC3(B2,do_twist=True,samples=10000)"
   ]
  },
  {
   "cell_type": "code",
   "execution_count": 2,
   "id": "176ee1eb",
   "metadata": {
    "scrolled": true
   },
   "outputs": [],
   "source": [
    "def Faces(G,do_twist=True):\n",
    "    D = getD(G)\n",
    "    F = twisted_faces3(G,do_twist=do_twist)\n",
    "    bad = 0\n",
    "    L = []\n",
    "    for face in F.cycle_tuples():\n",
    "        edges = [tuple(sorted(D[x][:2])) for x in face]\n",
    "        bad += len(edges) - len(set(edges))\n",
    "        E = edges    \n",
    "        E.append(E[0])\n",
    "        for i in range(1, (len(E)-1)):\n",
    "            (x,y) = E[i+1]\n",
    "            for j in range(2):\n",
    "                if E[i][1] != E[i+1][0]:\n",
    "                    E[i+1] = change_tuple(x,y)\n",
    "        E.remove(E[0])\n",
    "        L.append(E)\n",
    "    return L"
   ]
  },
  {
   "cell_type": "code",
   "execution_count": 18,
   "id": "bd71705d",
   "metadata": {
    "scrolled": true
   },
   "outputs": [
    {
     "name": "stdout",
     "output_type": "stream",
     "text": [
      "[[(0, 2), (2, 1), (1, 3), (3, 2), (2, 1), (1, 0)], [(0, 3), (3, 1), (1, 0)], [(0, 3), (3, 2), (2, 0)], [(0, 1), (1, 2), (2, 3), (3, 1), (1, 2), (2, 0)], [(0, 1), (1, 3), (3, 0)], [(0, 2), (2, 3), (3, 0)]]\n"
     ]
    }
   ],
   "source": [
    "print(Faces(graphs.CompleteGraph(4),do_twist=True))"
   ]
  },
  {
   "cell_type": "code",
   "execution_count": 19,
   "id": "5b6ac82b",
   "metadata": {},
   "outputs": [
    {
     "name": "stdout",
     "output_type": "stream",
     "text": [
      "[[(0, 4), (4, 3), (3, 2), (2, 7), (7, 9), (9, 4), (4, 0), (0, 5), (5, 7), (7, 2), (2, 1), (1, 6), (6, 8), (8, 3), (3, 4), (4, 9), (9, 6), (6, 8), (8, 5), (5, 7), (7, 9), (9, 6), (6, 1), (1, 0)], [(0, 5), (5, 8), (8, 3), (3, 2), (2, 1), (1, 0)], [(0, 1), (1, 6), (6, 9), (9, 7), (7, 5), (5, 8), (8, 6), (6, 9), (9, 4), (4, 3), (3, 8), (8, 6), (6, 1), (1, 2), (2, 7), (7, 5), (5, 0), (0, 4), (4, 9), (9, 7), (7, 2), (2, 3), (3, 4), (4, 0)], [(0, 1), (1, 2), (2, 3), (3, 8), (8, 5), (5, 0)]]\n"
     ]
    }
   ],
   "source": [
    "print(Faces(graphs.PetersenGraph(),do_twist=True))"
   ]
  },
  {
   "cell_type": "code",
   "execution_count": 32,
   "id": "fdb6b4cb",
   "metadata": {},
   "outputs": [],
   "source": [
    "R2 = graphs.RandomRegular(3,100)"
   ]
  },
  {
   "cell_type": "code",
   "execution_count": 33,
   "id": "5677b10e",
   "metadata": {},
   "outputs": [
    {
     "data": {
      "text/plain": [
       "False"
      ]
     },
     "execution_count": 33,
     "metadata": {},
     "output_type": "execute_result"
    }
   ],
   "source": [
    "R2.is_edge_transitive()"
   ]
  },
  {
   "cell_type": "code",
   "execution_count": 34,
   "id": "7be8c055",
   "metadata": {},
   "outputs": [
    {
     "data": {
      "text/plain": [
       "0"
      ]
     },
     "execution_count": 34,
     "metadata": {},
     "output_type": "execute_result"
    }
   ],
   "source": [
    "number_of_CDC3(R2,do_twist=True,samples=10000)"
   ]
  },
  {
   "cell_type": "code",
   "execution_count": 35,
   "id": "3eee09a1",
   "metadata": {},
   "outputs": [
    {
     "data": {
      "text/plain": [
       "0"
      ]
     },
     "execution_count": 35,
     "metadata": {},
     "output_type": "execute_result"
    }
   ],
   "source": [
    "number_of_CDC3(R2,do_twist=False,samples=10000)"
   ]
  },
  {
   "cell_type": "code",
   "execution_count": 36,
   "id": "a53384fb",
   "metadata": {},
   "outputs": [],
   "source": [
    "R3 = graphs.RandomRegular(3,10)"
   ]
  },
  {
   "cell_type": "code",
   "execution_count": 37,
   "id": "56f799c5",
   "metadata": {},
   "outputs": [
    {
     "data": {
      "text/plain": [
       "18"
      ]
     },
     "execution_count": 37,
     "metadata": {},
     "output_type": "execute_result"
    }
   ],
   "source": [
    "number_of_CDC3(R3,do_twist=False,samples=10000)"
   ]
  },
  {
   "cell_type": "code",
   "execution_count": 38,
   "id": "6b089644",
   "metadata": {},
   "outputs": [
    {
     "data": {
      "text/plain": [
       "2"
      ]
     },
     "execution_count": 38,
     "metadata": {},
     "output_type": "execute_result"
    }
   ],
   "source": [
    "number_of_CDC3(R3,do_twist=True,samples=10000)"
   ]
  },
  {
   "cell_type": "code",
   "execution_count": 39,
   "id": "a64e2ded",
   "metadata": {},
   "outputs": [
    {
     "data": {
      "text/plain": [
       "False"
      ]
     },
     "execution_count": 39,
     "metadata": {},
     "output_type": "execute_result"
    }
   ],
   "source": [
    "R3.is_edge_transitive()"
   ]
  },
  {
   "cell_type": "code",
   "execution_count": 41,
   "id": "683f84ea",
   "metadata": {},
   "outputs": [
    {
     "data": {
      "text/plain": [
       "5"
      ]
     },
     "execution_count": 41,
     "metadata": {},
     "output_type": "execute_result"
    }
   ],
   "source": [
    "number_of_CDC3(R3,do_twist=True,samples=10000)"
   ]
  },
  {
   "cell_type": "code",
   "execution_count": 42,
   "id": "c4ac5130",
   "metadata": {},
   "outputs": [
    {
     "data": {
      "text/plain": [
       "24"
      ]
     },
     "execution_count": 42,
     "metadata": {},
     "output_type": "execute_result"
    }
   ],
   "source": [
    "number_of_CDC3(R3,do_twist=False,samples=10000)"
   ]
  },
  {
   "cell_type": "code",
   "execution_count": 43,
   "id": "455ea72f",
   "metadata": {},
   "outputs": [
    {
     "data": {
      "text/plain": [
       "5"
      ]
     },
     "execution_count": 43,
     "metadata": {},
     "output_type": "execute_result"
    }
   ],
   "source": [
    "number_of_CDC3(R3,do_twist=True,samples=10000)"
   ]
  },
  {
   "cell_type": "code",
   "execution_count": 44,
   "id": "0274d743",
   "metadata": {},
   "outputs": [
    {
     "data": {
      "text/plain": [
       "16"
      ]
     },
     "execution_count": 44,
     "metadata": {},
     "output_type": "execute_result"
    }
   ],
   "source": [
    "number_of_CDC3(R3,do_twist=False,samples=10000)"
   ]
  },
  {
   "cell_type": "code",
   "execution_count": 45,
   "id": "fdda8eb9",
   "metadata": {},
   "outputs": [],
   "source": [
    "R4 = graphs.RandomRegular(3,6)"
   ]
  },
  {
   "cell_type": "code",
   "execution_count": 46,
   "id": "310cd90d",
   "metadata": {},
   "outputs": [
    {
     "data": {
      "text/plain": [
       "171"
      ]
     },
     "execution_count": 46,
     "metadata": {},
     "output_type": "execute_result"
    }
   ],
   "source": [
    "number_of_CDC3(R4,do_twist=True,samples=10000)"
   ]
  },
  {
   "cell_type": "code",
   "execution_count": 47,
   "id": "aaa73856",
   "metadata": {},
   "outputs": [
    {
     "data": {
      "text/plain": [
       "617"
      ]
     },
     "execution_count": 47,
     "metadata": {},
     "output_type": "execute_result"
    }
   ],
   "source": [
    "number_of_CDC3(R4,do_twist=False,samples=10000)"
   ]
  },
  {
   "cell_type": "code",
   "execution_count": 48,
   "id": "19e7cd65",
   "metadata": {},
   "outputs": [
    {
     "data": {
      "text/plain": [
       "True"
      ]
     },
     "execution_count": 48,
     "metadata": {},
     "output_type": "execute_result"
    }
   ],
   "source": [
    "R4.is_edge_transitive()"
   ]
  },
  {
   "cell_type": "code",
   "execution_count": 58,
   "id": "79c4b440",
   "metadata": {},
   "outputs": [],
   "source": [
    "R5 = graphs.RandomRegular(3,6)"
   ]
  },
  {
   "cell_type": "code",
   "execution_count": 59,
   "id": "690057ac",
   "metadata": {},
   "outputs": [
    {
     "data": {
      "text/plain": [
       "False"
      ]
     },
     "execution_count": 59,
     "metadata": {},
     "output_type": "execute_result"
    }
   ],
   "source": [
    "R5.is_edge_transitive()"
   ]
  },
  {
   "cell_type": "code",
   "execution_count": 60,
   "id": "d3286438",
   "metadata": {},
   "outputs": [
    {
     "data": {
      "text/plain": [
       "66"
      ]
     },
     "execution_count": 60,
     "metadata": {},
     "output_type": "execute_result"
    }
   ],
   "source": [
    "number_of_CDC3(R5,do_twist=True,samples=10000)"
   ]
  },
  {
   "cell_type": "code",
   "execution_count": 61,
   "id": "9e2a33b2",
   "metadata": {},
   "outputs": [
    {
     "data": {
      "text/plain": [
       "346"
      ]
     },
     "execution_count": 61,
     "metadata": {},
     "output_type": "execute_result"
    }
   ],
   "source": [
    "number_of_CDC3(R5,do_twist=False,samples=10000)"
   ]
  },
  {
   "cell_type": "code",
   "execution_count": 62,
   "id": "b8e0a6fb",
   "metadata": {},
   "outputs": [],
   "source": [
    "R6 = graphs.RandomRegular(3,20)"
   ]
  },
  {
   "cell_type": "code",
   "execution_count": 63,
   "id": "eb36adfc",
   "metadata": {},
   "outputs": [
    {
     "data": {
      "text/plain": [
       "False"
      ]
     },
     "execution_count": 63,
     "metadata": {},
     "output_type": "execute_result"
    }
   ],
   "source": [
    "R6.is_edge_transitive()"
   ]
  },
  {
   "cell_type": "code",
   "execution_count": 64,
   "id": "71d7cefb",
   "metadata": {},
   "outputs": [
    {
     "data": {
      "text/plain": [
       "0"
      ]
     },
     "execution_count": 64,
     "metadata": {},
     "output_type": "execute_result"
    }
   ],
   "source": [
    "number_of_CDC3(R6,do_twist=True,samples=10000)"
   ]
  },
  {
   "cell_type": "code",
   "execution_count": 65,
   "id": "38290729",
   "metadata": {},
   "outputs": [
    {
     "data": {
      "text/plain": [
       "4"
      ]
     },
     "execution_count": 65,
     "metadata": {},
     "output_type": "execute_result"
    }
   ],
   "source": [
    "number_of_CDC3(R6,do_twist=False,samples=10000)"
   ]
  },
  {
   "cell_type": "code",
   "execution_count": 66,
   "id": "b7555f1f",
   "metadata": {},
   "outputs": [
    {
     "data": {
      "text/plain": [
       "0"
      ]
     },
     "execution_count": 66,
     "metadata": {},
     "output_type": "execute_result"
    }
   ],
   "source": [
    "number_of_CDC3(R6,do_twist=True,samples=10000)"
   ]
  },
  {
   "cell_type": "code",
   "execution_count": 67,
   "id": "f9b36984",
   "metadata": {},
   "outputs": [
    {
     "data": {
      "text/plain": [
       "1"
      ]
     },
     "execution_count": 67,
     "metadata": {},
     "output_type": "execute_result"
    }
   ],
   "source": [
    "number_of_CDC3(R6,do_twist=False,samples=10000)"
   ]
  },
  {
   "cell_type": "code",
   "execution_count": 77,
   "id": "b70f4d29",
   "metadata": {},
   "outputs": [
    {
     "name": "stdout",
     "output_type": "stream",
     "text": [
      "[[(0, 3), (3, 2), (2, 0), (0, 3), (3, 1), (1, 2), (2, 3), (3, 1), (1, 0), (0, 2), (2, 1), (1, 0)], [(0, 1), (1, 3), (3, 2), (2, 1), (1, 3), (3, 0), (0, 2), (2, 3), (3, 0), (0, 1), (1, 2), (2, 0)]]\n"
     ]
    }
   ],
   "source": [
    "print(Faces(graphs.CompleteGraph(4),do_twist=True))"
   ]
  },
  {
   "cell_type": "code",
   "execution_count": 78,
   "id": "bf000521",
   "metadata": {},
   "outputs": [
    {
     "name": "stdout",
     "output_type": "stream",
     "text": [
      "[[(0, 2), (2, 4), (4, 1), (1, 3), (3, 5), (5, 0), (0, 1), (1, 4), (4, 5), (5, 0), (0, 2), (2, 3), (3, 5), (5, 4), (4, 2), (2, 3), (3, 1), (1, 0)], [(0, 5), (5, 3), (3, 1), (1, 4), (4, 2), (2, 0), (0, 1), (1, 3), (3, 2), (2, 4), (4, 5), (5, 3), (3, 2), (2, 0), (0, 5), (5, 4), (4, 1), (1, 0)]]\n"
     ]
    }
   ],
   "source": [
    "print(Faces(R4,do_twist=True))"
   ]
  },
  {
   "cell_type": "code",
   "execution_count": 79,
   "id": "5563456c",
   "metadata": {},
   "outputs": [
    {
     "data": {
      "image/png": "[encoded data removed]",
      "text/plain": [
       "Graphics object consisting of 16 graphics primitives"
      ]
     },
     "metadata": {},
     "output_type": "display_data"
    }
   ],
   "source": [
    "R4.show()"
   ]
  },
  {
   "cell_type": "code",
   "execution_count": 3,
   "id": "796f8e1e",
   "metadata": {},
   "outputs": [
    {
     "name": "stdout",
     "output_type": "stream",
     "text": [
      "[[(0, 2), (2, 3), (3, 0), (0, 1), (1, 3), (3, 0), (0, 2), (2, 1), (1, 3), (3, 2), (2, 1), (1, 0)], [(0, 3), (3, 2), (2, 0), (0, 1), (1, 2), (2, 3), (3, 1), (1, 2), (2, 0), (0, 3), (3, 1), (1, 0)]]\n",
      "L[k] =  [(0, 2), (2, 3), (3, 0), (0, 1), (1, 3), (3, 0), (0, 2), (2, 1), (1, 3), (3, 2), (2, 1), (1, 0)]\n",
      "(0, 2)\n",
      "(3, 0)\n",
      "(1, 3)\n",
      "(2, 1)\n",
      "L[k] =  [(0, 3), (3, 2), (2, 0), (0, 1), (1, 2), (2, 3), (3, 1), (1, 2), (2, 0), (0, 3), (3, 1), (1, 0)]\n",
      "(0, 3)\n",
      "(2, 0)\n",
      "(1, 2)\n",
      "(3, 1)\n",
      "4\n",
      "-------------------------------------------------------------------------\n",
      "L[k] =  [(0, 2), (2, 3), (3, 0), (0, 1), (1, 3), (3, 0), (0, 2), (2, 1), (1, 3), (3, 2), (2, 1), (1, 0)]\n",
      "(2, 3)\n",
      "(0, 1)\n",
      "L[k] =  [(0, 3), (3, 2), (2, 0), (0, 1), (1, 2), (2, 3), (3, 1), (1, 2), (2, 0), (0, 3), (3, 1), (1, 0)]\n",
      "(3, 2)\n",
      "(0, 1)\n",
      "2\n"
     ]
    }
   ],
   "source": [
    "G = graphs.CompleteGraph(4)\n",
    "do_twist=True\n",
    "D = getD(G)\n",
    "F = twisted_faces3(G,do_twist=do_twist)\n",
    "bad = 0\n",
    "L = []\n",
    "for face in F.cycle_tuples():\n",
    "    edges = [tuple(sorted(D[x][:2])) for x in face]\n",
    "    bad += len(edges) - len(set(edges))\n",
    "    E = edges    \n",
    "    E.append(E[0])\n",
    "    for i in range(1, (len(E)-1)):\n",
    "        (x,y) = E[i+1]\n",
    "        for j in range(2):\n",
    "            if E[i][1] != E[i+1][0]:\n",
    "                E[i+1] = change_tuple(x,y)\n",
    "    E.remove(E[0])\n",
    "    L.append(E)\n",
    "print(L)\n",
    "\n",
    "Bad_Neg = 0\n",
    "List_Bad_Neg = []\n",
    "for k in range (len(L)):\n",
    "    print(\"L[k] = \", L[k])\n",
    "    for i in range(len(L[k])):\n",
    "        for j in range(i+1, len(L[k])):\n",
    "            if L[k][i][0] == L[k][j][0]:\n",
    "                if L[k][i][1] == L[k][j][1]:\n",
    "                    print(L[k][i])\n",
    "                    Bad_Neg += 1\n",
    "    #List_Bad_Neg.append(L[i][j])\n",
    "print(Bad_Neg/2)\n",
    "#print(List_Bad_Neg)\n",
    "print(\"-------------------------------------------------------------------------\")\n",
    "Bad_Pos = 0\n",
    "List_Bad_Pos = []\n",
    "for k in range (len(L)):\n",
    "    print(\"L[k] = \", L[k])\n",
    "    for i in range(len(L[k])):\n",
    "        for j in range(i+1, len(L[k])):\n",
    "            if L[k][i][0] == L[k][j][1]:\n",
    "                if L[k][i][1] == L[k][j][0]:\n",
    "                    print(L[k][i])\n",
    "                    Bad_Pos += 1\n",
    "print(Bad_Pos/2)"
   ]
  },
  {
   "cell_type": "code",
   "execution_count": 108,
   "id": "170e3716",
   "metadata": {},
   "outputs": [
    {
     "data": {
      "text/plain": [
       "15"
      ]
     },
     "execution_count": 108,
     "metadata": {},
     "output_type": "execute_result"
    }
   ],
   "source": [
    "count_bad3(G)"
   ]
  },
  {
   "cell_type": "code",
   "execution_count": 10,
   "id": "bee8efea",
   "metadata": {},
   "outputs": [],
   "source": [
    "def Num_Bad_Pos_Neg(G ,do_twist=True):\n",
    "    D = getD(G)\n",
    "    F = twisted_faces3(G,do_twist=do_twist)\n",
    "    bad = 0\n",
    "    L = []\n",
    "    for face in F.cycle_tuples():\n",
    "        edges = [tuple(sorted(D[x][:2])) for x in face]\n",
    "        bad += len(edges) - len(set(edges))\n",
    "        E = edges    \n",
    "        E.append(E[0])\n",
    "        for i in range(1, (len(E)-1)):\n",
    "            (x,y) = E[i+1]\n",
    "            for j in range(2):\n",
    "                if E[i][1] != E[i+1][0]:\n",
    "                    E[i+1] = change_tuple(x,y)\n",
    "        E.remove(E[0])\n",
    "        L.append(E)\n",
    "    \n",
    "    \n",
    "    Bad_Neg = 0\n",
    "    List_Bad_Neg = []\n",
    "    for k in range (len(L)):\n",
    "        print(\"L[k] = \", L[k])\n",
    "        for i in range(len(L[k])):\n",
    "            for j in range(i+1, len(L[k])):\n",
    "                if L[k][i][0] == L[k][j][0]:\n",
    "                    if L[k][i][1] == L[k][j][1]:\n",
    "                        Bad_Neg += 1\n",
    "    \n",
    "    print(\"Bad_Neg =\", Bad_Neg/2)\n",
    "\n",
    "    Bad_Pos = 0\n",
    "    List_Bad_Pos = []\n",
    "    for k in range (len(L)):\n",
    "        for i in range(len(L[k])):\n",
    "            for j in range(i+1, len(L[k])):\n",
    "                if L[k][i][0] == L[k][j][1]:\n",
    "                    if L[k][i][1] == L[k][j][0]:\n",
    "                        Bad_Pos += 1\n",
    "    print(\"Bad_Pos =\", Bad_Pos/2)\n",
    "    return (Bad_Neg/2 , Bad_Pos/2)"
   ]
  },
  {
   "cell_type": "code",
   "execution_count": 11,
   "id": "bae87824",
   "metadata": {},
   "outputs": [],
   "source": [
    "G = graphs.CompleteGraph(4)"
   ]
  },
  {
   "cell_type": "code",
   "execution_count": 12,
   "id": "b2dfe955",
   "metadata": {},
   "outputs": [
    {
     "name": "stdout",
     "output_type": "stream",
     "text": [
      "L[k] =  [(0, 3), (3, 1), (1, 2), (2, 3), (3, 1), (1, 0)]\n",
      "L[k] =  [(0, 2), (2, 3), (3, 0), (0, 2), (2, 1), (1, 0)]\n",
      "L[k] =  [(0, 1), (1, 2), (2, 0), (0, 3), (3, 2), (2, 0)]\n",
      "L[k] =  [(0, 1), (1, 3), (3, 2), (2, 1), (1, 3), (3, 0)]\n",
      "Bad_Neg = 2\n",
      "Bad_Pos = 0\n"
     ]
    },
    {
     "data": {
      "text/plain": [
       "(2, 0)"
      ]
     },
     "execution_count": 12,
     "metadata": {},
     "output_type": "execute_result"
    }
   ],
   "source": [
    "Num_Bad_Pos_Neg(G ,do_twist=True)"
   ]
  },
  {
   "cell_type": "code",
   "execution_count": 157,
   "id": "271e40f9",
   "metadata": {},
   "outputs": [],
   "source": [
    "pt = graphs.PetersenGraph()"
   ]
  },
  {
   "cell_type": "code",
   "execution_count": 158,
   "id": "9a0a5119",
   "metadata": {},
   "outputs": [
    {
     "name": "stdout",
     "output_type": "stream",
     "text": [
      "L[k] =  [(0, 5), (5, 8), (8, 3), (3, 4), (4, 0), (0, 1), (1, 6), (6, 9), (9, 7), (7, 5), (5, 0), (0, 4), (4, 9), (9, 7), (7, 2), (2, 3), (3, 8), (8, 6), (6, 1), (1, 2), (2, 7), (7, 5), (5, 8), (8, 6), (6, 9), (9, 4), (4, 3), (3, 2), (2, 1), (1, 0)]\n",
      "L[k] =  [(0, 4), (4, 3), (3, 8), (8, 5), (5, 0), (0, 1), (1, 2), (2, 3), (3, 4), (4, 9), (9, 6), (6, 8), (8, 5), (5, 7), (7, 2), (2, 1), (1, 6), (6, 8), (8, 3), (3, 2), (2, 7), (7, 9), (9, 4), (4, 0), (0, 5), (5, 7), (7, 9), (9, 6), (6, 1), (1, 0)]\n",
      "Bad_Neg = 5\n",
      "Bad_Pos = 10\n"
     ]
    },
    {
     "data": {
      "text/plain": [
       "(10, 5)"
      ]
     },
     "execution_count": 158,
     "metadata": {},
     "output_type": "execute_result"
    }
   ],
   "source": [
    "Num_Bad_Pos_Neg(pt ,do_twist=True)"
   ]
  },
  {
   "cell_type": "code",
   "execution_count": 159,
   "id": "a8b34699",
   "metadata": {},
   "outputs": [],
   "source": [
    "pt1 = graphs.PetersenGraph()"
   ]
  },
  {
   "cell_type": "code",
   "execution_count": 160,
   "id": "22871451",
   "metadata": {},
   "outputs": [
    {
     "name": "stdout",
     "output_type": "stream",
     "text": [
      "L[k] =  [(0, 4), (4, 9), (9, 6), (6, 8), (8, 5), (5, 0), (0, 1), (1, 6), (6, 8), (8, 3), (3, 2), (2, 7), (7, 5), (5, 8), (8, 3), (3, 4), (4, 9), (9, 7), (7, 2), (2, 1), (1, 0)]\n",
      "L[k] =  [(0, 5), (5, 8), (8, 6), (6, 9), (9, 4), (4, 0), (0, 1), (1, 2), (2, 7), (7, 9), (9, 4), (4, 3), (3, 8), (8, 5), (5, 7), (7, 2), (2, 3), (3, 8), (8, 6), (6, 1), (1, 0)]\n",
      "L[k] =  [(0, 5), (5, 7), (7, 9), (9, 6), (6, 1), (1, 2), (2, 3), (3, 4), (4, 0)]\n",
      "L[k] =  [(0, 4), (4, 3), (3, 2), (2, 1), (1, 6), (6, 9), (9, 7), (7, 5), (5, 0)]\n",
      "Bad_Neg = 3\n",
      "Bad_Pos = 3\n"
     ]
    },
    {
     "data": {
      "text/plain": [
       "(3, 3)"
      ]
     },
     "execution_count": 160,
     "metadata": {},
     "output_type": "execute_result"
    }
   ],
   "source": [
    "Num_Bad_Pos_Neg(pt1 ,do_twist=True)"
   ]
  },
  {
   "cell_type": "code",
   "execution_count": 161,
   "id": "0c964ff2",
   "metadata": {},
   "outputs": [],
   "source": [
    "B1 = graphs.BlanusaFirstSnarkGraph()"
   ]
  },
  {
   "cell_type": "code",
   "execution_count": 162,
   "id": "1c258006",
   "metadata": {},
   "outputs": [
    {
     "name": "stdout",
     "output_type": "stream",
     "text": [
      "L[k] =  [(0, 1), (1, 2), (2, 3), (3, 8), (8, 7), (7, 17), (17, 4), (4, 3), (3, 8), (8, 9), (9, 13), (13, 14), (14, 15), (15, 10), (10, 11), (11, 6), (6, 5), (5, 4), (4, 3), (3, 2), (2, 14), (14, 15), (15, 16), (16, 12), (12, 13), (13, 9), (9, 10), (10, 15), (15, 16), (16, 0), (0, 5), (5, 4), (4, 17), (17, 1), (1, 0), (0, 5), (5, 6), (6, 7), (7, 8), (8, 9), (9, 10), (10, 11), (11, 12), (12, 13), (13, 14), (14, 2), (2, 1), (1, 17), (17, 7), (7, 6), (6, 11), (11, 12), (12, 16), (16, 0)]\n",
      "L[k] =  [(0, 16), (16, 12), (12, 11), (11, 6), (6, 7), (7, 17), (17, 1), (1, 2), (2, 14), (14, 13), (13, 12), (12, 11), (11, 10), (10, 9), (9, 8), (8, 7), (7, 6), (6, 5), (5, 0), (0, 1), (1, 17), (17, 4), (4, 5), (5, 0), (0, 16), (16, 15), (15, 10), (10, 9), (9, 13), (13, 12), (12, 16), (16, 15), (15, 14), (14, 2), (2, 3), (3, 4), (4, 5), (5, 6), (6, 11), (11, 10), (10, 15), (15, 14), (14, 13), (13, 9), (9, 8), (8, 3), (3, 4), (4, 17), (17, 7), (7, 8), (8, 3), (3, 2), (2, 1), (1, 0)]\n",
      "Bad_Neg = 13\n",
      "Bad_Pos = 14\n"
     ]
    },
    {
     "data": {
      "text/plain": [
       "(14, 13)"
      ]
     },
     "execution_count": 162,
     "metadata": {},
     "output_type": "execute_result"
    }
   ],
   "source": [
    "Num_Bad_Pos_Neg(B1 ,do_twist=True)"
   ]
  },
  {
   "cell_type": "code",
   "execution_count": 163,
   "id": "bcf5fa08",
   "metadata": {},
   "outputs": [
    {
     "name": "stdout",
     "output_type": "stream",
     "text": [
      "L[k] =  [(0, 5), (5, 4), (4, 17), (17, 1), (1, 0), (0, 5), (5, 6), (6, 7), (7, 17), (17, 1), (1, 2), (2, 3), (3, 4), (4, 5), (5, 6), (6, 11), (11, 10), (10, 15), (15, 14), (14, 13), (13, 12), (12, 11), (11, 6), (6, 7), (7, 8), (8, 9), (9, 13), (13, 12), (12, 16), (16, 15), (15, 14), (14, 2), (2, 1), (1, 0), (0, 16), (16, 15), (15, 10), (10, 9), (9, 13), (13, 14), (14, 2), (2, 3), (3, 8), (8, 7), (7, 17), (17, 4), (4, 3), (3, 8), (8, 9), (9, 10), (10, 11), (11, 12), (12, 16), (16, 0)]\n",
      "L[k] =  [(0, 1), (1, 2), (2, 14), (14, 15), (15, 16), (16, 12), (12, 13), (13, 9), (9, 8), (8, 7), (7, 6), (6, 11), (11, 12), (12, 13), (13, 14), (14, 15), (15, 10), (10, 11), (11, 6), (6, 5), (5, 4), (4, 3), (3, 2), (2, 1), (1, 17), (17, 7), (7, 6), (6, 5), (5, 0), (0, 1), (1, 17), (17, 4), (4, 5), (5, 0), (0, 16), (16, 12), (12, 11), (11, 10), (10, 9), (9, 8), (8, 3), (3, 4), (4, 17), (17, 7), (7, 8), (8, 3), (3, 2), (2, 14), (14, 13), (13, 9), (9, 10), (10, 15), (15, 16), (16, 0)]\n",
      "Bad_Neg = 15\n",
      "Bad_Pos = 12\n"
     ]
    },
    {
     "data": {
      "text/plain": [
       "(12, 15)"
      ]
     },
     "execution_count": 163,
     "metadata": {},
     "output_type": "execute_result"
    }
   ],
   "source": [
    "Num_Bad_Pos_Neg(B1 ,do_twist=True)"
   ]
  },
  {
   "cell_type": "code",
   "execution_count": 168,
   "id": "cb431c48",
   "metadata": {},
   "outputs": [
    {
     "name": "stdout",
     "output_type": "stream",
     "text": [
      "L[k] =  [(0, 1), (1, 2), (2, 3), (3, 8), (8, 7), (7, 17), (17, 4), (4, 5), (5, 6), (6, 7), (7, 17), (17, 1), (1, 0), (0, 5), (5, 6), (6, 11), (11, 10), (10, 9), (9, 13), (13, 14), (14, 2), (2, 3), (3, 4), (4, 17), (17, 1), (1, 2), (2, 14), (14, 15), (15, 10), (10, 11), (11, 12), (12, 16), (16, 0), (0, 5), (5, 4), (4, 3), (3, 8), (8, 9), (9, 13), (13, 12), (12, 16), (16, 15), (15, 14), (14, 13), (13, 12), (12, 11), (11, 6), (6, 7), (7, 8), (8, 9), (9, 10), (10, 15), (15, 16), (16, 0)]\n",
      "L[k] =  [(0, 16), (16, 15), (15, 10), (10, 9), (9, 8), (8, 7), (7, 6), (6, 11), (11, 12), (12, 13), (13, 14), (14, 15), (15, 16), (16, 12), (12, 13), (13, 9), (9, 8), (8, 3), (3, 4), (4, 5), (5, 0), (0, 16), (16, 12), (12, 11), (11, 10), (10, 15), (15, 14), (14, 2), (2, 1), (1, 17), (17, 4), (4, 3), (3, 2), (2, 14), (14, 13), (13, 9), (9, 10), (10, 11), (11, 6), (6, 5), (5, 0), (0, 1), (1, 17), (17, 7), (7, 6), (6, 5), (5, 4), (4, 17), (17, 7), (7, 8), (8, 3), (3, 2), (2, 1), (1, 0)]\n",
      "Bad_Neg = 13\n",
      "Bad_Pos = 14\n"
     ]
    },
    {
     "data": {
      "text/plain": [
       "(14, 13)"
      ]
     },
     "execution_count": 168,
     "metadata": {},
     "output_type": "execute_result"
    }
   ],
   "source": [
    "Num_Bad_Pos_Neg(B1 ,do_twist=True)"
   ]
  },
  {
   "cell_type": "code",
   "execution_count": 169,
   "id": "4b4b8dca",
   "metadata": {},
   "outputs": [
    {
     "name": "stdout",
     "output_type": "stream",
     "text": [
      "L[k] =  [(0, 5), (5, 4), (4, 3), (3, 8), (8, 7), (7, 6), (6, 11), (11, 12), (12, 13), (13, 9), (9, 8), (8, 7), (7, 17), (17, 1), (1, 0), (0, 16), (16, 15), (15, 14), (14, 2), (2, 1), (1, 17), (17, 4), (4, 5), (5, 6), (6, 11), (11, 10), (10, 9), (9, 8), (8, 3), (3, 2), (2, 1), (1, 0), (0, 5), (5, 6), (6, 7), (7, 17), (17, 4), (4, 3), (3, 2), (2, 14), (14, 13), (13, 12), (12, 16), (16, 0)]\n",
      "L[k] =  [(0, 1), (1, 17), (17, 7), (7, 8), (8, 9), (9, 13), (13, 12), (12, 11), (11, 6), (6, 7), (7, 8), (8, 3), (3, 4), (4, 5), (5, 0), (0, 16), (16, 12), (12, 13), (13, 14), (14, 2), (2, 3), (3, 4), (4, 17), (17, 7), (7, 6), (6, 5), (5, 0), (0, 1), (1, 2), (2, 3), (3, 8), (8, 9), (9, 10), (10, 11), (11, 6), (6, 5), (5, 4), (4, 17), (17, 1), (1, 2), (2, 14), (14, 15), (15, 16), (16, 0)]\n",
      "L[k] =  [(9, 13), (13, 14), (14, 15), (15, 10), (10, 11), (11, 12), (12, 16), (16, 15), (15, 10), (10, 9)]\n",
      "L[k] =  [(9, 10), (10, 15), (15, 16), (16, 12), (12, 11), (11, 10), (10, 15), (15, 14), (14, 13), (13, 9)]\n",
      "Bad_Neg = 12\n",
      "Bad_Pos = 7\n"
     ]
    },
    {
     "data": {
      "text/plain": [
       "(7, 12)"
      ]
     },
     "execution_count": 169,
     "metadata": {},
     "output_type": "execute_result"
    }
   ],
   "source": [
    "Num_Bad_Pos_Neg(B1 ,do_twist=True)"
   ]
  },
  {
   "cell_type": "code",
   "execution_count": 170,
   "id": "ae30efb4",
   "metadata": {},
   "outputs": [
    {
     "name": "stdout",
     "output_type": "stream",
     "text": [
      "L[k] =  [(0, 1), (1, 2), (2, 3), (3, 4), (4, 5), (5, 0), (0, 16), (16, 15), (15, 10), (10, 11), (11, 12), (12, 13), (13, 9), (9, 8), (8, 3), (3, 4), (4, 17), (17, 1), (1, 2), (2, 14), (14, 13), (13, 12), (12, 16), (16, 0)]\n",
      "L[k] =  [(0, 5), (5, 4), (4, 3), (3, 2), (2, 1), (1, 0), (0, 16), (16, 12), (12, 13), (13, 14), (14, 2), (2, 1), (1, 17), (17, 4), (4, 3), (3, 8), (8, 9), (9, 13), (13, 12), (12, 11), (11, 10), (10, 15), (15, 16), (16, 0)]\n",
      "L[k] =  [(0, 5), (5, 6), (6, 11), (11, 10), (10, 9), (9, 8), (8, 7), (7, 6), (6, 5), (5, 4), (4, 17), (17, 7), (7, 8), (8, 3), (3, 2), (2, 14), (14, 15), (15, 10), (10, 9), (9, 13), (13, 14), (14, 15), (15, 16), (16, 12), (12, 11), (11, 6), (6, 7), (7, 17), (17, 1), (1, 0)]\n",
      "L[k] =  [(0, 1), (1, 17), (17, 7), (7, 6), (6, 11), (11, 12), (12, 16), (16, 15), (15, 14), (14, 13), (13, 9), (9, 10), (10, 15), (15, 14), (14, 2), (2, 3), (3, 8), (8, 7), (7, 17), (17, 4), (4, 5), (5, 6), (6, 7), (7, 8), (8, 9), (9, 10), (10, 11), (11, 6), (6, 5), (5, 0)]\n",
      "Bad_Neg = 4\n",
      "Bad_Pos = 7\n"
     ]
    },
    {
     "data": {
      "text/plain": [
       "(7, 4)"
      ]
     },
     "execution_count": 170,
     "metadata": {},
     "output_type": "execute_result"
    }
   ],
   "source": [
    "Num_Bad_Pos_Neg(B1 ,do_twist=True)"
   ]
  },
  {
   "cell_type": "code",
   "execution_count": 171,
   "id": "fe3e3b7a",
   "metadata": {},
   "outputs": [
    {
     "name": "stdout",
     "output_type": "stream",
     "text": [
      "L[k] =  [(0, 1), (1, 2), (2, 14), (14, 13), (13, 9), (9, 8), (8, 7), (7, 17), (17, 4), (4, 3), (3, 8), (8, 9), (9, 10), (10, 11), (11, 6), (6, 5), (5, 4), (4, 17), (17, 1), (1, 2), (2, 3), (3, 4), (4, 5), (5, 0), (0, 16), (16, 15), (15, 14), (14, 2), (2, 3), (3, 8), (8, 7), (7, 6), (6, 5), (5, 0), (0, 1), (1, 17), (17, 7), (7, 6), (6, 11), (11, 12), (12, 16), (16, 0)]\n",
      "L[k] =  [(0, 5), (5, 4), (4, 3), (3, 2), (2, 1), (1, 17), (17, 4), (4, 5), (5, 6), (6, 11), (11, 10), (10, 9), (9, 8), (8, 3), (3, 4), (4, 17), (17, 7), (7, 8), (8, 9), (9, 13), (13, 14), (14, 2), (2, 1), (1, 0), (0, 16), (16, 12), (12, 11), (11, 6), (6, 7), (7, 17), (17, 1), (1, 0), (0, 5), (5, 6), (6, 7), (7, 8), (8, 3), (3, 2), (2, 14), (14, 15), (15, 16), (16, 0)]\n",
      "L[k] =  [(9, 13), (13, 12), (12, 16), (16, 15), (15, 10), (10, 9)]\n",
      "L[k] =  [(9, 10), (10, 15), (15, 16), (16, 12), (12, 13), (13, 9)]\n",
      "L[k] =  [(10, 15), (15, 14), (14, 13), (13, 12), (12, 11), (11, 10)]\n",
      "L[k] =  [(10, 11), (11, 12), (12, 13), (13, 14), (14, 15), (15, 10)]\n",
      "Bad_Neg = 8\n",
      "Bad_Pos = 9\n"
     ]
    },
    {
     "data": {
      "text/plain": [
       "(9, 8)"
      ]
     },
     "execution_count": 171,
     "metadata": {},
     "output_type": "execute_result"
    }
   ],
   "source": [
    "Num_Bad_Pos_Neg(B1 ,do_twist=True)"
   ]
  },
  {
   "cell_type": "code",
   "execution_count": null,
   "id": "6239c4f9",
   "metadata": {},
   "outputs": [],
   "source": []
  }
 ],
 "metadata": {
  "kernelspec": {
   "display_name": "SageMath 9.5",
   "language": "sage",
   "name": "sagemath"
  },
  "language_info": {
   "codemirror_mode": {
    "name": "ipython",
    "version": 3
   },
   "file_extension": ".py",
   "mimetype": "text/x-python",
   "name": "python",
   "nbconvert_exporter": "python",
   "pygments_lexer": "ipython3",
   "version": "3.10.6"
  }
 },
 "nbformat": 4,
 "nbformat_minor": 5
}
