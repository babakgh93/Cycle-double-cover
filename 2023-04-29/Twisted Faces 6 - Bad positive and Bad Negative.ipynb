{
 "cells": [
  {
   "cell_type": "code",
   "execution_count": 10,
   "id": "b036f88a",
   "metadata": {},
   "outputs": [],
   "source": [
    "import numpy as np\n",
    "\n",
    "import random\n",
    "\n",
    "def getD(G): \n",
    "    V = G.vertices()\n",
    "    D = [None] + [(v,w,i) for v in V for w in G.neighbors(v) for i in [0,1]]\n",
    "    return D\n",
    "\n",
    "def twisted_faces2(G, do_twist=True):\n",
    "    \"\"\"\n",
    "      Now for general G. \n",
    "    \"\"\" \n",
    "    V = G.vertices()\n",
    "    D = getD(G)\n",
    "    Rlist = []\n",
    "    for v in V:\n",
    "        N = G.neighbors(v)\n",
    "        d = len(N)\n",
    "        random.shuffle(N)\n",
    "        for x,y in zip(N,N[1:]+[N[0]]):\n",
    "            Rlist.append((D.index((v,x,1)),D.index((v,y,0))))\n",
    "            print(Rlist)\n",
    "    R = Permutation(Rlist)\n",
    "    print(\"R = \", R)\n",
    "    Llist = []\n",
    "    E = G.edges(labels=None)\n",
    "    if do_twist:\n",
    "        twists = [random.randint(0,1) for _ in E]\n",
    "    else:\n",
    "        twists = [1 for _ in E]\n",
    "    for (u,v),t in zip(E,twists):\n",
    "        Llist.append((D.index((u,v,0)),D.index((v,u,t))))\n",
    "        Llist.append((D.index((u,v,1)),D.index((v,u,(t+1)%2))))\n",
    "        print(Llist)\n",
    "\n",
    "        #Llist.append(((u,v,1),(v,u,(t+1)%2)))\n",
    "        #Llist.append(None)\n",
    "    L = Permutation(Llist)\n",
    "    print(\"L = \", L)\n",
    "    print(\"twisted_faces = \", R*L)    \n",
    "    return R*L #, R, L, D\n",
    "\n",
    "def sample_number_of_twisted_faces(G,samples=10,do_twist=True):\n",
    "    return [len(twisted_faces2(G,do_twist=do_twist).cycle_type())/2 for _ in range(samples)]\n",
    "\n",
    "def exp_size(L):\n",
    "    return sum(L)/len(L)\n",
    "\n",
    "def equal(e,f):\n",
    "    return set(e[0:2])==set(f[0:2])\n",
    "\n",
    "\n",
    "def count_bad(G,do_twist=True):\n",
    "    D = getD(G)\n",
    "    F = twisted_faces2(G,do_twist=do_twist)\n",
    "    bad = 0\n",
    "    for face in F.cycle_tuples():\n",
    "        edges = [tuple(sorted(D[x][:2])) for x in face]\n",
    "        bad += len(edges) - len(set(edges))\n",
    "        \n",
    "    return bad/2\n",
    "    \n",
    "def sample_number_of_bad_edges(G,do_twist=True,samples=100):\n",
    "    CDC = 0\n",
    "    L = []\n",
    "    for i in range (samples):\n",
    "        if count_bad(G,do_twist=do_twist) == 0:\n",
    "            CDC += 1\n",
    "        L.append(count_bad(G,do_twist=do_twist))\n",
    "    return L\n",
    "\n",
    "\n",
    "def number_of_CDC(G,do_twist=True,samples=10):\n",
    "    CDC = 0\n",
    "    L = []\n",
    "    for i in range (samples):\n",
    "        if count_bad(G,do_twist=do_twist) == 0:\n",
    "            CDC += 1\n",
    "        L.append(count_bad(G,do_twist=do_twist))\n",
    "    return CDC\n",
    "\n",
    "\n",
    "def check_tw_faces(G):\n",
    "    F,R,L,D = twisted_faces2(G)\n",
    "    print(list(zip(D,range(100))))\n",
    "    C = F.cycle_tuples()\n",
    "    m = G.num_edges()\n",
    "    assert(len(D) == 4*m+1)\n",
    "    U = reduce(lambda x,y: x.union(y), [set(x) for x in C], set([]))\n",
    "    assert(len(U) == 4*m)\n",
    "    print(R.cycle_tuples())\n",
    "    for vert in R.cycle_tuples():\n",
    "        for x in vert:\n",
    "            print(D[x])\n",
    "        print('--')\n",
    "    print('\\n ===== \\n')\n",
    "\n",
    "    print(L.cycle_tuples())\n",
    "    for edge in L.cycle_tuples():\n",
    "        for x in edge:\n",
    "            print(D[x])\n",
    "        print('--')            \n",
    "\n",
    "    print('\\n ===== \\n')\n",
    "    print(F.cycle_tuples())\n",
    "    for face in C:\n",
    "        for d in face:\n",
    "            print(D[d])\n",
    "\n",
    "def twisted_faces3(G, do_twist=True):\n",
    "    \"\"\"\n",
    "      Now for general G. \n",
    "    \"\"\" \n",
    "    V = G.vertices()\n",
    "    D = getD(G)\n",
    "    Rlist = []\n",
    "    for v in V:\n",
    "        N = G.neighbors(v)\n",
    "        d = len(N)\n",
    "        random.shuffle(N)\n",
    "        for x,y in zip(N,N[1:]+[N[0]]):\n",
    "            Rlist.append((D.index((v,x,1)),D.index((v,y,0))))\n",
    "    R = Permutation(Rlist)\n",
    "    Llist = []\n",
    "    E = G.edges(labels=None)\n",
    "    if do_twist:\n",
    "        twists = [random.randint(0,1) for _ in E]\n",
    "    else:\n",
    "        twists = [1 for _ in E]\n",
    "    for (u,v),t in zip(E,twists):\n",
    "        Llist.append((D.index((u,v,0)),D.index((v,u,t))))\n",
    "        Llist.append((D.index((u,v,1)),D.index((v,u,(t+1)%2))))\n",
    "\n",
    "        #Llist.append(((u,v,1),(v,u,(t+1)%2)))\n",
    "        #Llist.append(None)\n",
    "    L = Permutation(Llist)  \n",
    "    return R*L #, R, L, D\n",
    "\n",
    "\n",
    "\n",
    "\n",
    "\n",
    "\n",
    "def sample_number_of_twisted_faces3(G,samples=10,do_twist=True):\n",
    "    return [len(twisted_faces3(G,do_twist=do_twist).cycle_type())/2 for _ in range(samples)]\n",
    "\n",
    "def exp_size(L):\n",
    "    return sum(L)/len(L)\n",
    "\n",
    "def equal(e,f):\n",
    "    return set(e[0:2])==set(f[0:2])\n",
    "\n",
    "\n",
    "def count_bad3(G,do_twist=True):\n",
    "    D = getD(G)\n",
    "    F = twisted_faces3(G,do_twist=do_twist)\n",
    "    bad = 0\n",
    "    for face in F.cycle_tuples():\n",
    "        edges = [tuple(sorted(D[x][:2])) for x in face]\n",
    "        bad += len(edges) - len(set(edges))\n",
    "        \n",
    "    return bad/2\n",
    "    \n",
    "def sample_number_of_bad_edges3(G,do_twist=True,samples=100):\n",
    "    CDC = 0\n",
    "    L = []\n",
    "    for i in range (samples):\n",
    "        if count_bad3(G,do_twist=do_twist) == 0:\n",
    "            CDC += 1\n",
    "        L.append(count_bad3(G,do_twist=do_twist))\n",
    "    return L\n",
    "\n",
    "\n",
    "def number_of_CDC3(G,do_twist=True,samples=10):\n",
    "    CDC = 0\n",
    "    L = []\n",
    "    for i in range (samples):\n",
    "        if count_bad3(G,do_twist=do_twist) == 0:\n",
    "            CDC += 1\n",
    "        L.append(count_bad3(G,do_twist=do_twist))\n",
    "    return CDC\n",
    "\n",
    "\n",
    "def change_tuple(x,y):\n",
    "    L = (x,y)\n",
    "    L = list(L)\n",
    "    L.reverse()\n",
    "    return tuple(L)\n",
    "\n",
    "\n",
    "def Faces(G,do_twist=True):\n",
    "    D = getD(G)\n",
    "    F = twisted_faces3(G,do_twist=do_twist)\n",
    "    bad = 0\n",
    "    L = []\n",
    "    for face in F.cycle_tuples():\n",
    "        edges = [tuple(sorted(D[x][:2])) for x in face]\n",
    "        bad += len(edges) - len(set(edges))\n",
    "        E = edges    \n",
    "        E.append(E[0])\n",
    "        for i in range(1, (len(E)-1)):\n",
    "            (x,y) = E[i+1]\n",
    "            for j in range(2):\n",
    "                if E[i][1] != E[i+1][0]:\n",
    "                    E[i+1] = change_tuple(x,y)\n",
    "        E.remove(E[0])\n",
    "        L.append(E)\n",
    "    return L\n",
    "\n",
    "def Num_Bad_Pos_Neg(G ,do_twist=True):\n",
    "    \n",
    "    L = Faces(G,do_twist=do_twist)\n",
    "\n",
    "    Bad_Neg = 0\n",
    "    List_Bad_Neg = []\n",
    "    for k in range (len(L)):\n",
    "        for i in range(len(L[k])):\n",
    "            for j in range(i+1, len(L[k])):\n",
    "                if L[k][i][0] == L[k][j][0]:\n",
    "                    if L[k][i][1] == L[k][j][1]:\n",
    "                        Bad_Neg += 1\n",
    "    print(\"Bad Negative = \", Bad_Neg/2)\n",
    "    Bad_Pos = 0\n",
    "    List_Bad_Pos = []\n",
    "    for k in range (len(L)):\n",
    "        for i in range(len(L[k])):\n",
    "            for j in range(i+1, len(L[k])):\n",
    "                if L[k][i][0] == L[k][j][1]:\n",
    "                    if L[k][i][1] == L[k][j][0]:\n",
    "                        Bad_Pos += 1\n",
    "    print(\"Bad Positive = \", Bad_Pos/2)\n",
    "    return Bad_Neg/2, Bad_Pos/2\n",
    "\n",
    "\n",
    "def Num_Bad_Pos_Neg1(G ,do_twist=True):\n",
    "    \n",
    "    L = Faces(G,do_twist=do_twist)\n",
    "\n",
    "    Bad_Neg = 0\n",
    "    List_Bad_Neg = []\n",
    "    for k in range (len(L)):\n",
    "        for i in range(len(L[k])):\n",
    "            for j in range(i+1, len(L[k])):\n",
    "                if L[k][i][0] == L[k][j][0]:\n",
    "                    if L[k][i][1] == L[k][j][1]:\n",
    "                        Bad_Neg += 1\n",
    "    Bad_Pos = 0\n",
    "    List_Bad_Pos = []\n",
    "    for k in range (len(L)):\n",
    "        for i in range(len(L[k])):\n",
    "            for j in range(i+1, len(L[k])):\n",
    "                if L[k][i][0] == L[k][j][1]:\n",
    "                    if L[k][i][1] == L[k][j][0]:\n",
    "                        Bad_Pos += 1\n",
    "    return Bad_Neg/2, Bad_Pos/2\n",
    "\n",
    "\n",
    "def List_Bad_Pos_Neg(G ,do_twist=True):\n",
    "    L = list(Num_Bad_Pos_Neg1(G ,do_twist=do_twist))\n",
    "    return L\n",
    "\n",
    "\n",
    "def exp_number_of_Bad_Neg_Pos(G,samples=10,do_twist=True):\n",
    "    Neg = []\n",
    "    Pos = []\n",
    "    for i in range (samples):\n",
    "        L = List_Bad_Pos_Neg(G,samples)\n",
    "        Neg.append(L[0])\n",
    "        Pos.append(L[1])\n",
    "    return [exp_size(Neg).n(20), exp_size(Pos).n(20)]"
   ]
  },
  {
   "cell_type": "code",
   "execution_count": 233,
   "id": "a68667e3",
   "metadata": {},
   "outputs": [],
   "source": [
    "G = graphs.CompleteGraph(4)"
   ]
  },
  {
   "cell_type": "code",
   "execution_count": 234,
   "id": "412e50cf",
   "metadata": {},
   "outputs": [
    {
     "name": "stdout",
     "output_type": "stream",
     "text": [
      "Bad Negative =  1\n",
      "Bad Positive =  1\n"
     ]
    },
    {
     "data": {
      "text/plain": [
       "(1, 1)"
      ]
     },
     "execution_count": 234,
     "metadata": {},
     "output_type": "execute_result"
    }
   ],
   "source": [
    "Num_Bad_Pos_Neg(G ,do_twist=True)"
   ]
  },
  {
   "cell_type": "code",
   "execution_count": 235,
   "id": "1a7bcc70",
   "metadata": {},
   "outputs": [
    {
     "name": "stdout",
     "output_type": "stream",
     "text": [
      "Bad Negative =  1\n",
      "Bad Positive =  0\n"
     ]
    },
    {
     "data": {
      "text/plain": [
       "(1, 0)"
      ]
     },
     "execution_count": 235,
     "metadata": {},
     "output_type": "execute_result"
    }
   ],
   "source": [
    "Num_Bad_Pos_Neg(G ,do_twist=True)"
   ]
  },
  {
   "cell_type": "code",
   "execution_count": 236,
   "id": "b436fee9",
   "metadata": {},
   "outputs": [
    {
     "name": "stdout",
     "output_type": "stream",
     "text": [
      "Bad Negative =  2\n",
      "Bad Positive =  1\n"
     ]
    },
    {
     "data": {
      "text/plain": [
       "(2, 1)"
      ]
     },
     "execution_count": 236,
     "metadata": {},
     "output_type": "execute_result"
    }
   ],
   "source": [
    "Num_Bad_Pos_Neg(G ,do_twist=True)"
   ]
  },
  {
   "cell_type": "code",
   "execution_count": 237,
   "id": "6eb76ee1",
   "metadata": {},
   "outputs": [
    {
     "name": "stdout",
     "output_type": "stream",
     "text": [
      "Bad Negative =  2\n",
      "Bad Positive =  1\n"
     ]
    },
    {
     "data": {
      "text/plain": [
       "(2, 1)"
      ]
     },
     "execution_count": 237,
     "metadata": {},
     "output_type": "execute_result"
    }
   ],
   "source": [
    "Num_Bad_Pos_Neg(G ,do_twist=True)"
   ]
  },
  {
   "cell_type": "code",
   "execution_count": 238,
   "id": "a50d098c",
   "metadata": {},
   "outputs": [
    {
     "name": "stdout",
     "output_type": "stream",
     "text": [
      "Bad Negative =  1\n",
      "Bad Positive =  0\n"
     ]
    },
    {
     "data": {
      "text/plain": [
       "(1, 0)"
      ]
     },
     "execution_count": 238,
     "metadata": {},
     "output_type": "execute_result"
    }
   ],
   "source": [
    "Num_Bad_Pos_Neg(G ,do_twist=True)"
   ]
  },
  {
   "cell_type": "code",
   "execution_count": 239,
   "id": "b601794c",
   "metadata": {},
   "outputs": [
    {
     "name": "stdout",
     "output_type": "stream",
     "text": [
      "Bad Negative =  1\n",
      "Bad Positive =  1\n"
     ]
    },
    {
     "data": {
      "text/plain": [
       "(1, 1)"
      ]
     },
     "execution_count": 239,
     "metadata": {},
     "output_type": "execute_result"
    }
   ],
   "source": [
    "Num_Bad_Pos_Neg(G ,do_twist=True)"
   ]
  },
  {
   "cell_type": "code",
   "execution_count": 240,
   "id": "903c6de0",
   "metadata": {},
   "outputs": [
    {
     "name": "stdout",
     "output_type": "stream",
     "text": [
      "Bad Negative =  1\n",
      "Bad Positive =  1\n"
     ]
    },
    {
     "data": {
      "text/plain": [
       "(1, 1)"
      ]
     },
     "execution_count": 240,
     "metadata": {},
     "output_type": "execute_result"
    }
   ],
   "source": [
    "Num_Bad_Pos_Neg(G ,do_twist=True)"
   ]
  },
  {
   "cell_type": "code",
   "execution_count": 241,
   "id": "78816535",
   "metadata": {},
   "outputs": [
    {
     "name": "stdout",
     "output_type": "stream",
     "text": [
      "Bad Negative =  1\n",
      "Bad Positive =  1\n"
     ]
    },
    {
     "data": {
      "text/plain": [
       "(1, 1)"
      ]
     },
     "execution_count": 241,
     "metadata": {},
     "output_type": "execute_result"
    }
   ],
   "source": [
    "Num_Bad_Pos_Neg(G ,do_twist=True)"
   ]
  },
  {
   "cell_type": "code",
   "execution_count": 242,
   "id": "90e37947",
   "metadata": {},
   "outputs": [
    {
     "name": "stdout",
     "output_type": "stream",
     "text": [
      "Bad Negative =  2\n",
      "Bad Positive =  1\n"
     ]
    },
    {
     "data": {
      "text/plain": [
       "(2, 1)"
      ]
     },
     "execution_count": 242,
     "metadata": {},
     "output_type": "execute_result"
    }
   ],
   "source": [
    "Num_Bad_Pos_Neg(G ,do_twist=True)"
   ]
  },
  {
   "cell_type": "code",
   "execution_count": 243,
   "id": "5c4b82de",
   "metadata": {},
   "outputs": [
    {
     "name": "stdout",
     "output_type": "stream",
     "text": [
      "Bad Negative =  2\n",
      "Bad Positive =  1\n"
     ]
    },
    {
     "data": {
      "text/plain": [
       "(2, 1)"
      ]
     },
     "execution_count": 243,
     "metadata": {},
     "output_type": "execute_result"
    }
   ],
   "source": [
    "Num_Bad_Pos_Neg(G ,do_twist=True)"
   ]
  },
  {
   "cell_type": "code",
   "execution_count": 244,
   "id": "780df59f",
   "metadata": {},
   "outputs": [],
   "source": [
    "pt = graphs.PetersenGraph()"
   ]
  },
  {
   "cell_type": "code",
   "execution_count": 245,
   "id": "683e664d",
   "metadata": {},
   "outputs": [
    {
     "name": "stdout",
     "output_type": "stream",
     "text": [
      "Bad Negative =  6\n",
      "Bad Positive =  9\n"
     ]
    },
    {
     "data": {
      "text/plain": [
       "(6, 9)"
      ]
     },
     "execution_count": 245,
     "metadata": {},
     "output_type": "execute_result"
    }
   ],
   "source": [
    "Num_Bad_Pos_Neg(pt ,do_twist=True)"
   ]
  },
  {
   "cell_type": "code",
   "execution_count": 246,
   "id": "81bb7259",
   "metadata": {},
   "outputs": [
    {
     "name": "stdout",
     "output_type": "stream",
     "text": [
      "Bad Negative =  10\n",
      "Bad Positive =  5\n"
     ]
    },
    {
     "data": {
      "text/plain": [
       "(10, 5)"
      ]
     },
     "execution_count": 246,
     "metadata": {},
     "output_type": "execute_result"
    }
   ],
   "source": [
    "Num_Bad_Pos_Neg(pt ,do_twist=True)"
   ]
  },
  {
   "cell_type": "code",
   "execution_count": 247,
   "id": "80450b5f",
   "metadata": {},
   "outputs": [
    {
     "name": "stdout",
     "output_type": "stream",
     "text": [
      "Bad Negative =  3\n",
      "Bad Positive =  3\n"
     ]
    },
    {
     "data": {
      "text/plain": [
       "(3, 3)"
      ]
     },
     "execution_count": 247,
     "metadata": {},
     "output_type": "execute_result"
    }
   ],
   "source": [
    "Num_Bad_Pos_Neg(pt ,do_twist=True)"
   ]
  },
  {
   "cell_type": "code",
   "execution_count": 248,
   "id": "02cc07f9",
   "metadata": {},
   "outputs": [
    {
     "name": "stdout",
     "output_type": "stream",
     "text": [
      "Bad Negative =  8\n",
      "Bad Positive =  7\n"
     ]
    },
    {
     "data": {
      "text/plain": [
       "(8, 7)"
      ]
     },
     "execution_count": 248,
     "metadata": {},
     "output_type": "execute_result"
    }
   ],
   "source": [
    "Num_Bad_Pos_Neg(pt ,do_twist=True)"
   ]
  },
  {
   "cell_type": "code",
   "execution_count": 249,
   "id": "e860e208",
   "metadata": {},
   "outputs": [
    {
     "name": "stdout",
     "output_type": "stream",
     "text": [
      "Bad Negative =  6\n",
      "Bad Positive =  9\n"
     ]
    },
    {
     "data": {
      "text/plain": [
       "(6, 9)"
      ]
     },
     "execution_count": 249,
     "metadata": {},
     "output_type": "execute_result"
    }
   ],
   "source": [
    "Num_Bad_Pos_Neg(pt ,do_twist=True)"
   ]
  },
  {
   "cell_type": "code",
   "execution_count": 250,
   "id": "5e91f625",
   "metadata": {},
   "outputs": [
    {
     "name": "stdout",
     "output_type": "stream",
     "text": [
      "Bad Negative =  5\n",
      "Bad Positive =  10\n"
     ]
    },
    {
     "data": {
      "text/plain": [
       "(5, 10)"
      ]
     },
     "execution_count": 250,
     "metadata": {},
     "output_type": "execute_result"
    }
   ],
   "source": [
    "Num_Bad_Pos_Neg(pt ,do_twist=True)"
   ]
  },
  {
   "cell_type": "code",
   "execution_count": 251,
   "id": "ff017bd9",
   "metadata": {},
   "outputs": [
    {
     "name": "stdout",
     "output_type": "stream",
     "text": [
      "Bad Negative =  4\n",
      "Bad Positive =  3\n"
     ]
    },
    {
     "data": {
      "text/plain": [
       "(4, 3)"
      ]
     },
     "execution_count": 251,
     "metadata": {},
     "output_type": "execute_result"
    }
   ],
   "source": [
    "Num_Bad_Pos_Neg(pt ,do_twist=True)"
   ]
  },
  {
   "cell_type": "code",
   "execution_count": 252,
   "id": "21b18ba9",
   "metadata": {},
   "outputs": [
    {
     "name": "stdout",
     "output_type": "stream",
     "text": [
      "Bad Negative =  6\n",
      "Bad Positive =  9\n"
     ]
    },
    {
     "data": {
      "text/plain": [
       "(6, 9)"
      ]
     },
     "execution_count": 252,
     "metadata": {},
     "output_type": "execute_result"
    }
   ],
   "source": [
    "Num_Bad_Pos_Neg(pt ,do_twist=True)"
   ]
  },
  {
   "cell_type": "code",
   "execution_count": 253,
   "id": "b2df81f1",
   "metadata": {},
   "outputs": [
    {
     "name": "stdout",
     "output_type": "stream",
     "text": [
      "Bad Negative =  7\n",
      "Bad Positive =  3\n"
     ]
    },
    {
     "data": {
      "text/plain": [
       "(7, 3)"
      ]
     },
     "execution_count": 253,
     "metadata": {},
     "output_type": "execute_result"
    }
   ],
   "source": [
    "Num_Bad_Pos_Neg(pt ,do_twist=True)"
   ]
  },
  {
   "cell_type": "code",
   "execution_count": 254,
   "id": "b3b69701",
   "metadata": {},
   "outputs": [],
   "source": [
    "B1 = graphs.BlanusaFirstSnarkGraph()\n",
    "B2 = graphs.BlanusaSecondSnarkGraph()"
   ]
  },
  {
   "cell_type": "code",
   "execution_count": 255,
   "id": "e0437daf",
   "metadata": {},
   "outputs": [
    {
     "name": "stdout",
     "output_type": "stream",
     "text": [
      "Bad Negative =  7\n",
      "Bad Positive =  0\n"
     ]
    },
    {
     "data": {
      "text/plain": [
       "(7, 0)"
      ]
     },
     "execution_count": 255,
     "metadata": {},
     "output_type": "execute_result"
    }
   ],
   "source": [
    "Num_Bad_Pos_Neg(B1 ,do_twist=True)"
   ]
  },
  {
   "cell_type": "code",
   "execution_count": 256,
   "id": "4e8ac7b2",
   "metadata": {},
   "outputs": [
    {
     "name": "stdout",
     "output_type": "stream",
     "text": [
      "Bad Negative =  16\n",
      "Bad Positive =  11\n"
     ]
    },
    {
     "data": {
      "text/plain": [
       "(16, 11)"
      ]
     },
     "execution_count": 256,
     "metadata": {},
     "output_type": "execute_result"
    }
   ],
   "source": [
    "Num_Bad_Pos_Neg(B1 ,do_twist=True)"
   ]
  },
  {
   "cell_type": "code",
   "execution_count": 257,
   "id": "e5266880",
   "metadata": {},
   "outputs": [
    {
     "name": "stdout",
     "output_type": "stream",
     "text": [
      "Bad Negative =  2\n",
      "Bad Positive =  5\n"
     ]
    },
    {
     "data": {
      "text/plain": [
       "(2, 5)"
      ]
     },
     "execution_count": 257,
     "metadata": {},
     "output_type": "execute_result"
    }
   ],
   "source": [
    "Num_Bad_Pos_Neg(B1 ,do_twist=True)"
   ]
  },
  {
   "cell_type": "code",
   "execution_count": 258,
   "id": "667f97e0",
   "metadata": {},
   "outputs": [
    {
     "name": "stdout",
     "output_type": "stream",
     "text": [
      "Bad Negative =  6\n",
      "Bad Positive =  3\n"
     ]
    },
    {
     "data": {
      "text/plain": [
       "(6, 3)"
      ]
     },
     "execution_count": 258,
     "metadata": {},
     "output_type": "execute_result"
    }
   ],
   "source": [
    "Num_Bad_Pos_Neg(B1 ,do_twist=True)"
   ]
  },
  {
   "cell_type": "code",
   "execution_count": 259,
   "id": "233d10e5",
   "metadata": {},
   "outputs": [
    {
     "name": "stdout",
     "output_type": "stream",
     "text": [
      "Bad Negative =  0\n",
      "Bad Positive =  6\n"
     ]
    },
    {
     "data": {
      "text/plain": [
       "(0, 6)"
      ]
     },
     "execution_count": 259,
     "metadata": {},
     "output_type": "execute_result"
    }
   ],
   "source": [
    "Num_Bad_Pos_Neg(B1 ,do_twist=True)"
   ]
  },
  {
   "cell_type": "code",
   "execution_count": 260,
   "id": "dd6f4ab9",
   "metadata": {},
   "outputs": [
    {
     "name": "stdout",
     "output_type": "stream",
     "text": [
      "Bad Negative =  13\n",
      "Bad Positive =  14\n"
     ]
    },
    {
     "data": {
      "text/plain": [
       "(13, 14)"
      ]
     },
     "execution_count": 260,
     "metadata": {},
     "output_type": "execute_result"
    }
   ],
   "source": [
    "Num_Bad_Pos_Neg(B1 ,do_twist=True)"
   ]
  },
  {
   "cell_type": "code",
   "execution_count": 261,
   "id": "761c8e9a",
   "metadata": {},
   "outputs": [
    {
     "name": "stdout",
     "output_type": "stream",
     "text": [
      "Bad Negative =  14\n",
      "Bad Positive =  13\n"
     ]
    },
    {
     "data": {
      "text/plain": [
       "(14, 13)"
      ]
     },
     "execution_count": 261,
     "metadata": {},
     "output_type": "execute_result"
    }
   ],
   "source": [
    "Num_Bad_Pos_Neg(B1 ,do_twist=True)"
   ]
  },
  {
   "cell_type": "code",
   "execution_count": 262,
   "id": "fd4ed275",
   "metadata": {},
   "outputs": [
    {
     "name": "stdout",
     "output_type": "stream",
     "text": [
      "Bad Negative =  14\n",
      "Bad Positive =  13\n"
     ]
    },
    {
     "data": {
      "text/plain": [
       "(14, 13)"
      ]
     },
     "execution_count": 262,
     "metadata": {},
     "output_type": "execute_result"
    }
   ],
   "source": [
    "Num_Bad_Pos_Neg(B1 ,do_twist=True)"
   ]
  },
  {
   "cell_type": "code",
   "execution_count": 263,
   "id": "b52a4ea5",
   "metadata": {},
   "outputs": [
    {
     "name": "stdout",
     "output_type": "stream",
     "text": [
      "Bad Negative =  16\n",
      "Bad Positive =  11\n"
     ]
    },
    {
     "data": {
      "text/plain": [
       "(16, 11)"
      ]
     },
     "execution_count": 263,
     "metadata": {},
     "output_type": "execute_result"
    }
   ],
   "source": [
    "Num_Bad_Pos_Neg(B2 ,do_twist=True)"
   ]
  },
  {
   "cell_type": "code",
   "execution_count": 264,
   "id": "9aef1e43",
   "metadata": {},
   "outputs": [
    {
     "name": "stdout",
     "output_type": "stream",
     "text": [
      "Bad Negative =  10\n",
      "Bad Positive =  11\n"
     ]
    },
    {
     "data": {
      "text/plain": [
       "(10, 11)"
      ]
     },
     "execution_count": 264,
     "metadata": {},
     "output_type": "execute_result"
    }
   ],
   "source": [
    "Num_Bad_Pos_Neg(B2 ,do_twist=True)"
   ]
  },
  {
   "cell_type": "code",
   "execution_count": 265,
   "id": "fa3a4357",
   "metadata": {},
   "outputs": [
    {
     "name": "stdout",
     "output_type": "stream",
     "text": [
      "Bad Negative =  2\n",
      "Bad Positive =  3\n"
     ]
    },
    {
     "data": {
      "text/plain": [
       "(2, 3)"
      ]
     },
     "execution_count": 265,
     "metadata": {},
     "output_type": "execute_result"
    }
   ],
   "source": [
    "Num_Bad_Pos_Neg(B2 ,do_twist=True)"
   ]
  },
  {
   "cell_type": "code",
   "execution_count": 266,
   "id": "0c768183",
   "metadata": {},
   "outputs": [
    {
     "name": "stdout",
     "output_type": "stream",
     "text": [
      "Bad Negative =  7\n",
      "Bad Positive =  5\n"
     ]
    },
    {
     "data": {
      "text/plain": [
       "(7, 5)"
      ]
     },
     "execution_count": 266,
     "metadata": {},
     "output_type": "execute_result"
    }
   ],
   "source": [
    "Num_Bad_Pos_Neg(B2 ,do_twist=True)"
   ]
  },
  {
   "cell_type": "code",
   "execution_count": 267,
   "id": "db1bf5bc",
   "metadata": {},
   "outputs": [
    {
     "name": "stdout",
     "output_type": "stream",
     "text": [
      "Bad Negative =  3\n",
      "Bad Positive =  2\n"
     ]
    },
    {
     "data": {
      "text/plain": [
       "(3, 2)"
      ]
     },
     "execution_count": 267,
     "metadata": {},
     "output_type": "execute_result"
    }
   ],
   "source": [
    "Num_Bad_Pos_Neg(B2 ,do_twist=True)"
   ]
  },
  {
   "cell_type": "code",
   "execution_count": 268,
   "id": "cd79c061",
   "metadata": {},
   "outputs": [
    {
     "name": "stdout",
     "output_type": "stream",
     "text": [
      "Bad Negative =  12\n",
      "Bad Positive =  7\n"
     ]
    },
    {
     "data": {
      "text/plain": [
       "(12, 7)"
      ]
     },
     "execution_count": 268,
     "metadata": {},
     "output_type": "execute_result"
    }
   ],
   "source": [
    "Num_Bad_Pos_Neg(B2 ,do_twist=True)"
   ]
  },
  {
   "cell_type": "code",
   "execution_count": 269,
   "id": "b4cc7ca2",
   "metadata": {},
   "outputs": [
    {
     "name": "stdout",
     "output_type": "stream",
     "text": [
      "Bad Negative =  17\n",
      "Bad Positive =  10\n"
     ]
    },
    {
     "data": {
      "text/plain": [
       "(17, 10)"
      ]
     },
     "execution_count": 269,
     "metadata": {},
     "output_type": "execute_result"
    }
   ],
   "source": [
    "Num_Bad_Pos_Neg(B2 ,do_twist=True)"
   ]
  },
  {
   "cell_type": "code",
   "execution_count": 270,
   "id": "0facdf35",
   "metadata": {},
   "outputs": [
    {
     "name": "stdout",
     "output_type": "stream",
     "text": [
      "Bad Negative =  14\n",
      "Bad Positive =  13\n"
     ]
    },
    {
     "data": {
      "text/plain": [
       "(14, 13)"
      ]
     },
     "execution_count": 270,
     "metadata": {},
     "output_type": "execute_result"
    }
   ],
   "source": [
    "Num_Bad_Pos_Neg(B2 ,do_twist=True)"
   ]
  },
  {
   "cell_type": "code",
   "execution_count": 271,
   "id": "4f9c4d79",
   "metadata": {},
   "outputs": [
    {
     "name": "stdout",
     "output_type": "stream",
     "text": [
      "Bad Negative =  14\n",
      "Bad Positive =  13\n"
     ]
    },
    {
     "data": {
      "text/plain": [
       "(14, 13)"
      ]
     },
     "execution_count": 271,
     "metadata": {},
     "output_type": "execute_result"
    }
   ],
   "source": [
    "Num_Bad_Pos_Neg(B2 ,do_twist=True)"
   ]
  },
  {
   "cell_type": "code",
   "execution_count": 272,
   "id": "415a618d",
   "metadata": {},
   "outputs": [],
   "source": [
    "R1 = graphs.RandomRegular(3,20)"
   ]
  },
  {
   "cell_type": "code",
   "execution_count": 279,
   "id": "c39114c0",
   "metadata": {},
   "outputs": [
    {
     "data": {
      "image/png": "[encoded data removed]",
      "text/plain": [
       "Graphics object consisting of 51 graphics primitives"
      ]
     },
     "metadata": {},
     "output_type": "display_data"
    },
    {
     "data": {
      "text/plain": [
       "False"
      ]
     },
     "execution_count": 279,
     "metadata": {},
     "output_type": "execute_result"
    }
   ],
   "source": [
    "R1.show()\n",
    "R1.is_edge_transitive()"
   ]
  },
  {
   "cell_type": "code",
   "execution_count": 280,
   "id": "05ef5670",
   "metadata": {},
   "outputs": [
    {
     "name": "stdout",
     "output_type": "stream",
     "text": [
      "Bad Negative =  12\n",
      "Bad Positive =  10\n"
     ]
    },
    {
     "data": {
      "text/plain": [
       "(12, 10)"
      ]
     },
     "execution_count": 280,
     "metadata": {},
     "output_type": "execute_result"
    }
   ],
   "source": [
    "Num_Bad_Pos_Neg(R1 ,do_twist=True)"
   ]
  },
  {
   "cell_type": "code",
   "execution_count": 281,
   "id": "f7ced4ed",
   "metadata": {},
   "outputs": [
    {
     "name": "stdout",
     "output_type": "stream",
     "text": [
      "Bad Negative =  11\n",
      "Bad Positive =  19\n"
     ]
    },
    {
     "data": {
      "text/plain": [
       "(11, 19)"
      ]
     },
     "execution_count": 281,
     "metadata": {},
     "output_type": "execute_result"
    }
   ],
   "source": [
    "Num_Bad_Pos_Neg(R1 ,do_twist=True)"
   ]
  },
  {
   "cell_type": "code",
   "execution_count": 282,
   "id": "6db5f3bd",
   "metadata": {},
   "outputs": [
    {
     "name": "stdout",
     "output_type": "stream",
     "text": [
      "Bad Negative =  6\n",
      "Bad Positive =  9\n"
     ]
    },
    {
     "data": {
      "text/plain": [
       "(6, 9)"
      ]
     },
     "execution_count": 282,
     "metadata": {},
     "output_type": "execute_result"
    }
   ],
   "source": [
    "Num_Bad_Pos_Neg(R1 ,do_twist=True)"
   ]
  },
  {
   "cell_type": "code",
   "execution_count": 283,
   "id": "d44a736f",
   "metadata": {},
   "outputs": [
    {
     "name": "stdout",
     "output_type": "stream",
     "text": [
      "Bad Negative =  5\n",
      "Bad Positive =  8\n"
     ]
    },
    {
     "data": {
      "text/plain": [
       "(5, 8)"
      ]
     },
     "execution_count": 283,
     "metadata": {},
     "output_type": "execute_result"
    }
   ],
   "source": [
    "Num_Bad_Pos_Neg(R1 ,do_twist=True)"
   ]
  },
  {
   "cell_type": "code",
   "execution_count": 284,
   "id": "929431b1",
   "metadata": {},
   "outputs": [
    {
     "name": "stdout",
     "output_type": "stream",
     "text": [
      "Bad Negative =  16\n",
      "Bad Positive =  11\n"
     ]
    },
    {
     "data": {
      "text/plain": [
       "(16, 11)"
      ]
     },
     "execution_count": 284,
     "metadata": {},
     "output_type": "execute_result"
    }
   ],
   "source": [
    "Num_Bad_Pos_Neg(R1 ,do_twist=True)"
   ]
  },
  {
   "cell_type": "code",
   "execution_count": 285,
   "id": "3f35b430",
   "metadata": {},
   "outputs": [],
   "source": [
    "R2 = graphs.RandomRegular(3,50)"
   ]
  },
  {
   "cell_type": "code",
   "execution_count": 286,
   "id": "e0566016",
   "metadata": {},
   "outputs": [
    {
     "data": {
      "image/png": "[encoded data removed]",
      "text/plain": [
       "Graphics object consisting of 126 graphics primitives"
      ]
     },
     "metadata": {},
     "output_type": "display_data"
    }
   ],
   "source": [
    "R2.show()"
   ]
  },
  {
   "cell_type": "code",
   "execution_count": 287,
   "id": "ba8169d6",
   "metadata": {},
   "outputs": [
    {
     "name": "stdout",
     "output_type": "stream",
     "text": [
      "Bad Negative =  36\n",
      "Bad Positive =  28\n"
     ]
    },
    {
     "data": {
      "text/plain": [
       "(36, 28)"
      ]
     },
     "execution_count": 287,
     "metadata": {},
     "output_type": "execute_result"
    }
   ],
   "source": [
    "Num_Bad_Pos_Neg(R2 ,do_twist=True)"
   ]
  },
  {
   "cell_type": "code",
   "execution_count": 288,
   "id": "b8f1dbc8",
   "metadata": {},
   "outputs": [
    {
     "name": "stdout",
     "output_type": "stream",
     "text": [
      "Bad Negative =  44\n",
      "Bad Positive =  31\n"
     ]
    },
    {
     "data": {
      "text/plain": [
       "(44, 31)"
      ]
     },
     "execution_count": 288,
     "metadata": {},
     "output_type": "execute_result"
    }
   ],
   "source": [
    "Num_Bad_Pos_Neg(R2 ,do_twist=True)"
   ]
  },
  {
   "cell_type": "code",
   "execution_count": 289,
   "id": "7104ef29",
   "metadata": {},
   "outputs": [
    {
     "name": "stdout",
     "output_type": "stream",
     "text": [
      "Bad Negative =  16\n",
      "Bad Positive =  13\n"
     ]
    },
    {
     "data": {
      "text/plain": [
       "(16, 13)"
      ]
     },
     "execution_count": 289,
     "metadata": {},
     "output_type": "execute_result"
    }
   ],
   "source": [
    "Num_Bad_Pos_Neg(R2 ,do_twist=True)"
   ]
  },
  {
   "cell_type": "code",
   "execution_count": 290,
   "id": "8a54b889",
   "metadata": {},
   "outputs": [
    {
     "name": "stdout",
     "output_type": "stream",
     "text": [
      "Bad Negative =  20\n",
      "Bad Positive =  10\n"
     ]
    },
    {
     "data": {
      "text/plain": [
       "(20, 10)"
      ]
     },
     "execution_count": 290,
     "metadata": {},
     "output_type": "execute_result"
    }
   ],
   "source": [
    "Num_Bad_Pos_Neg(R2 ,do_twist=True)"
   ]
  },
  {
   "cell_type": "code",
   "execution_count": 291,
   "id": "bebaf28a",
   "metadata": {},
   "outputs": [
    {
     "name": "stdout",
     "output_type": "stream",
     "text": [
      "Bad Negative =  41\n",
      "Bad Positive =  34\n"
     ]
    },
    {
     "data": {
      "text/plain": [
       "(41, 34)"
      ]
     },
     "execution_count": 291,
     "metadata": {},
     "output_type": "execute_result"
    }
   ],
   "source": [
    "Num_Bad_Pos_Neg(R2 ,do_twist=True)"
   ]
  },
  {
   "cell_type": "code",
   "execution_count": 292,
   "id": "fd12d19d",
   "metadata": {},
   "outputs": [
    {
     "name": "stdout",
     "output_type": "stream",
     "text": [
      "Bad Negative =  20\n",
      "Bad Positive =  13\n"
     ]
    },
    {
     "data": {
      "text/plain": [
       "(20, 13)"
      ]
     },
     "execution_count": 292,
     "metadata": {},
     "output_type": "execute_result"
    }
   ],
   "source": [
    "Num_Bad_Pos_Neg(R2 ,do_twist=True)"
   ]
  },
  {
   "cell_type": "code",
   "execution_count": 293,
   "id": "37d19591",
   "metadata": {},
   "outputs": [
    {
     "name": "stdout",
     "output_type": "stream",
     "text": [
      "Bad Negative =  18\n",
      "Bad Positive =  19\n"
     ]
    },
    {
     "data": {
      "text/plain": [
       "(18, 19)"
      ]
     },
     "execution_count": 293,
     "metadata": {},
     "output_type": "execute_result"
    }
   ],
   "source": [
    "Num_Bad_Pos_Neg(R2 ,do_twist=True)"
   ]
  },
  {
   "cell_type": "code",
   "execution_count": 294,
   "id": "32ba7906",
   "metadata": {},
   "outputs": [
    {
     "name": "stdout",
     "output_type": "stream",
     "text": [
      "Bad Negative =  24\n",
      "Bad Positive =  18\n"
     ]
    },
    {
     "data": {
      "text/plain": [
       "(24, 18)"
      ]
     },
     "execution_count": 294,
     "metadata": {},
     "output_type": "execute_result"
    }
   ],
   "source": [
    "Num_Bad_Pos_Neg(R2 ,do_twist=True)"
   ]
  },
  {
   "cell_type": "code",
   "execution_count": 295,
   "id": "b8688543",
   "metadata": {},
   "outputs": [
    {
     "name": "stdout",
     "output_type": "stream",
     "text": [
      "Bad Negative =  17\n",
      "Bad Positive =  17\n"
     ]
    },
    {
     "data": {
      "text/plain": [
       "(17, 17)"
      ]
     },
     "execution_count": 295,
     "metadata": {},
     "output_type": "execute_result"
    }
   ],
   "source": [
    "Num_Bad_Pos_Neg(R2 ,do_twist=True)"
   ]
  },
  {
   "cell_type": "code",
   "execution_count": 296,
   "id": "e32a89f3",
   "metadata": {},
   "outputs": [
    {
     "name": "stdout",
     "output_type": "stream",
     "text": [
      "Bad Negative =  7\n",
      "Bad Positive =  9\n"
     ]
    },
    {
     "data": {
      "text/plain": [
       "(7, 9)"
      ]
     },
     "execution_count": 296,
     "metadata": {},
     "output_type": "execute_result"
    }
   ],
   "source": [
    "Num_Bad_Pos_Neg(R2 ,do_twist=True)"
   ]
  },
  {
   "cell_type": "code",
   "execution_count": 140,
   "id": "e10352f5",
   "metadata": {},
   "outputs": [],
   "source": [
    "G1 = graphs.CompleteGraph(4)"
   ]
  },
  {
   "cell_type": "code",
   "execution_count": 133,
   "id": "2874f0f6",
   "metadata": {},
   "outputs": [
    {
     "name": "stdout",
     "output_type": "stream",
     "text": [
      "[2.1660, 1.6930]\n"
     ]
    }
   ],
   "source": [
    "print(exp_number_of_Bad_Neg_Pos(G1,samples=1000,do_twist=True))"
   ]
  },
  {
   "cell_type": "code",
   "execution_count": 134,
   "id": "7ed29243",
   "metadata": {},
   "outputs": [
    {
     "name": "stdout",
     "output_type": "stream",
     "text": [
      "[2.1420, 1.6910]\n"
     ]
    }
   ],
   "source": [
    "print(exp_number_of_Bad_Neg_Pos(G1,samples=1000,do_twist=True))"
   ]
  },
  {
   "cell_type": "code",
   "execution_count": 135,
   "id": "752971bd",
   "metadata": {},
   "outputs": [
    {
     "name": "stdout",
     "output_type": "stream",
     "text": [
      "[2.1690, 1.6920]\n"
     ]
    }
   ],
   "source": [
    "print(exp_number_of_Bad_Neg_Pos(G1,samples=1000,do_twist=True))"
   ]
  },
  {
   "cell_type": "code",
   "execution_count": 136,
   "id": "4ce7da31",
   "metadata": {},
   "outputs": [
    {
     "name": "stdout",
     "output_type": "stream",
     "text": [
      "[2.2640, 1.7490]\n"
     ]
    }
   ],
   "source": [
    "print(exp_number_of_Bad_Neg_Pos(G1,samples=1000,do_twist=True))"
   ]
  },
  {
   "cell_type": "code",
   "execution_count": 147,
   "id": "8f06048e",
   "metadata": {},
   "outputs": [
    {
     "name": "stdout",
     "output_type": "stream",
     "text": [
      "[2.1602, 1.6945]\n"
     ]
    }
   ],
   "source": [
    "print(exp_number_of_Bad_Neg_Pos(G1,samples=100000,do_twist=True))"
   ]
  },
  {
   "cell_type": "code",
   "execution_count": 141,
   "id": "029e5dbf",
   "metadata": {},
   "outputs": [],
   "source": [
    "pt = graphs.PetersenGraph()"
   ]
  },
  {
   "cell_type": "code",
   "execution_count": 142,
   "id": "247a65c3",
   "metadata": {},
   "outputs": [
    {
     "name": "stdout",
     "output_type": "stream",
     "text": [
      "[4.9300, 5.0500]\n"
     ]
    }
   ],
   "source": [
    "print(exp_number_of_Bad_Neg_Pos(pt,samples=100,do_twist=True))"
   ]
  },
  {
   "cell_type": "code",
   "execution_count": 149,
   "id": "fccfafc5",
   "metadata": {},
   "outputs": [
    {
     "name": "stdout",
     "output_type": "stream",
     "text": [
      "[5.0400, 4.5470]\n"
     ]
    }
   ],
   "source": [
    "print(exp_number_of_Bad_Neg_Pos(pt,samples=1000,do_twist=True))"
   ]
  },
  {
   "cell_type": "code",
   "execution_count": 150,
   "id": "b8b02d07",
   "metadata": {},
   "outputs": [
    {
     "name": "stdout",
     "output_type": "stream",
     "text": [
      "[5.1810, 4.6130]\n"
     ]
    }
   ],
   "source": [
    "print(exp_number_of_Bad_Neg_Pos(pt,samples=1000,do_twist=True))"
   ]
  },
  {
   "cell_type": "code",
   "execution_count": 151,
   "id": "80d0d08e",
   "metadata": {},
   "outputs": [
    {
     "name": "stdout",
     "output_type": "stream",
     "text": [
      "[5.1815, 4.6503]\n"
     ]
    }
   ],
   "source": [
    "print(exp_number_of_Bad_Neg_Pos(pt,samples=10000,do_twist=True))"
   ]
  },
  {
   "cell_type": "code",
   "execution_count": 152,
   "id": "bd1fd4c3",
   "metadata": {},
   "outputs": [],
   "source": [
    "B1 = graphs.BlanusaFirstSnarkGraph()"
   ]
  },
  {
   "cell_type": "code",
   "execution_count": 153,
   "id": "d107dc2a",
   "metadata": {},
   "outputs": [
    {
     "name": "stdout",
     "output_type": "stream",
     "text": [
      "[8.3900, 8.5000]\n"
     ]
    }
   ],
   "source": [
    "print(exp_number_of_Bad_Neg_Pos(B1,samples=100,do_twist=True))"
   ]
  },
  {
   "cell_type": "code",
   "execution_count": 154,
   "id": "d699c4fe",
   "metadata": {},
   "outputs": [
    {
     "name": "stdout",
     "output_type": "stream",
     "text": [
      "[9.1730, 8.6570]\n"
     ]
    }
   ],
   "source": [
    "print(exp_number_of_Bad_Neg_Pos(B1,samples=1000,do_twist=True))"
   ]
  },
  {
   "cell_type": "code",
   "execution_count": 155,
   "id": "58e02b66",
   "metadata": {},
   "outputs": [
    {
     "name": "stdout",
     "output_type": "stream",
     "text": [
      "[9.1417, 8.7099]\n"
     ]
    }
   ],
   "source": [
    "print(exp_number_of_Bad_Neg_Pos(B1,samples=10000,do_twist=True))"
   ]
  },
  {
   "cell_type": "code",
   "execution_count": 156,
   "id": "f08a8c51",
   "metadata": {},
   "outputs": [
    {
     "name": "stdout",
     "output_type": "stream",
     "text": [
      "[9.1567, 8.6770]\n"
     ]
    }
   ],
   "source": [
    "print(exp_number_of_Bad_Neg_Pos(B1,samples=100000,do_twist=True))"
   ]
  },
  {
   "cell_type": "code",
   "execution_count": 157,
   "id": "38b5e0f5",
   "metadata": {},
   "outputs": [],
   "source": [
    "B2 = graphs.BlanusaSecondSnarkGraph()"
   ]
  },
  {
   "cell_type": "code",
   "execution_count": 158,
   "id": "ddbd308d",
   "metadata": {},
   "outputs": [
    {
     "name": "stdout",
     "output_type": "stream",
     "text": [
      "[9.1700, 8.8700]\n"
     ]
    }
   ],
   "source": [
    "print(exp_number_of_Bad_Neg_Pos(B2,samples=100,do_twist=True))"
   ]
  },
  {
   "cell_type": "code",
   "execution_count": 159,
   "id": "cb815525",
   "metadata": {},
   "outputs": [
    {
     "name": "stdout",
     "output_type": "stream",
     "text": [
      "[9.1430, 8.4900]\n"
     ]
    }
   ],
   "source": [
    "print(exp_number_of_Bad_Neg_Pos(B2,samples=1000,do_twist=True))"
   ]
  },
  {
   "cell_type": "code",
   "execution_count": 160,
   "id": "7d8e2cf5",
   "metadata": {},
   "outputs": [
    {
     "name": "stdout",
     "output_type": "stream",
     "text": [
      "[9.1748, 8.5750]\n"
     ]
    }
   ],
   "source": [
    "print(exp_number_of_Bad_Neg_Pos(B2,samples=10000,do_twist=True))"
   ]
  },
  {
   "cell_type": "code",
   "execution_count": 161,
   "id": "178c9a57",
   "metadata": {},
   "outputs": [
    {
     "name": "stdout",
     "output_type": "stream",
     "text": [
      "[9.1556, 8.6414]\n"
     ]
    }
   ],
   "source": [
    "print(exp_number_of_Bad_Neg_Pos(B2,samples=100000,do_twist=True))"
   ]
  },
  {
   "cell_type": "code",
   "execution_count": 11,
   "id": "cb11ab26",
   "metadata": {},
   "outputs": [],
   "source": [
    "R1 = graphs.RandomRegular(3, 100)"
   ]
  },
  {
   "cell_type": "code",
   "execution_count": 12,
   "id": "0e0fc554",
   "metadata": {},
   "outputs": [
    {
     "name": "stdout",
     "output_type": "stream",
     "text": [
      "[49.560, 47.040]\n"
     ]
    }
   ],
   "source": [
    "print(exp_number_of_Bad_Neg_Pos(R1,samples=100,do_twist=True))"
   ]
  },
  {
   "cell_type": "code",
   "execution_count": 13,
   "id": "98d81487",
   "metadata": {},
   "outputs": [
    {
     "name": "stdout",
     "output_type": "stream",
     "text": [
      "[50.276, 49.915]\n"
     ]
    }
   ],
   "source": [
    "print(exp_number_of_Bad_Neg_Pos(R1,samples=1000,do_twist=True))"
   ]
  },
  {
   "cell_type": "code",
   "execution_count": 14,
   "id": "4d7fc6ba",
   "metadata": {
    "collapsed": true
   },
   "outputs": [
    {
     "ename": "KeyboardInterrupt",
     "evalue": "",
     "output_type": "error",
     "traceback": [
      "\u001b[0;31m---------------------------------------------------------------------------\u001b[0m",
      "\u001b[0;31mKeyboardInterrupt\u001b[0m                         Traceback (most recent call last)",
      "\u001b[0;32m/tmp/ipykernel_738/2483203688.py\u001b[0m in \u001b[0;36m<module>\u001b[0;34m\u001b[0m\n\u001b[0;32m----> 1\u001b[0;31m \u001b[0mprint\u001b[0m\u001b[0;34m(\u001b[0m\u001b[0mexp_number_of_Bad_Neg_Pos\u001b[0m\u001b[0;34m(\u001b[0m\u001b[0mR1\u001b[0m\u001b[0;34m,\u001b[0m\u001b[0msamples\u001b[0m\u001b[0;34m=\u001b[0m\u001b[0mInteger\u001b[0m\u001b[0;34m(\u001b[0m\u001b[0;36m10000\u001b[0m\u001b[0;34m)\u001b[0m\u001b[0;34m,\u001b[0m\u001b[0mdo_twist\u001b[0m\u001b[0;34m=\u001b[0m\u001b[0;32mTrue\u001b[0m\u001b[0;34m)\u001b[0m\u001b[0;34m)\u001b[0m\u001b[0;34m\u001b[0m\u001b[0;34m\u001b[0m\u001b[0m\n\u001b[0m",
      "\u001b[0;32m/tmp/ipykernel_738/2274652394.py\u001b[0m in \u001b[0;36mexp_number_of_Bad_Neg_Pos\u001b[0;34m(G, samples, do_twist)\u001b[0m\n\u001b[1;32m    266\u001b[0m     \u001b[0mPos\u001b[0m \u001b[0;34m=\u001b[0m \u001b[0;34m[\u001b[0m\u001b[0;34m]\u001b[0m\u001b[0;34m\u001b[0m\u001b[0;34m\u001b[0m\u001b[0m\n\u001b[1;32m    267\u001b[0m     \u001b[0;32mfor\u001b[0m \u001b[0mi\u001b[0m \u001b[0;32min\u001b[0m \u001b[0mrange\u001b[0m \u001b[0;34m(\u001b[0m\u001b[0msamples\u001b[0m\u001b[0;34m)\u001b[0m\u001b[0;34m:\u001b[0m\u001b[0;34m\u001b[0m\u001b[0;34m\u001b[0m\u001b[0m\n\u001b[0;32m--> 268\u001b[0;31m         \u001b[0mL\u001b[0m \u001b[0;34m=\u001b[0m \u001b[0mList_Bad_Pos_Neg\u001b[0m\u001b[0;34m(\u001b[0m\u001b[0mG\u001b[0m\u001b[0;34m,\u001b[0m\u001b[0msamples\u001b[0m\u001b[0;34m)\u001b[0m\u001b[0;34m\u001b[0m\u001b[0;34m\u001b[0m\u001b[0m\n\u001b[0m\u001b[1;32m    269\u001b[0m         \u001b[0mNeg\u001b[0m\u001b[0;34m.\u001b[0m\u001b[0mappend\u001b[0m\u001b[0;34m(\u001b[0m\u001b[0mL\u001b[0m\u001b[0;34m[\u001b[0m\u001b[0mInteger\u001b[0m\u001b[0;34m(\u001b[0m\u001b[0;36m0\u001b[0m\u001b[0;34m)\u001b[0m\u001b[0;34m]\u001b[0m\u001b[0;34m)\u001b[0m\u001b[0;34m\u001b[0m\u001b[0;34m\u001b[0m\u001b[0m\n\u001b[1;32m    270\u001b[0m         \u001b[0mPos\u001b[0m\u001b[0;34m.\u001b[0m\u001b[0mappend\u001b[0m\u001b[0;34m(\u001b[0m\u001b[0mL\u001b[0m\u001b[0;34m[\u001b[0m\u001b[0mInteger\u001b[0m\u001b[0;34m(\u001b[0m\u001b[0;36m1\u001b[0m\u001b[0;34m)\u001b[0m\u001b[0;34m]\u001b[0m\u001b[0;34m)\u001b[0m\u001b[0;34m\u001b[0m\u001b[0;34m\u001b[0m\u001b[0m\n",
      "\u001b[0;32m/tmp/ipykernel_738/2274652394.py\u001b[0m in \u001b[0;36mList_Bad_Pos_Neg\u001b[0;34m(G, do_twist)\u001b[0m\n\u001b[1;32m    258\u001b[0m \u001b[0;34m\u001b[0m\u001b[0m\n\u001b[1;32m    259\u001b[0m \u001b[0;32mdef\u001b[0m \u001b[0mList_Bad_Pos_Neg\u001b[0m\u001b[0;34m(\u001b[0m\u001b[0mG\u001b[0m \u001b[0;34m,\u001b[0m\u001b[0mdo_twist\u001b[0m\u001b[0;34m=\u001b[0m\u001b[0;32mTrue\u001b[0m\u001b[0;34m)\u001b[0m\u001b[0;34m:\u001b[0m\u001b[0;34m\u001b[0m\u001b[0;34m\u001b[0m\u001b[0m\n\u001b[0;32m--> 260\u001b[0;31m     \u001b[0mL\u001b[0m \u001b[0;34m=\u001b[0m \u001b[0mlist\u001b[0m\u001b[0;34m(\u001b[0m\u001b[0mNum_Bad_Pos_Neg1\u001b[0m\u001b[0;34m(\u001b[0m\u001b[0mG\u001b[0m \u001b[0;34m,\u001b[0m\u001b[0mdo_twist\u001b[0m\u001b[0;34m=\u001b[0m\u001b[0mdo_twist\u001b[0m\u001b[0;34m)\u001b[0m\u001b[0;34m)\u001b[0m\u001b[0;34m\u001b[0m\u001b[0;34m\u001b[0m\u001b[0m\n\u001b[0m\u001b[1;32m    261\u001b[0m     \u001b[0;32mreturn\u001b[0m \u001b[0mL\u001b[0m\u001b[0;34m\u001b[0m\u001b[0;34m\u001b[0m\u001b[0m\n\u001b[1;32m    262\u001b[0m \u001b[0;34m\u001b[0m\u001b[0m\n",
      "\u001b[0;32m/tmp/ipykernel_738/2274652394.py\u001b[0m in \u001b[0;36mNum_Bad_Pos_Neg1\u001b[0;34m(G, do_twist)\u001b[0m\n\u001b[1;32m    236\u001b[0m \u001b[0;32mdef\u001b[0m \u001b[0mNum_Bad_Pos_Neg1\u001b[0m\u001b[0;34m(\u001b[0m\u001b[0mG\u001b[0m \u001b[0;34m,\u001b[0m\u001b[0mdo_twist\u001b[0m\u001b[0;34m=\u001b[0m\u001b[0;32mTrue\u001b[0m\u001b[0;34m)\u001b[0m\u001b[0;34m:\u001b[0m\u001b[0;34m\u001b[0m\u001b[0;34m\u001b[0m\u001b[0m\n\u001b[1;32m    237\u001b[0m \u001b[0;34m\u001b[0m\u001b[0m\n\u001b[0;32m--> 238\u001b[0;31m     \u001b[0mL\u001b[0m \u001b[0;34m=\u001b[0m \u001b[0mFaces\u001b[0m\u001b[0;34m(\u001b[0m\u001b[0mG\u001b[0m\u001b[0;34m,\u001b[0m\u001b[0mdo_twist\u001b[0m\u001b[0;34m=\u001b[0m\u001b[0mdo_twist\u001b[0m\u001b[0;34m)\u001b[0m\u001b[0;34m\u001b[0m\u001b[0;34m\u001b[0m\u001b[0m\n\u001b[0m\u001b[1;32m    239\u001b[0m \u001b[0;34m\u001b[0m\u001b[0m\n\u001b[1;32m    240\u001b[0m     \u001b[0mBad_Neg\u001b[0m \u001b[0;34m=\u001b[0m \u001b[0mInteger\u001b[0m\u001b[0;34m(\u001b[0m\u001b[0;36m0\u001b[0m\u001b[0;34m)\u001b[0m\u001b[0;34m\u001b[0m\u001b[0;34m\u001b[0m\u001b[0m\n",
      "\u001b[0;32m/tmp/ipykernel_738/2274652394.py\u001b[0m in \u001b[0;36mFaces\u001b[0;34m(G, do_twist)\u001b[0m\n\u001b[1;32m    192\u001b[0m \u001b[0;32mdef\u001b[0m \u001b[0mFaces\u001b[0m\u001b[0;34m(\u001b[0m\u001b[0mG\u001b[0m\u001b[0;34m,\u001b[0m\u001b[0mdo_twist\u001b[0m\u001b[0;34m=\u001b[0m\u001b[0;32mTrue\u001b[0m\u001b[0;34m)\u001b[0m\u001b[0;34m:\u001b[0m\u001b[0;34m\u001b[0m\u001b[0;34m\u001b[0m\u001b[0m\n\u001b[1;32m    193\u001b[0m     \u001b[0mD\u001b[0m \u001b[0;34m=\u001b[0m \u001b[0mgetD\u001b[0m\u001b[0;34m(\u001b[0m\u001b[0mG\u001b[0m\u001b[0;34m)\u001b[0m\u001b[0;34m\u001b[0m\u001b[0;34m\u001b[0m\u001b[0m\n\u001b[0;32m--> 194\u001b[0;31m     \u001b[0mF\u001b[0m \u001b[0;34m=\u001b[0m \u001b[0mtwisted_faces3\u001b[0m\u001b[0;34m(\u001b[0m\u001b[0mG\u001b[0m\u001b[0;34m,\u001b[0m\u001b[0mdo_twist\u001b[0m\u001b[0;34m=\u001b[0m\u001b[0mdo_twist\u001b[0m\u001b[0;34m)\u001b[0m\u001b[0;34m\u001b[0m\u001b[0;34m\u001b[0m\u001b[0m\n\u001b[0m\u001b[1;32m    195\u001b[0m     \u001b[0mbad\u001b[0m \u001b[0;34m=\u001b[0m \u001b[0mInteger\u001b[0m\u001b[0;34m(\u001b[0m\u001b[0;36m0\u001b[0m\u001b[0;34m)\u001b[0m\u001b[0;34m\u001b[0m\u001b[0;34m\u001b[0m\u001b[0m\n\u001b[1;32m    196\u001b[0m     \u001b[0mL\u001b[0m \u001b[0;34m=\u001b[0m \u001b[0;34m[\u001b[0m\u001b[0;34m]\u001b[0m\u001b[0;34m\u001b[0m\u001b[0;34m\u001b[0m\u001b[0m\n",
      "\u001b[0;32m/tmp/ipykernel_738/2274652394.py\u001b[0m in \u001b[0;36mtwisted_faces3\u001b[0;34m(G, do_twist)\u001b[0m\n\u001b[1;32m    121\u001b[0m         \u001b[0mrandom\u001b[0m\u001b[0;34m.\u001b[0m\u001b[0mshuffle\u001b[0m\u001b[0;34m(\u001b[0m\u001b[0mN\u001b[0m\u001b[0;34m)\u001b[0m\u001b[0;34m\u001b[0m\u001b[0;34m\u001b[0m\u001b[0m\n\u001b[1;32m    122\u001b[0m         \u001b[0;32mfor\u001b[0m \u001b[0mx\u001b[0m\u001b[0;34m,\u001b[0m\u001b[0my\u001b[0m \u001b[0;32min\u001b[0m \u001b[0mzip\u001b[0m\u001b[0;34m(\u001b[0m\u001b[0mN\u001b[0m\u001b[0;34m,\u001b[0m\u001b[0mN\u001b[0m\u001b[0;34m[\u001b[0m\u001b[0mInteger\u001b[0m\u001b[0;34m(\u001b[0m\u001b[0;36m1\u001b[0m\u001b[0;34m)\u001b[0m\u001b[0;34m:\u001b[0m\u001b[0;34m]\u001b[0m\u001b[0;34m+\u001b[0m\u001b[0;34m[\u001b[0m\u001b[0mN\u001b[0m\u001b[0;34m[\u001b[0m\u001b[0mInteger\u001b[0m\u001b[0;34m(\u001b[0m\u001b[0;36m0\u001b[0m\u001b[0;34m)\u001b[0m\u001b[0;34m]\u001b[0m\u001b[0;34m]\u001b[0m\u001b[0;34m)\u001b[0m\u001b[0;34m:\u001b[0m\u001b[0;34m\u001b[0m\u001b[0;34m\u001b[0m\u001b[0m\n\u001b[0;32m--> 123\u001b[0;31m             \u001b[0mRlist\u001b[0m\u001b[0;34m.\u001b[0m\u001b[0mappend\u001b[0m\u001b[0;34m(\u001b[0m\u001b[0;34m(\u001b[0m\u001b[0mD\u001b[0m\u001b[0;34m.\u001b[0m\u001b[0mindex\u001b[0m\u001b[0;34m(\u001b[0m\u001b[0;34m(\u001b[0m\u001b[0mv\u001b[0m\u001b[0;34m,\u001b[0m\u001b[0mx\u001b[0m\u001b[0;34m,\u001b[0m\u001b[0mInteger\u001b[0m\u001b[0;34m(\u001b[0m\u001b[0;36m1\u001b[0m\u001b[0;34m)\u001b[0m\u001b[0;34m)\u001b[0m\u001b[0;34m)\u001b[0m\u001b[0;34m,\u001b[0m\u001b[0mD\u001b[0m\u001b[0;34m.\u001b[0m\u001b[0mindex\u001b[0m\u001b[0;34m(\u001b[0m\u001b[0;34m(\u001b[0m\u001b[0mv\u001b[0m\u001b[0;34m,\u001b[0m\u001b[0my\u001b[0m\u001b[0;34m,\u001b[0m\u001b[0mInteger\u001b[0m\u001b[0;34m(\u001b[0m\u001b[0;36m0\u001b[0m\u001b[0;34m)\u001b[0m\u001b[0;34m)\u001b[0m\u001b[0;34m)\u001b[0m\u001b[0;34m)\u001b[0m\u001b[0;34m)\u001b[0m\u001b[0;34m\u001b[0m\u001b[0;34m\u001b[0m\u001b[0m\n\u001b[0m\u001b[1;32m    124\u001b[0m     \u001b[0mR\u001b[0m \u001b[0;34m=\u001b[0m \u001b[0mPermutation\u001b[0m\u001b[0;34m(\u001b[0m\u001b[0mRlist\u001b[0m\u001b[0;34m)\u001b[0m\u001b[0;34m\u001b[0m\u001b[0;34m\u001b[0m\u001b[0m\n\u001b[1;32m    125\u001b[0m     \u001b[0mLlist\u001b[0m \u001b[0;34m=\u001b[0m \u001b[0;34m[\u001b[0m\u001b[0;34m]\u001b[0m\u001b[0;34m\u001b[0m\u001b[0;34m\u001b[0m\u001b[0m\n",
      "\u001b[0;32msrc/cysignals/signals.pyx\u001b[0m in \u001b[0;36mcysignals.signals.python_check_interrupt\u001b[0;34m()\u001b[0m\n",
      "\u001b[0;31mKeyboardInterrupt\u001b[0m: "
     ]
    }
   ],
   "source": [
    "print(exp_number_of_Bad_Neg_Pos(R1,samples=10000,do_twist=True))"
   ]
  },
  {
   "cell_type": "code",
   "execution_count": 19,
   "id": "7b73859c",
   "metadata": {},
   "outputs": [],
   "source": [
    "C = graphs.CycleGraph(21)\n",
    "P = graphs.PathGraph(2)\n",
    "G = P.cartesian_product(C)"
   ]
  },
  {
   "cell_type": "code",
   "execution_count": 49,
   "id": "c5b594d4",
   "metadata": {},
   "outputs": [
    {
     "name": "stdout",
     "output_type": "stream",
     "text": [
      "[15.312, 14.926]\n"
     ]
    }
   ],
   "source": [
    "print(exp_number_of_Bad_Neg_Pos(G,samples=1000,do_twist=True))"
   ]
  },
  {
   "cell_type": "code",
   "execution_count": 47,
   "id": "d4153003",
   "metadata": {},
   "outputs": [],
   "source": [
    "def binary_tree(n):\n",
    "    T = Graph(n)\n",
    "    for k in range(1,n):\n",
    "        T.add_edge((k,int(k/2)))\n",
    "    T.delete_vertex(0)\n",
    "    return T\n",
    "\n",
    "\n",
    "def two_trees(n):\n",
    "    T = binary_tree(n)\n",
    "    G = T.disjoint_union(T)\n",
    "    G.add_edge( ((0,1), (1,1)))\n",
    "    \n",
    "    for k in range(n/2,n):\n",
    "        G.add_edge(((0,k),(1,k)))\n",
    "        l = k+1\n",
    "        if l==n: l=n/2\n",
    "        G.add_edge(((0,k),(1,l)))\n",
    "        \n",
    "    return G"
   ]
  },
  {
   "cell_type": "code",
   "execution_count": 48,
   "id": "630d18a4",
   "metadata": {},
   "outputs": [
    {
     "data": {
      "text/plain": [
       "Graph on 15 vertices disjoint_union Graph on 15 vertices: Graph on 30 vertices (use the .plot() method to plot)"
      ]
     },
     "execution_count": 48,
     "metadata": {},
     "output_type": "execute_result"
    }
   ],
   "source": [
    "G = two_trees(16); G"
   ]
  },
  {
   "cell_type": "code",
   "execution_count": 171,
   "id": "77253981",
   "metadata": {},
   "outputs": [],
   "source": [
    "R2 = graphs.RandomRegular(3, 50)"
   ]
  },
  {
   "cell_type": "code",
   "execution_count": 172,
   "id": "245f16b3",
   "metadata": {},
   "outputs": [
    {
     "name": "stdout",
     "output_type": "stream",
     "text": [
      "[26.540, 25.920]\n"
     ]
    }
   ],
   "source": [
    "print(exp_number_of_Bad_Neg_Pos(R2,samples=100,do_twist=True))"
   ]
  },
  {
   "cell_type": "code",
   "execution_count": 173,
   "id": "e6828574",
   "metadata": {},
   "outputs": [
    {
     "name": "stdout",
     "output_type": "stream",
     "text": [
      "[25.152, 25.002]\n"
     ]
    }
   ],
   "source": [
    "print(exp_number_of_Bad_Neg_Pos(R2,samples=1000,do_twist=True))"
   ]
  },
  {
   "cell_type": "code",
   "execution_count": 169,
   "id": "48b75805",
   "metadata": {},
   "outputs": [
    {
     "name": "stdout",
     "output_type": "stream",
     "text": [
      "[25.164, 24.594]\n"
     ]
    }
   ],
   "source": [
    "print(exp_number_of_Bad_Neg_Pos(R2,samples=10000,do_twist=True))"
   ]
  },
  {
   "cell_type": "code",
   "execution_count": 4,
   "id": "70583859",
   "metadata": {},
   "outputs": [],
   "source": [
    "R3 = graphs.RandomRegular(3, 120)"
   ]
  },
  {
   "cell_type": "code",
   "execution_count": 175,
   "id": "241beff6",
   "metadata": {},
   "outputs": [
    {
     "name": "stdout",
     "output_type": "stream",
     "text": [
      "[58.070, 57.260]\n"
     ]
    }
   ],
   "source": [
    "print(exp_number_of_Bad_Neg_Pos(R3,samples=100,do_twist=True))"
   ]
  },
  {
   "cell_type": "code",
   "execution_count": 8,
   "id": "3192f979",
   "metadata": {},
   "outputs": [
    {
     "name": "stdout",
     "output_type": "stream",
     "text": [
      "[59.602, 59.546]\n"
     ]
    }
   ],
   "source": [
    "print(exp_number_of_Bad_Neg_Pos(R3,samples=1000,do_twist=True))"
   ]
  },
  {
   "cell_type": "code",
   "execution_count": 3,
   "id": "26ec77e4",
   "metadata": {},
   "outputs": [],
   "source": [
    "R4 = graphs.RandomRegular(3, 60)"
   ]
  },
  {
   "cell_type": "code",
   "execution_count": 9,
   "id": "142160c4",
   "metadata": {},
   "outputs": [
    {
     "name": "stdout",
     "output_type": "stream",
     "text": [
      "[30.385, 29.639]\n"
     ]
    }
   ],
   "source": [
    "print(exp_number_of_Bad_Neg_Pos(R4,samples=1000,do_twist=True))"
   ]
  },
  {
   "cell_type": "code",
   "execution_count": null,
   "id": "4d251b3a",
   "metadata": {},
   "outputs": [],
   "source": []
  }
 ],
 "metadata": {
  "kernelspec": {
   "display_name": "SageMath 9.5",
   "language": "sage",
   "name": "sagemath"
  },
  "language_info": {
   "codemirror_mode": {
    "name": "ipython",
    "version": 3
   },
   "file_extension": ".py",
   "mimetype": "text/x-python",
   "name": "python",
   "nbconvert_exporter": "python",
   "pygments_lexer": "ipython3",
   "version": "3.10.6"
  }
 },
 "nbformat": 4,
 "nbformat_minor": 5
}
