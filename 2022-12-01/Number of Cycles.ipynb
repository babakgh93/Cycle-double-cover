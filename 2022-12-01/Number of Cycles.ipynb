{
 "cells": [
  {
   "cell_type": "code",
   "execution_count": null,
   "metadata": {},
   "outputs": [],
   "source": [
    "#number of cycles of fixed length contains the edge (0,1)\n",
    "\n",
    "G = graphs.PerkelGraph()\n",
    "V = G.vertices()\n",
    "E = G.edges(labels=None)\n",
    "\n",
    "if (x,y) in E:\n",
    "    T = G.all_paths(x, y)\n",
    "    \n",
    "S = [[] for i in range (len(V)-2)]\n",
    "\n",
    "for k in range (0, len(V)-2):\n",
    "    Sum = 0\n",
    "    for j in range(len(T)):\n",
    "        if len(T[j]) == k+3:\n",
    "            Sum = Sum + 1\n",
    "    S[k].append((k+3,Sum))\n",
    "\n",
    "print(S)\n",
    "G.show()"
   ]
  },
  {
   "cell_type": "code",
   "execution_count": null,
   "metadata": {},
   "outputs": [],
   "source": []
  }
 ],
 "metadata": {
  "kernelspec": {
   "display_name": "SageMath 9.1",
   "language": "sage",
   "name": "sagemath"
  },
  "language_info": {
   "codemirror_mode": {
    "name": "ipython",
    "version": 3
   },
   "file_extension": ".py",
   "mimetype": "text/x-python",
   "name": "python",
   "nbconvert_exporter": "python",
   "pygments_lexer": "ipython3",
   "version": "3.7.3"
  }
 },
 "nbformat": 4,
 "nbformat_minor": 2
}
