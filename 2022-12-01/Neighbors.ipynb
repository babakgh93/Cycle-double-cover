{
 "cells": [
  {
   "cell_type": "code",
   "execution_count": 1,
   "metadata": {},
   "outputs": [],
   "source": [
    "def neighbors(G):\n",
    "    \n",
    "        #this function gives me the set of all neighbors of vertices in the graph\n",
    "        \n",
    "    V = G.vertices()\n",
    "    E = G.edges(labels=None)\n",
    "\n",
    "    N = []\n",
    "    for i in V:\n",
    "        s=[]\n",
    "        for j in V:\n",
    "            if (i,j) in E or (j,i) in E:\n",
    "                s.append(j)\n",
    "        N.append(s)\n",
    "    return N"
   ]
  },
  {
   "cell_type": "code",
   "execution_count": 15,
   "metadata": {},
   "outputs": [
    {
     "name": "stdout",
     "output_type": "stream",
     "text": [
      "[0, 1, 2]\n"
     ]
    },
    {
     "data": {
      "text/plain": [
       "[0, 2]"
      ]
     },
     "execution_count": 15,
     "metadata": {},
     "output_type": "execute_result"
    }
   ],
   "source": [
    "G1 = graphs.PathGraph(3)\n",
    "G2 = graphs.PathGraph(4)\n",
    "\n",
    "G = G1.cartesian_product(G2)\n",
    "H = graphs.PetersenGraph()\n",
    "\n",
    "G1.relabel()\n",
    "print(G1.vertices())\n",
    "G1.edges()\n",
    "G1.neighbors(1)\n",
    "\n",
    "#neighbors(H), neighbors(G), G.show()"
   ]
  },
  {
   "cell_type": "code",
   "execution_count": null,
   "metadata": {},
   "outputs": [],
   "source": []
  }
 ],
 "metadata": {
  "kernelspec": {
   "display_name": "SageMath 9.1",
   "language": "sage",
   "name": "sagemath"
  },
  "language_info": {
   "codemirror_mode": {
    "name": "ipython",
    "version": 3
   },
   "file_extension": ".py",
   "mimetype": "text/x-python",
   "name": "python",
   "nbconvert_exporter": "python",
   "pygments_lexer": "ipython3",
   "version": "3.7.3"
  }
 },
 "nbformat": 4,
 "nbformat_minor": 2
}
