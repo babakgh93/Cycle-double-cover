{
 "cells": [
  {
   "cell_type": "code",
   "execution_count": 8,
   "metadata": {},
   "outputs": [],
   "source": [
    "def neighbors(G):\n",
    "    \n",
    "        #this function gives me the set of all neighbors of vertices in the graph.\n",
    "        \n",
    "    V = G.vertices()\n",
    "    E = G.edges(labels=None)\n",
    "\n",
    "    N = []\n",
    "    for i in V:\n",
    "        s=[]\n",
    "        for j in V:\n",
    "            if (i,j) in E or (j,i) in E:\n",
    "                s.append(j)\n",
    "        N.append(s)\n",
    "    return N\n",
    "    \n",
    "from itertools import permutations\n",
    "def Perm(G):\n",
    "    \n",
    "  #this function computes all permutations of the neighbors of each vertex i in {0,1,...,n} and returns them in 2-dim array.\n",
    "\n",
    "    Permutations = []\n",
    "    for i in range(len(neighbors(G))):\n",
    "        perm = permutations(neighbors(G)[i])\n",
    "        Permutations.append(list(perm)) \n",
    "   \n",
    "    return [[Permutations[i][j] for i in range (len(Permutations))] for j in range (0,2)]\n",
    "\n",
    "\n",
    "def phi(S,x):\n",
    "    #in permutation S = (0,1,...,n-1) we have phi(S,i) = i+1 (mod n).\n",
    "    for i in range (0,len(S)-1):\n",
    "        if S[i] == x:\n",
    "            return S[i+1]\n",
    "    for i in range (len(S)-1,len(S)):\n",
    "        if S[i] == x:\n",
    "            return S[0]\n",
    "\n",
    "        \n",
    "G = graphs.PetersenGraph()\n",
    "V = G.vertices()\n",
    "E1 = G.edges(labels=None)\n",
    "E2 = [(y,x) for (x,y) in E1]\n",
    "E = E1 + E2\n",
    "A = Perm(G)[0]\n",
    "B = Perm(G)[1]\n",
    "\n",
    "def FW(e):\n",
    "    e0 = e\n",
    "    FW = [e[0],e[1]]\n",
    "    for i in range (2*len(E)):    \n",
    "        FW.append(phi(A[e[1]],e[0]))\n",
    "        e = (e[1],phi(A[e[1]],e[0]))\n",
    "        if e == e0:\n",
    "            break\n",
    "    return FW\n",
    "\n",
    "def NewPerm(G,v):\n",
    "    T = A[v]\n",
    "    A[v] = B[v]\n",
    "    B[v] = T\n",
    "    return A, B\n",
    "\n",
    "def TrackFace(G):\n",
    "    I = []\n",
    "    for e in E:\n",
    "        if e not in I:\n",
    "            print(FW(e))\n",
    "            for i in range (len (FW(e))-2):\n",
    "                I.append((FW(e)[i],FW(e)[i+1]))\n",
    "\n",
    "\n",
    "def M(e):\n",
    "    M = [[0 for i in range (len(V))]for j in range(len(V))]\n",
    "    for i in range (len(FW(e)) - 2):\n",
    "        M[FW(e)[i]][FW(e)[i+1]] = 1\n",
    "        \n",
    "    return M\n",
    "### in the next step, I need to find a bad edge using M ###\n",
    "### and if there are no bad edges in FW, continue with the next edge###\n",
    "def OCDC(G):\n",
    "    e = E[0]\n",
    "    L = [FW(e)]\n",
    "    ##### \n",
    "    return(L)"
   ]
  },
  {
   "cell_type": "code",
   "execution_count": 9,
   "metadata": {},
   "outputs": [
    {
     "name": "stdout",
     "output_type": "stream",
     "text": [
      "[0, 1, 2, 3, 4, 9, 6, 1, 0, 4, 3, 8, 5, 0, 1]\n",
      "[0, 5, 7, 9, 4, 0, 5]\n",
      "[1, 6, 8, 3, 2, 7, 5, 8, 6, 9, 7, 2, 1, 6]\n"
     ]
    }
   ],
   "source": [
    "TrackFace(G)"
   ]
  },
  {
   "cell_type": "code",
   "execution_count": 10,
   "metadata": {},
   "outputs": [
    {
     "name": "stdout",
     "output_type": "stream",
     "text": [
      "[0, 1, 6, 8, 3, 2, 7, 5, 8, 6, 9, 7, 2, 1, 0, 4, 3, 8, 5, 0, 1]\n",
      "[0, 5, 7, 9, 4, 0, 5]\n",
      "[1, 2, 3, 4, 9, 6, 1, 2]\n"
     ]
    }
   ],
   "source": [
    "NewPerm(G,1)\n",
    "TrackFace(G)"
   ]
  },
  {
   "cell_type": "code",
   "execution_count": 11,
   "metadata": {},
   "outputs": [
    {
     "name": "stdout",
     "output_type": "stream",
     "text": [
      "[0, 1, 6, 8, 5, 0, 1]\n",
      "[0, 4, 3, 8, 6, 9, 7, 2, 1, 0, 4]\n",
      "[0, 5, 7, 9, 4, 0, 5]\n",
      "[1, 2, 3, 4, 9, 6, 1, 2]\n",
      "[2, 7, 5, 8, 3, 2, 7]\n"
     ]
    }
   ],
   "source": [
    "NewPerm(G,8)\n",
    "TrackFace(G)"
   ]
  },
  {
   "cell_type": "code",
   "execution_count": null,
   "metadata": {},
   "outputs": [],
   "source": []
  }
 ],
 "metadata": {
  "kernelspec": {
   "display_name": "SageMath 9.4",
   "language": "sage",
   "name": "sagemath"
  },
  "language_info": {
   "codemirror_mode": {
    "name": "ipython",
    "version": 3
   },
   "file_extension": ".py",
   "mimetype": "text/x-python",
   "name": "python",
   "nbconvert_exporter": "python",
   "pygments_lexer": "ipython3",
   "version": "3.7.3"
  }
 },
 "nbformat": 4,
 "nbformat_minor": 4
}
