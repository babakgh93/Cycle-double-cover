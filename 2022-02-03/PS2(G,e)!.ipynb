{
 "cells": [
  {
   "cell_type": "code",
   "execution_count": 4,
   "metadata": {},
   "outputs": [],
   "source": [
    "def PS2(G,which_edge = 0):\n",
    "\n",
    "    use_multiedges = False\n",
    "    report_edges = False\n",
    "    labels = False\n",
    "\n",
    "    V = G.vertices()\n",
    "    E = G.edges(labels=None)\n",
    "\n",
    "    start, end = E[which_edge]\n",
    "\n",
    "\n",
    "    if G.is_directed():\n",
    "        iterator = G.neighbor_out_iterator\n",
    "    else:\n",
    "        iterator = G.neighbor_iterator\n",
    "\n",
    "    if report_edges and labels:\n",
    "        edge_labels = {}\n",
    "        if use_multiedges:\n",
    "            for e in G.edge_iterator():\n",
    "                if (e[0], e[1]) in edge_labels:\n",
    "                    edge_labels[(e[0], e[1])].append(e)\n",
    "                else:\n",
    "                    edge_labels[(e[0], e[1])] = [e]\n",
    "\n",
    "        else:\n",
    "            for e in G.edge_iterator():\n",
    "                if (e[0], e[1]) not in edge_labels:\n",
    "                    edge_labels[(e[0], e[1])] = [e]\n",
    "                \n",
    "        if not G.is_directed():\n",
    "            for u, v in list(edge_labels):\n",
    "                edge_labels[v, u] = edge_labels[u, v]\n",
    "\n",
    "    elif use_multiedges and G.has_multiple_edges():\n",
    "        from collections import Counter\n",
    "        edge_multiplicity = Counter(G.edge_iterator(labels=False))\n",
    "    \n",
    "    if start == end:\n",
    "        print(\"Error: start = end\")\n",
    "    \n",
    "    Sum = 0      # list of\n",
    "    act_path = []       # the current path\n",
    "    act_path_iter = []  # the neighbor/successor-iterators of the current path\n",
    "    done = False\n",
    "    s = start\n",
    "    while not done:\n",
    "        if s == end:    # if path completes, add to list\n",
    "            if (len(act_path + [s])) > 2:\n",
    "                Sum = Sum + (1/(2**(len(act_path + [s]))))\n",
    "    \n",
    "\n",
    "        else:\n",
    "            if s not in act_path:   # we want vertices just once in a path\n",
    "                act_path.append(s)  # extend current path\n",
    "                act_path_iter.append(iterator(s))  # save the state of the neighbor/successor-iterator of the current vertex\n",
    "        s = None\n",
    "        while (s is None) and not done:\n",
    "            try:\n",
    "                s = next(act_path_iter[-1])  # try to get the next neighbor/successor, ...\n",
    "            except (StopIteration):          # ... if there is none ...\n",
    "                act_path.pop()               # ... go one step back\n",
    "                act_path_iter.pop()\n",
    "            if not act_path:                 # there is no other vertex ...\n",
    "                done = True                  # ... so we are done\n",
    "\n",
    "    return Sum.n() "
   ]
  },
  {
   "cell_type": "code",
   "execution_count": 5,
   "metadata": {},
   "outputs": [
    {
     "data": {
      "text/plain": [
       "0.204101562500000"
      ]
     },
     "execution_count": 5,
     "metadata": {},
     "output_type": "execute_result"
    }
   ],
   "source": [
    "G = graphs.HeawoodGraph()\n",
    "PS2(G)"
   ]
  },
  {
   "cell_type": "code",
   "execution_count": null,
   "metadata": {},
   "outputs": [],
   "source": []
  }
 ],
 "metadata": {
  "kernelspec": {
   "display_name": "SageMath 9.1",
   "language": "sage",
   "name": "sagemath"
  },
  "language_info": {
   "codemirror_mode": {
    "name": "ipython",
    "version": 3
   },
   "file_extension": ".py",
   "mimetype": "text/x-python",
   "name": "python",
   "nbconvert_exporter": "python",
   "pygments_lexer": "ipython3",
   "version": "3.7.3"
  }
 },
 "nbformat": 4,
 "nbformat_minor": 2
}
