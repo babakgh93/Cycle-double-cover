{
 "cells": [
  {
   "cell_type": "code",
   "execution_count": 17,
   "metadata": {},
   "outputs": [],
   "source": [
    "def neighbors(G):\n",
    "    \n",
    "        #this function gives me the set of all neighbors of vertices in the graph.\n",
    "        \n",
    "    V = G.vertices()\n",
    "    E = G.edges(labels=None)\n",
    "\n",
    "    N = []\n",
    "    for i in V:\n",
    "        s=[]\n",
    "        for j in V:\n",
    "            if (i,j) in E or (j,i) in E:\n",
    "                s.append(j)\n",
    "        N.append(s)\n",
    "    return N\n",
    "    \n",
    "from itertools import permutations\n",
    "def Perm(G):\n",
    "    \n",
    "  #this function computes all permutations of the neighbors of each vertex i in {0,1,...,n} and returns them in 2-dim array.\n",
    "\n",
    "    Permutations = []\n",
    "    for i in range(len(neighbors(G))):\n",
    "        perm = permutations(neighbors(G)[i])\n",
    "        Permutations.append(list(perm)) \n",
    "   \n",
    "    return [[Permutations[i][j] for i in range (len(Permutations))] for j in range (0,2)]\n",
    "\n",
    "\n",
    "def phi(S,x):\n",
    "    #in permutation S = (0,1,...,n-1) we have phi(S,i) = i+1 (mod n).\n",
    "    for i in range (0,len(S)-1):\n",
    "        if S[i] == x:\n",
    "            return S[i+1]\n",
    "    for i in range (len(S)-1,len(S)):\n",
    "        if S[i] == x:\n",
    "            return S[0]"
   ]
  },
  {
   "cell_type": "code",
   "execution_count": 30,
   "metadata": {},
   "outputs": [],
   "source": [
    "def FW(e):\n",
    "    e0 = e\n",
    "    FW = [e[0],e[1]]\n",
    "    A = Perm(G)[0]\n",
    "    B = Perm(G)[1]\n",
    "    for i in range (2*len(E)):    \n",
    "        FW.append(phi(A[e[1]],e[0]))\n",
    "        e = (e[1],phi(A[e[1]],e[0]))\n",
    "        if e == e0:\n",
    "            break\n",
    "    return FW\n"
   ]
  },
  {
   "cell_type": "code",
   "execution_count": 31,
   "metadata": {},
   "outputs": [
    {
     "data": {
      "text/plain": [
       "[0, 1, 2, 3, 0, 1]"
      ]
     },
     "execution_count": 31,
     "metadata": {},
     "output_type": "execute_result"
    }
   ],
   "source": [
    "G = graphs.CompleteGraph(4)\n",
    "\n",
    "V = G.vertices()\n",
    "\n",
    "E = G.edges(labels=None)\n",
    "\n",
    "FW((0,1))"
   ]
  },
  {
   "cell_type": "code",
   "execution_count": 32,
   "metadata": {},
   "outputs": [
    {
     "data": {
      "text/plain": [
       "[1, 0, 2, 1, 3, 2, 0, 3, 1, 0]"
      ]
     },
     "execution_count": 32,
     "metadata": {},
     "output_type": "execute_result"
    }
   ],
   "source": [
    "FW((1,0))"
   ]
  },
  {
   "cell_type": "code",
   "execution_count": 33,
   "metadata": {},
   "outputs": [
    {
     "name": "stdout",
     "output_type": "stream",
     "text": [
      "[(1, 2, 3), (0, 2, 3), (0, 1, 3), (0, 1, 2)] [(1, 3, 2), (0, 3, 2), (0, 3, 1), (0, 2, 1)]\n"
     ]
    }
   ],
   "source": [
    "A = Perm(G)[0]\n",
    "B = Perm(G)[1]\n",
    "print(A,B)"
   ]
  },
  {
   "cell_type": "code",
   "execution_count": 34,
   "metadata": {},
   "outputs": [],
   "source": [
    "T = A[1]\n",
    "A[1] = B[1]\n",
    "B[1] = T"
   ]
  },
  {
   "cell_type": "code",
   "execution_count": 35,
   "metadata": {},
   "outputs": [
    {
     "name": "stdout",
     "output_type": "stream",
     "text": [
      "[(1, 2, 3), (0, 3, 2), (0, 1, 3), (0, 1, 2)] [(1, 3, 2), (0, 2, 3), (0, 3, 1), (0, 2, 1)]\n"
     ]
    }
   ],
   "source": [
    "print(A,B)"
   ]
  },
  {
   "cell_type": "code",
   "execution_count": null,
   "metadata": {},
   "outputs": [],
   "source": []
  },
  {
   "cell_type": "code",
   "execution_count": null,
   "metadata": {},
   "outputs": [],
   "source": []
  }
 ],
 "metadata": {
  "kernelspec": {
   "display_name": "SageMath 9.4",
   "language": "sage",
   "name": "sagemath"
  },
  "language_info": {
   "codemirror_mode": {
    "name": "ipython",
    "version": 3
   },
   "file_extension": ".py",
   "mimetype": "text/x-python",
   "name": "python",
   "nbconvert_exporter": "python",
   "pygments_lexer": "ipython3",
   "version": "3.7.3"
  }
 },
 "nbformat": 4,
 "nbformat_minor": 4
}
